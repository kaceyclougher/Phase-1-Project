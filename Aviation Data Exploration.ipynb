{
 "cells": [
  {
   "cell_type": "markdown",
   "metadata": {},
   "source": [
    "## Exploring Airplane Safety Data"
   ]
  },
  {
   "cell_type": "code",
<<<<<<< HEAD
   "execution_count": 41,
=======
   "execution_count": 495,
>>>>>>> master
   "metadata": {},
   "outputs": [],
   "source": [
    "import pandas as pd"
   ]
  },
  {
   "cell_type": "code",
<<<<<<< HEAD
   "execution_count": 146,
=======
   "execution_count": 496,
>>>>>>> master
   "metadata": {
    "scrolled": true
   },
   "outputs": [
    {
     "name": "stdout",
     "output_type": "stream",
     "text": [
<<<<<<< HEAD
      "Analysis Outline.ipynb\r\n",
      "Aviation Data Exploration.ipynb\r\n",
      "CONTRIBUTING.md\r\n",
      "Clean_AviationII.csv\r\n",
      "Irwin's Analysis.ipynb\r\n",
      "LICENSE.md\r\n",
      "Phase 1 Project Final.ipynb\r\n",
      "Phase of Flight and Safety Score Analysis-Copy1.ipynb\r\n",
      "Phase of Flight and Safety Score Analysis.ipynb\r\n",
      "README.md\r\n",
      "Years and Purpose .ipynb\r\n",
      "\u001b[34mdata\u001b[m\u001b[m\r\n",
      "example_dashboard.png\r\n",
      "student.ipynb\r\n"
=======
      "Analysis Outline.ipynb          \u001b[34mPhase-1-Project\u001b[m\u001b[m\r\n",
      "Aviation Data Exploration.ipynb\r\n"
>>>>>>> master
     ]
    }
   ],
   "source": [
    "!ls"
   ]
  },
  {
   "cell_type": "markdown",
   "metadata": {},
   "source": [
    "## Read CSV"
   ]
  },
  {
   "cell_type": "code",
<<<<<<< HEAD
   "execution_count": 147,
=======
   "execution_count": 497,
>>>>>>> master
   "metadata": {},
   "outputs": [
    {
     "name": "stderr",
     "output_type": "stream",
     "text": [
      "/Users/kaceyclougher/anaconda3/envs/learn-env/lib/python3.8/site-packages/IPython/core/interactiveshell.py:3145: DtypeWarning: Columns (6,7,28) have mixed types.Specify dtype option on import or set low_memory=False.\n",
      "  has_raised = await self.run_ast_nodes(code_ast.body, cell_name,\n"
     ]
    }
   ],
   "source": [
<<<<<<< HEAD
    "df = pd.read_csv('data/Aviation_data.csv')"
=======
    "df = pd.read_csv('Phase-1-Project/data/Aviation_data.csv')"
>>>>>>> master
   ]
  },
  {
   "cell_type": "code",
<<<<<<< HEAD
   "execution_count": 148,
=======
   "execution_count": 498,
>>>>>>> master
   "metadata": {
    "scrolled": true
   },
   "outputs": [
    {
     "name": "stdout",
     "output_type": "stream",
     "text": [
      "<class 'pandas.core.frame.DataFrame'>\n",
      "RangeIndex: 90348 entries, 0 to 90347\n",
      "Data columns (total 31 columns):\n",
      " #   Column                  Non-Null Count  Dtype  \n",
      "---  ------                  --------------  -----  \n",
      " 0   Event.Id                88889 non-null  object \n",
      " 1   Investigation.Type      90348 non-null  object \n",
      " 2   Accident.Number         88889 non-null  object \n",
      " 3   Event.Date              88889 non-null  object \n",
      " 4   Location                88837 non-null  object \n",
      " 5   Country                 88663 non-null  object \n",
      " 6   Latitude                34382 non-null  object \n",
      " 7   Longitude               34373 non-null  object \n",
      " 8   Airport.Code            50249 non-null  object \n",
      " 9   Airport.Name            52790 non-null  object \n",
      " 10  Injury.Severity         87889 non-null  object \n",
      " 11  Aircraft.damage         85695 non-null  object \n",
      " 12  Aircraft.Category       32287 non-null  object \n",
      " 13  Registration.Number     87572 non-null  object \n",
      " 14  Make                    88826 non-null  object \n",
      " 15  Model                   88797 non-null  object \n",
      " 16  Amateur.Built           88787 non-null  object \n",
      " 17  Number.of.Engines       82805 non-null  float64\n",
      " 18  Engine.Type             81812 non-null  object \n",
      " 19  FAR.Description         32023 non-null  object \n",
      " 20  Schedule                12582 non-null  object \n",
      " 21  Purpose.of.flight       82697 non-null  object \n",
      " 22  Air.carrier             16648 non-null  object \n",
      " 23  Total.Fatal.Injuries    77488 non-null  float64\n",
      " 24  Total.Serious.Injuries  76379 non-null  float64\n",
      " 25  Total.Minor.Injuries    76956 non-null  float64\n",
      " 26  Total.Uninjured         82977 non-null  float64\n",
      " 27  Weather.Condition       84397 non-null  object \n",
      " 28  Broad.phase.of.flight   61724 non-null  object \n",
      " 29  Report.Status           82508 non-null  object \n",
      " 30  Publication.Date        73659 non-null  object \n",
      "dtypes: float64(5), object(26)\n",
      "memory usage: 21.4+ MB\n"
     ]
    }
   ],
   "source": [
<<<<<<< HEAD
    "#Initial inspection shows a large number of Null values in each column\n",
    "\n",
=======
>>>>>>> master
    "df.info()"
   ]
  },
  {
   "cell_type": "code",
<<<<<<< HEAD
   "execution_count": 149,
   "metadata": {
    "scrolled": true
   },
=======
   "execution_count": 499,
   "metadata": {},
>>>>>>> master
   "outputs": [
    {
     "data": {
      "text/html": [
       "<div>\n",
       "<style scoped>\n",
       "    .dataframe tbody tr th:only-of-type {\n",
       "        vertical-align: middle;\n",
       "    }\n",
       "\n",
       "    .dataframe tbody tr th {\n",
       "        vertical-align: top;\n",
       "    }\n",
       "\n",
       "    .dataframe thead th {\n",
       "        text-align: right;\n",
       "    }\n",
       "</style>\n",
       "<table border=\"1\" class=\"dataframe\">\n",
       "  <thead>\n",
       "    <tr style=\"text-align: right;\">\n",
       "      <th></th>\n",
       "      <th>Number.of.Engines</th>\n",
       "      <th>Total.Fatal.Injuries</th>\n",
       "      <th>Total.Serious.Injuries</th>\n",
       "      <th>Total.Minor.Injuries</th>\n",
       "      <th>Total.Uninjured</th>\n",
       "    </tr>\n",
       "  </thead>\n",
       "  <tbody>\n",
       "    <tr>\n",
       "      <th>count</th>\n",
       "      <td>82805.000000</td>\n",
       "      <td>77488.000000</td>\n",
       "      <td>76379.000000</td>\n",
       "      <td>76956.000000</td>\n",
       "      <td>82977.000000</td>\n",
       "    </tr>\n",
       "    <tr>\n",
       "      <th>mean</th>\n",
       "      <td>1.146585</td>\n",
       "      <td>0.647855</td>\n",
       "      <td>0.279881</td>\n",
       "      <td>0.357061</td>\n",
       "      <td>5.325440</td>\n",
       "    </tr>\n",
       "    <tr>\n",
       "      <th>std</th>\n",
       "      <td>0.446510</td>\n",
       "      <td>5.485960</td>\n",
       "      <td>1.544084</td>\n",
       "      <td>2.235625</td>\n",
       "      <td>27.913634</td>\n",
       "    </tr>\n",
       "    <tr>\n",
       "      <th>min</th>\n",
       "      <td>0.000000</td>\n",
       "      <td>0.000000</td>\n",
       "      <td>0.000000</td>\n",
       "      <td>0.000000</td>\n",
       "      <td>0.000000</td>\n",
       "    </tr>\n",
       "    <tr>\n",
       "      <th>25%</th>\n",
       "      <td>1.000000</td>\n",
       "      <td>0.000000</td>\n",
       "      <td>0.000000</td>\n",
       "      <td>0.000000</td>\n",
       "      <td>0.000000</td>\n",
       "    </tr>\n",
       "    <tr>\n",
       "      <th>50%</th>\n",
       "      <td>1.000000</td>\n",
       "      <td>0.000000</td>\n",
       "      <td>0.000000</td>\n",
       "      <td>0.000000</td>\n",
       "      <td>1.000000</td>\n",
       "    </tr>\n",
       "    <tr>\n",
       "      <th>75%</th>\n",
       "      <td>1.000000</td>\n",
       "      <td>0.000000</td>\n",
       "      <td>0.000000</td>\n",
       "      <td>0.000000</td>\n",
       "      <td>2.000000</td>\n",
       "    </tr>\n",
       "    <tr>\n",
       "      <th>max</th>\n",
       "      <td>8.000000</td>\n",
       "      <td>349.000000</td>\n",
       "      <td>161.000000</td>\n",
       "      <td>380.000000</td>\n",
       "      <td>699.000000</td>\n",
       "    </tr>\n",
       "  </tbody>\n",
       "</table>\n",
       "</div>"
      ],
      "text/plain": [
       "       Number.of.Engines  Total.Fatal.Injuries  Total.Serious.Injuries  \\\n",
       "count       82805.000000          77488.000000            76379.000000   \n",
       "mean            1.146585              0.647855                0.279881   \n",
       "std             0.446510              5.485960                1.544084   \n",
       "min             0.000000              0.000000                0.000000   \n",
       "25%             1.000000              0.000000                0.000000   \n",
       "50%             1.000000              0.000000                0.000000   \n",
       "75%             1.000000              0.000000                0.000000   \n",
       "max             8.000000            349.000000              161.000000   \n",
       "\n",
       "       Total.Minor.Injuries  Total.Uninjured  \n",
       "count          76956.000000     82977.000000  \n",
       "mean               0.357061         5.325440  \n",
       "std                2.235625        27.913634  \n",
       "min                0.000000         0.000000  \n",
       "25%                0.000000         0.000000  \n",
       "50%                0.000000         1.000000  \n",
       "75%                0.000000         2.000000  \n",
       "max              380.000000       699.000000  "
      ]
     },
<<<<<<< HEAD
     "execution_count": 149,
=======
     "execution_count": 499,
>>>>>>> master
     "metadata": {},
     "output_type": "execute_result"
    }
   ],
   "source": [
<<<<<<< HEAD
    "#Initial numerical data investigation\n",
    "\n",
    "df.describe()"
=======
    "df.describe() #numerical columns"
>>>>>>> master
   ]
  },
  {
   "cell_type": "code",
<<<<<<< HEAD
   "execution_count": 150,
=======
   "execution_count": 500,
>>>>>>> master
   "metadata": {
    "scrolled": false
   },
   "outputs": [
    {
     "data": {
      "text/plain": [
       "Event.Id                   1459\n",
       "Investigation.Type            0\n",
       "Accident.Number            1459\n",
       "Event.Date                 1459\n",
       "Location                   1511\n",
       "Country                    1685\n",
       "Latitude                  55966\n",
       "Longitude                 55975\n",
       "Airport.Code              40099\n",
       "Airport.Name              37558\n",
       "Injury.Severity            2459\n",
       "Aircraft.damage            4653\n",
       "Aircraft.Category         58061\n",
       "Registration.Number        2776\n",
       "Make                       1522\n",
       "Model                      1551\n",
       "Amateur.Built              1561\n",
       "Number.of.Engines          7543\n",
       "Engine.Type                8536\n",
       "FAR.Description           58325\n",
       "Schedule                  77766\n",
       "Purpose.of.flight          7651\n",
       "Air.carrier               73700\n",
       "Total.Fatal.Injuries      12860\n",
       "Total.Serious.Injuries    13969\n",
       "Total.Minor.Injuries      13392\n",
       "Total.Uninjured            7371\n",
       "Weather.Condition          5951\n",
       "Broad.phase.of.flight     28624\n",
       "Report.Status              7840\n",
       "Publication.Date          16689\n",
       "dtype: int64"
      ]
     },
<<<<<<< HEAD
     "execution_count": 150,
=======
     "execution_count": 500,
>>>>>>> master
     "metadata": {},
     "output_type": "execute_result"
    }
   ],
   "source": [
<<<<<<< HEAD
    "#Nulls values per column \n",
=======
>>>>>>> master
    "df.isna().sum()"
   ]
  },
  {
<<<<<<< HEAD
   "cell_type": "code",
   "execution_count": 151,
   "metadata": {},
   "outputs": [
    {
     "data": {
      "text/plain": [
       "Airplane             27617\n",
       "Helicopter            3440\n",
       "Glider                 508\n",
       "Balloon                231\n",
       "Gyrocraft              173\n",
       "Weight-Shift           161\n",
       "Powered Parachute       91\n",
       "Ultralight              30\n",
       "Unknown                 14\n",
       "WSFT                     9\n",
       "Powered-Lift             5\n",
       "Blimp                    4\n",
       "UNK                      2\n",
       "ULTR                     1\n",
       "Rocket                   1\n",
       "Name: Aircraft.Category, dtype: int64"
      ]
     },
     "execution_count": 151,
     "metadata": {},
     "output_type": "execute_result"
    }
   ],
   "source": [
    "df['Aircraft.Category'].value_counts()"
   ]
  },
  {
=======
>>>>>>> master
   "cell_type": "markdown",
   "metadata": {},
   "source": [
    "# Data Cleaning "
   ]
  },
  {
   "cell_type": "code",
<<<<<<< HEAD
   "execution_count": 152,
=======
   "execution_count": 501,
>>>>>>> master
   "metadata": {},
   "outputs": [],
   "source": [
    "#Cols to Drop\n",
    "\n",
    "df.drop(columns = ['Latitude', 'Longitude', 'Airport.Code', 'Airport.Name', \n",
    "                   'Investigation.Type', 'Registration.Number', 'Publication.Date',\n",
<<<<<<< HEAD
    "                   'FAR.Description', 'Schedule', 'Air.carrier', 'Amateur.Built', 'Report.Status'], inplace = True)"
=======
    "                   'FAR.Description', 'Schedule', 'Air.carrier', 'Amateur.Built', 'Aircraft.Category'], inplace = True)"
>>>>>>> master
   ]
  },
  {
   "cell_type": "code",
<<<<<<< HEAD
   "execution_count": 153,
=======
   "execution_count": 502,
>>>>>>> master
   "metadata": {},
   "outputs": [],
   "source": [
    "#Change Column names\n",
    "\n",
    "df.columns = df.columns.str.replace('.', '_')"
   ]
  },
  {
   "cell_type": "code",
<<<<<<< HEAD
   "execution_count": 154,
=======
   "execution_count": 503,
>>>>>>> master
   "metadata": {},
   "outputs": [
    {
     "data": {
      "text/plain": [
       "False    88888\n",
       "dtype: int64"
      ]
     },
<<<<<<< HEAD
     "execution_count": 154,
=======
     "execution_count": 503,
>>>>>>> master
     "metadata": {},
     "output_type": "execute_result"
    }
   ],
   "source": [
    "#Duplicates \n",
    "\n",
    "#Drop\n",
    "df.drop_duplicates(inplace = True)\n",
    "\n",
    "#Check duplicates have been deleted\n",
    "df.duplicated().value_counts()"
   ]
  },
  {
   "cell_type": "code",
<<<<<<< HEAD
   "execution_count": 155,
=======
   "execution_count": 504,
>>>>>>> master
   "metadata": {},
   "outputs": [],
   "source": [
    "#Event_Id drop\n",
    "\n",
    "#df.dropna(subset = ['Event_Id'], inplace = True)\n",
    "df.dropna(subset = ['Accident_Number', 'Event_Date'], inplace = True)\n"
   ]
  },
  {
   "cell_type": "markdown",
   "metadata": {},
   "source": [
    "## Goal to make following down the line 0"
   ]
  },
  {
   "cell_type": "code",
<<<<<<< HEAD
   "execution_count": 156,
   "metadata": {
    "scrolled": false
   },
=======
   "execution_count": 505,
   "metadata": {},
>>>>>>> master
   "outputs": [
    {
     "data": {
      "text/plain": [
       "Event_Id                      0\n",
       "Accident_Number               0\n",
       "Event_Date                    0\n",
       "Location                     52\n",
       "Country                     226\n",
       "Injury_Severity             999\n",
       "Aircraft_damage            3193\n",
<<<<<<< HEAD
       "Aircraft_Category         56602\n",
=======
>>>>>>> master
       "Make                         63\n",
       "Model                        92\n",
       "Number_of_Engines          6083\n",
       "Engine_Type                7075\n",
       "Purpose_of_flight          6191\n",
       "Total_Fatal_Injuries      11401\n",
       "Total_Serious_Injuries    12510\n",
       "Total_Minor_Injuries      11933\n",
       "Total_Uninjured            5912\n",
       "Weather_Condition          4491\n",
       "Broad_phase_of_flight     27163\n",
<<<<<<< HEAD
       "dtype: int64"
      ]
     },
     "execution_count": 156,
=======
       "Report_Status              6379\n",
       "dtype: int64"
      ]
     },
     "execution_count": 505,
>>>>>>> master
     "metadata": {},
     "output_type": "execute_result"
    }
   ],
   "source": [
<<<<<<< HEAD
    "df.isna().sum() #remove the nulls"
=======
    "df.isna().sum() #remove the nulls, "
>>>>>>> master
   ]
  },
  {
   "cell_type": "markdown",
   "metadata": {},
   "source": [
<<<<<<< HEAD
    "## Cleaning Dates - Done"
=======
    "## Cleaning Weather - Done"
>>>>>>> master
   ]
  },
  {
   "cell_type": "code",
<<<<<<< HEAD
   "execution_count": 157,
   "metadata": {},
   "outputs": [],
   "source": [
    "df['Event_Date'] = pd.to_datetime(df['Event_Date'])\n",
    "\n",
    "# Extract year, month, and day\n",
    "df['created_year'] = df['Event_Date'].dt.year\n",
    "df['created_month'] = df['Event_Date'].dt.month\n",
    "df['created_day'] = df['Event_Date'].dt.day"
   ]
  },
  {
   "cell_type": "markdown",
   "metadata": {},
   "source": [
    "## Scrubbing Non-Aircrafts from dataset"
=======
   "execution_count": 506,
   "metadata": {},
   "outputs": [],
   "source": [
    "df['Weather_Condition'] = df['Weather_Condition'].apply(lambda x: str(x).upper())"
   ]
  },
  {
   "cell_type": "code",
   "execution_count": 507,
   "metadata": {},
   "outputs": [],
   "source": [
    "df['Weather_Condition'] = df['Weather_Condition'].apply(lambda x : 'UNK' if ((x == 'NAN') | (x == 'Unk')) else x)"
>>>>>>> master
   ]
  },
  {
   "cell_type": "code",
<<<<<<< HEAD
   "execution_count": 158,
   "metadata": {
    "scrolled": true
   },
=======
   "execution_count": 508,
   "metadata": {},
>>>>>>> master
   "outputs": [
    {
     "data": {
      "text/plain": [
<<<<<<< HEAD
       "Airplane    27615\n",
       "Name: Aircraft_Category, dtype: int64"
      ]
     },
     "execution_count": 158,
=======
       "VMC    77302\n",
       "IMC     5976\n",
       "UNK     5609\n",
       "Name: Weather_Condition, dtype: int64"
      ]
     },
     "execution_count": 508,
>>>>>>> master
     "metadata": {},
     "output_type": "execute_result"
    }
   ],
   "source": [
<<<<<<< HEAD
    "#Remove non-aircrafts\n",
    "df = df[df['Aircraft_Category'] == 'Airplane']\n",
    "\n",
    "#Check\n",
    "df['Aircraft_Category'].value_counts()"
   ]
  },
  {
   "cell_type": "markdown",
   "metadata": {},
   "source": [
    "## Cleaning Weather - Done"
   ]
  },
  {
   "cell_type": "code",
   "execution_count": 159,
   "metadata": {},
   "outputs": [],
   "source": [
    "df['Weather_Condition'] = df['Weather_Condition'].apply(lambda x: str(x).upper())"
   ]
  },
  {
   "cell_type": "code",
   "execution_count": 160,
   "metadata": {},
   "outputs": [],
   "source": [
    "df['Weather_Condition'] = df['Weather_Condition'].apply(lambda x : 'UNK' if ((x == 'NAN') | (x == 'Unk')) else x)"
=======
    "df['Weather_Condition'].value_counts()"
>>>>>>> master
   ]
  },
  {
   "cell_type": "code",
<<<<<<< HEAD
   "execution_count": 161,
   "metadata": {},
   "outputs": [
    {
     "data": {
      "text/plain": [
       "VMC    22768\n",
       "UNK     3438\n",
       "IMC     1409\n",
       "Name: Weather_Condition, dtype: int64"
      ]
     },
     "execution_count": 161,
=======
   "execution_count": 509,
   "metadata": {
    "scrolled": true
   },
   "outputs": [
    {
     "data": {
      "text/html": [
       "<div>\n",
       "<style scoped>\n",
       "    .dataframe tbody tr th:only-of-type {\n",
       "        vertical-align: middle;\n",
       "    }\n",
       "\n",
       "    .dataframe tbody tr th {\n",
       "        vertical-align: top;\n",
       "    }\n",
       "\n",
       "    .dataframe thead th {\n",
       "        text-align: right;\n",
       "    }\n",
       "</style>\n",
       "<table border=\"1\" class=\"dataframe\">\n",
       "  <thead>\n",
       "    <tr style=\"text-align: right;\">\n",
       "      <th></th>\n",
       "      <th>Event_Id</th>\n",
       "      <th>Accident_Number</th>\n",
       "      <th>Event_Date</th>\n",
       "      <th>Location</th>\n",
       "      <th>Country</th>\n",
       "      <th>Injury_Severity</th>\n",
       "      <th>Aircraft_damage</th>\n",
       "      <th>Make</th>\n",
       "      <th>Model</th>\n",
       "      <th>Number_of_Engines</th>\n",
       "      <th>Engine_Type</th>\n",
       "      <th>Purpose_of_flight</th>\n",
       "      <th>Total_Fatal_Injuries</th>\n",
       "      <th>Total_Serious_Injuries</th>\n",
       "      <th>Total_Minor_Injuries</th>\n",
       "      <th>Total_Uninjured</th>\n",
       "      <th>Weather_Condition</th>\n",
       "      <th>Broad_phase_of_flight</th>\n",
       "      <th>Report_Status</th>\n",
       "    </tr>\n",
       "  </thead>\n",
       "  <tbody>\n",
       "    <tr>\n",
       "      <th>0</th>\n",
       "      <td>20001218X45444</td>\n",
       "      <td>SEA87LA080</td>\n",
       "      <td>1948-10-24</td>\n",
       "      <td>MOOSE CREEK, ID</td>\n",
       "      <td>United States</td>\n",
       "      <td>Fatal(2)</td>\n",
       "      <td>Destroyed</td>\n",
       "      <td>Stinson</td>\n",
       "      <td>108-3</td>\n",
       "      <td>1.0</td>\n",
       "      <td>Reciprocating</td>\n",
       "      <td>Personal</td>\n",
       "      <td>2.0</td>\n",
       "      <td>0.0</td>\n",
       "      <td>0.0</td>\n",
       "      <td>0.0</td>\n",
       "      <td>UNK</td>\n",
       "      <td>Cruise</td>\n",
       "      <td>Probable Cause</td>\n",
       "    </tr>\n",
       "    <tr>\n",
       "      <th>1</th>\n",
       "      <td>20001218X45447</td>\n",
       "      <td>LAX94LA336</td>\n",
       "      <td>1962-07-19</td>\n",
       "      <td>BRIDGEPORT, CA</td>\n",
       "      <td>United States</td>\n",
       "      <td>Fatal(4)</td>\n",
       "      <td>Destroyed</td>\n",
       "      <td>Piper</td>\n",
       "      <td>PA24-180</td>\n",
       "      <td>1.0</td>\n",
       "      <td>Reciprocating</td>\n",
       "      <td>Personal</td>\n",
       "      <td>4.0</td>\n",
       "      <td>0.0</td>\n",
       "      <td>0.0</td>\n",
       "      <td>0.0</td>\n",
       "      <td>UNK</td>\n",
       "      <td>Unknown</td>\n",
       "      <td>Probable Cause</td>\n",
       "    </tr>\n",
       "    <tr>\n",
       "      <th>2</th>\n",
       "      <td>20061025X01555</td>\n",
       "      <td>NYC07LA005</td>\n",
       "      <td>1974-08-30</td>\n",
       "      <td>Saltville, VA</td>\n",
       "      <td>United States</td>\n",
       "      <td>Fatal(3)</td>\n",
       "      <td>Destroyed</td>\n",
       "      <td>Cessna</td>\n",
       "      <td>172M</td>\n",
       "      <td>1.0</td>\n",
       "      <td>Reciprocating</td>\n",
       "      <td>Personal</td>\n",
       "      <td>3.0</td>\n",
       "      <td>NaN</td>\n",
       "      <td>NaN</td>\n",
       "      <td>NaN</td>\n",
       "      <td>IMC</td>\n",
       "      <td>Cruise</td>\n",
       "      <td>Probable Cause</td>\n",
       "    </tr>\n",
       "    <tr>\n",
       "      <th>3</th>\n",
       "      <td>20001218X45448</td>\n",
       "      <td>LAX96LA321</td>\n",
       "      <td>1977-06-19</td>\n",
       "      <td>EUREKA, CA</td>\n",
       "      <td>United States</td>\n",
       "      <td>Fatal(2)</td>\n",
       "      <td>Destroyed</td>\n",
       "      <td>Rockwell</td>\n",
       "      <td>112</td>\n",
       "      <td>1.0</td>\n",
       "      <td>Reciprocating</td>\n",
       "      <td>Personal</td>\n",
       "      <td>2.0</td>\n",
       "      <td>0.0</td>\n",
       "      <td>0.0</td>\n",
       "      <td>0.0</td>\n",
       "      <td>IMC</td>\n",
       "      <td>Cruise</td>\n",
       "      <td>Probable Cause</td>\n",
       "    </tr>\n",
       "    <tr>\n",
       "      <th>4</th>\n",
       "      <td>20041105X01764</td>\n",
       "      <td>CHI79FA064</td>\n",
       "      <td>1979-08-02</td>\n",
       "      <td>Canton, OH</td>\n",
       "      <td>United States</td>\n",
       "      <td>Fatal(1)</td>\n",
       "      <td>Destroyed</td>\n",
       "      <td>Cessna</td>\n",
       "      <td>501</td>\n",
       "      <td>NaN</td>\n",
       "      <td>NaN</td>\n",
       "      <td>Personal</td>\n",
       "      <td>1.0</td>\n",
       "      <td>2.0</td>\n",
       "      <td>NaN</td>\n",
       "      <td>0.0</td>\n",
       "      <td>VMC</td>\n",
       "      <td>Approach</td>\n",
       "      <td>Probable Cause</td>\n",
       "    </tr>\n",
       "  </tbody>\n",
       "</table>\n",
       "</div>"
      ],
      "text/plain": [
       "         Event_Id Accident_Number  Event_Date         Location        Country  \\\n",
       "0  20001218X45444      SEA87LA080  1948-10-24  MOOSE CREEK, ID  United States   \n",
       "1  20001218X45447      LAX94LA336  1962-07-19   BRIDGEPORT, CA  United States   \n",
       "2  20061025X01555      NYC07LA005  1974-08-30    Saltville, VA  United States   \n",
       "3  20001218X45448      LAX96LA321  1977-06-19       EUREKA, CA  United States   \n",
       "4  20041105X01764      CHI79FA064  1979-08-02       Canton, OH  United States   \n",
       "\n",
       "  Injury_Severity Aircraft_damage      Make     Model  Number_of_Engines  \\\n",
       "0        Fatal(2)       Destroyed   Stinson     108-3                1.0   \n",
       "1        Fatal(4)       Destroyed     Piper  PA24-180                1.0   \n",
       "2        Fatal(3)       Destroyed    Cessna      172M                1.0   \n",
       "3        Fatal(2)       Destroyed  Rockwell       112                1.0   \n",
       "4        Fatal(1)       Destroyed    Cessna       501                NaN   \n",
       "\n",
       "     Engine_Type Purpose_of_flight  Total_Fatal_Injuries  \\\n",
       "0  Reciprocating          Personal                   2.0   \n",
       "1  Reciprocating          Personal                   4.0   \n",
       "2  Reciprocating          Personal                   3.0   \n",
       "3  Reciprocating          Personal                   2.0   \n",
       "4            NaN          Personal                   1.0   \n",
       "\n",
       "   Total_Serious_Injuries  Total_Minor_Injuries  Total_Uninjured  \\\n",
       "0                     0.0                   0.0              0.0   \n",
       "1                     0.0                   0.0              0.0   \n",
       "2                     NaN                   NaN              NaN   \n",
       "3                     0.0                   0.0              0.0   \n",
       "4                     2.0                   NaN              0.0   \n",
       "\n",
       "  Weather_Condition Broad_phase_of_flight   Report_Status  \n",
       "0               UNK                Cruise  Probable Cause  \n",
       "1               UNK               Unknown  Probable Cause  \n",
       "2               IMC                Cruise  Probable Cause  \n",
       "3               IMC                Cruise  Probable Cause  \n",
       "4               VMC              Approach  Probable Cause  "
      ]
     },
     "execution_count": 509,
>>>>>>> master
     "metadata": {},
     "output_type": "execute_result"
    }
   ],
   "source": [
<<<<<<< HEAD
    "df['Weather_Condition'].value_counts()"
=======
    "df.head()"
>>>>>>> master
   ]
  },
  {
   "cell_type": "markdown",
   "metadata": {},
   "source": [
    "## Cleaning Injuries - Done"
   ]
  },
  {
   "cell_type": "code",
<<<<<<< HEAD
   "execution_count": 162,
=======
   "execution_count": 510,
>>>>>>> master
   "metadata": {},
   "outputs": [
    {
     "data": {
      "text/plain": [
       "0"
      ]
     },
<<<<<<< HEAD
     "execution_count": 162,
=======
     "execution_count": 510,
>>>>>>> master
     "metadata": {},
     "output_type": "execute_result"
    }
   ],
   "source": [
    "#Cleaning up injuries\n",
    "df['Total_Fatal_Injuries'].value_counts().unique()\n",
    "\n",
    "#Replace with mode (0)\n",
    "df['Total_Fatal_Injuries'].fillna(0, inplace = True)\n",
    "\n",
    "#Check\n",
    "df['Total_Fatal_Injuries'].isna().sum()"
   ]
  },
  {
   "cell_type": "code",
<<<<<<< HEAD
   "execution_count": 163,
=======
   "execution_count": 511,
>>>>>>> master
   "metadata": {},
   "outputs": [
    {
     "data": {
      "text/plain": [
       "0"
      ]
     },
<<<<<<< HEAD
     "execution_count": 163,
=======
     "execution_count": 511,
>>>>>>> master
     "metadata": {},
     "output_type": "execute_result"
    }
   ],
   "source": [
    "#Cleaning up injuries\n",
    "df['Total_Serious_Injuries'].value_counts().unique()\n",
    "\n",
    "#Replace with mode (0)\n",
    "df['Total_Serious_Injuries'].fillna(0, inplace = True)\n",
    "\n",
    "#Check\n",
    "df['Total_Serious_Injuries'].isna().sum()"
   ]
  },
  {
   "cell_type": "code",
<<<<<<< HEAD
   "execution_count": 164,
=======
   "execution_count": 512,
>>>>>>> master
   "metadata": {},
   "outputs": [
    {
     "data": {
      "text/plain": [
       "0"
      ]
     },
<<<<<<< HEAD
     "execution_count": 164,
=======
     "execution_count": 512,
>>>>>>> master
     "metadata": {},
     "output_type": "execute_result"
    }
   ],
   "source": [
    "#Cleaning up injuries\n",
    "df['Total_Minor_Injuries'].value_counts().unique()\n",
    "\n",
    "#Replace with mode (0)\n",
    "df['Total_Minor_Injuries'].fillna(0, inplace = True)\n",
    "\n",
    "#Check\n",
    "df['Total_Minor_Injuries'].isna().sum()"
   ]
  },
  {
   "cell_type": "code",
<<<<<<< HEAD
   "execution_count": 165,
=======
   "execution_count": 513,
>>>>>>> master
   "metadata": {
    "scrolled": false
   },
   "outputs": [
    {
     "data": {
      "text/plain": [
       "0"
      ]
     },
<<<<<<< HEAD
     "execution_count": 165,
=======
     "execution_count": 513,
>>>>>>> master
     "metadata": {},
     "output_type": "execute_result"
    }
   ],
   "source": [
    "#Cleaning up injuries\n",
    "df['Total_Uninjured'].value_counts().unique()\n",
    "\n",
    "#Replace with mode (0)\n",
    "df['Total_Uninjured'].fillna(0, inplace = True)\n",
    "\n",
    "#Check\n",
    "df['Total_Uninjured'].isna().sum()"
   ]
  },
  {
   "cell_type": "code",
<<<<<<< HEAD
   "execution_count": 166,
=======
   "execution_count": 514,
>>>>>>> master
   "metadata": {},
   "outputs": [
    {
     "data": {
<<<<<<< HEAD
      "text/plain": [
       "0"
      ]
     },
     "execution_count": 166,
=======
      "text/html": [
       "<div>\n",
       "<style scoped>\n",
       "    .dataframe tbody tr th:only-of-type {\n",
       "        vertical-align: middle;\n",
       "    }\n",
       "\n",
       "    .dataframe tbody tr th {\n",
       "        vertical-align: top;\n",
       "    }\n",
       "\n",
       "    .dataframe thead th {\n",
       "        text-align: right;\n",
       "    }\n",
       "</style>\n",
       "<table border=\"1\" class=\"dataframe\">\n",
       "  <thead>\n",
       "    <tr style=\"text-align: right;\">\n",
       "      <th></th>\n",
       "      <th>Event_Id</th>\n",
       "      <th>Accident_Number</th>\n",
       "      <th>Event_Date</th>\n",
       "      <th>Location</th>\n",
       "      <th>Country</th>\n",
       "      <th>Injury_Severity</th>\n",
       "      <th>Aircraft_damage</th>\n",
       "      <th>Make</th>\n",
       "      <th>Model</th>\n",
       "      <th>Number_of_Engines</th>\n",
       "      <th>Engine_Type</th>\n",
       "      <th>Purpose_of_flight</th>\n",
       "      <th>Total_Fatal_Injuries</th>\n",
       "      <th>Total_Serious_Injuries</th>\n",
       "      <th>Total_Minor_Injuries</th>\n",
       "      <th>Total_Uninjured</th>\n",
       "      <th>Weather_Condition</th>\n",
       "      <th>Broad_phase_of_flight</th>\n",
       "      <th>Report_Status</th>\n",
       "    </tr>\n",
       "  </thead>\n",
       "  <tbody>\n",
       "    <tr>\n",
       "      <th>0</th>\n",
       "      <td>20001218X45444</td>\n",
       "      <td>SEA87LA080</td>\n",
       "      <td>1948-10-24</td>\n",
       "      <td>MOOSE CREEK, ID</td>\n",
       "      <td>United States</td>\n",
       "      <td>Fatal(2)</td>\n",
       "      <td>Destroyed</td>\n",
       "      <td>Stinson</td>\n",
       "      <td>108-3</td>\n",
       "      <td>1.0</td>\n",
       "      <td>Reciprocating</td>\n",
       "      <td>Personal</td>\n",
       "      <td>2.0</td>\n",
       "      <td>0.0</td>\n",
       "      <td>0.0</td>\n",
       "      <td>0.0</td>\n",
       "      <td>UNK</td>\n",
       "      <td>Cruise</td>\n",
       "      <td>Probable Cause</td>\n",
       "    </tr>\n",
       "    <tr>\n",
       "      <th>1</th>\n",
       "      <td>20001218X45447</td>\n",
       "      <td>LAX94LA336</td>\n",
       "      <td>1962-07-19</td>\n",
       "      <td>BRIDGEPORT, CA</td>\n",
       "      <td>United States</td>\n",
       "      <td>Fatal(4)</td>\n",
       "      <td>Destroyed</td>\n",
       "      <td>Piper</td>\n",
       "      <td>PA24-180</td>\n",
       "      <td>1.0</td>\n",
       "      <td>Reciprocating</td>\n",
       "      <td>Personal</td>\n",
       "      <td>4.0</td>\n",
       "      <td>0.0</td>\n",
       "      <td>0.0</td>\n",
       "      <td>0.0</td>\n",
       "      <td>UNK</td>\n",
       "      <td>Unknown</td>\n",
       "      <td>Probable Cause</td>\n",
       "    </tr>\n",
       "    <tr>\n",
       "      <th>2</th>\n",
       "      <td>20061025X01555</td>\n",
       "      <td>NYC07LA005</td>\n",
       "      <td>1974-08-30</td>\n",
       "      <td>Saltville, VA</td>\n",
       "      <td>United States</td>\n",
       "      <td>Fatal(3)</td>\n",
       "      <td>Destroyed</td>\n",
       "      <td>Cessna</td>\n",
       "      <td>172M</td>\n",
       "      <td>1.0</td>\n",
       "      <td>Reciprocating</td>\n",
       "      <td>Personal</td>\n",
       "      <td>3.0</td>\n",
       "      <td>0.0</td>\n",
       "      <td>0.0</td>\n",
       "      <td>0.0</td>\n",
       "      <td>IMC</td>\n",
       "      <td>Cruise</td>\n",
       "      <td>Probable Cause</td>\n",
       "    </tr>\n",
       "    <tr>\n",
       "      <th>3</th>\n",
       "      <td>20001218X45448</td>\n",
       "      <td>LAX96LA321</td>\n",
       "      <td>1977-06-19</td>\n",
       "      <td>EUREKA, CA</td>\n",
       "      <td>United States</td>\n",
       "      <td>Fatal(2)</td>\n",
       "      <td>Destroyed</td>\n",
       "      <td>Rockwell</td>\n",
       "      <td>112</td>\n",
       "      <td>1.0</td>\n",
       "      <td>Reciprocating</td>\n",
       "      <td>Personal</td>\n",
       "      <td>2.0</td>\n",
       "      <td>0.0</td>\n",
       "      <td>0.0</td>\n",
       "      <td>0.0</td>\n",
       "      <td>IMC</td>\n",
       "      <td>Cruise</td>\n",
       "      <td>Probable Cause</td>\n",
       "    </tr>\n",
       "    <tr>\n",
       "      <th>4</th>\n",
       "      <td>20041105X01764</td>\n",
       "      <td>CHI79FA064</td>\n",
       "      <td>1979-08-02</td>\n",
       "      <td>Canton, OH</td>\n",
       "      <td>United States</td>\n",
       "      <td>Fatal(1)</td>\n",
       "      <td>Destroyed</td>\n",
       "      <td>Cessna</td>\n",
       "      <td>501</td>\n",
       "      <td>NaN</td>\n",
       "      <td>NaN</td>\n",
       "      <td>Personal</td>\n",
       "      <td>1.0</td>\n",
       "      <td>2.0</td>\n",
       "      <td>0.0</td>\n",
       "      <td>0.0</td>\n",
       "      <td>VMC</td>\n",
       "      <td>Approach</td>\n",
       "      <td>Probable Cause</td>\n",
       "    </tr>\n",
       "  </tbody>\n",
       "</table>\n",
       "</div>"
      ],
      "text/plain": [
       "         Event_Id Accident_Number  Event_Date         Location        Country  \\\n",
       "0  20001218X45444      SEA87LA080  1948-10-24  MOOSE CREEK, ID  United States   \n",
       "1  20001218X45447      LAX94LA336  1962-07-19   BRIDGEPORT, CA  United States   \n",
       "2  20061025X01555      NYC07LA005  1974-08-30    Saltville, VA  United States   \n",
       "3  20001218X45448      LAX96LA321  1977-06-19       EUREKA, CA  United States   \n",
       "4  20041105X01764      CHI79FA064  1979-08-02       Canton, OH  United States   \n",
       "\n",
       "  Injury_Severity Aircraft_damage      Make     Model  Number_of_Engines  \\\n",
       "0        Fatal(2)       Destroyed   Stinson     108-3                1.0   \n",
       "1        Fatal(4)       Destroyed     Piper  PA24-180                1.0   \n",
       "2        Fatal(3)       Destroyed    Cessna      172M                1.0   \n",
       "3        Fatal(2)       Destroyed  Rockwell       112                1.0   \n",
       "4        Fatal(1)       Destroyed    Cessna       501                NaN   \n",
       "\n",
       "     Engine_Type Purpose_of_flight  Total_Fatal_Injuries  \\\n",
       "0  Reciprocating          Personal                   2.0   \n",
       "1  Reciprocating          Personal                   4.0   \n",
       "2  Reciprocating          Personal                   3.0   \n",
       "3  Reciprocating          Personal                   2.0   \n",
       "4            NaN          Personal                   1.0   \n",
       "\n",
       "   Total_Serious_Injuries  Total_Minor_Injuries  Total_Uninjured  \\\n",
       "0                     0.0                   0.0              0.0   \n",
       "1                     0.0                   0.0              0.0   \n",
       "2                     0.0                   0.0              0.0   \n",
       "3                     0.0                   0.0              0.0   \n",
       "4                     2.0                   0.0              0.0   \n",
       "\n",
       "  Weather_Condition Broad_phase_of_flight   Report_Status  \n",
       "0               UNK                Cruise  Probable Cause  \n",
       "1               UNK               Unknown  Probable Cause  \n",
       "2               IMC                Cruise  Probable Cause  \n",
       "3               IMC                Cruise  Probable Cause  \n",
       "4               VMC              Approach  Probable Cause  "
      ]
     },
     "execution_count": 514,
     "metadata": {},
     "output_type": "execute_result"
    }
   ],
   "source": [
    "df.head()"
   ]
  },
  {
   "cell_type": "code",
   "execution_count": 515,
   "metadata": {},
   "outputs": [
    {
     "data": {
      "text/plain": [
       "0"
      ]
     },
     "execution_count": 515,
>>>>>>> master
     "metadata": {},
     "output_type": "execute_result"
    }
   ],
   "source": [
    "#Check out column\n",
    "df['Injury_Severity'].value_counts()\n",
    "\n",
    "#Clean the values from Fatal(#) or just Fatal\n",
    "# count # of character in column if more than 5 replace with Fatal\n",
    "df.loc[df['Injury_Severity'].str[:5] == 'Fatal', 'Injury_Severity'] = 'Fatal'\n",
    "\n",
    "#clean na's\n",
    "df['Injury_Severity'].fillna('Unavailable', inplace = True)\n",
    "\n",
    "#check \n",
    "df['Injury_Severity'].isna().sum()"
   ]
  },
  {
   "cell_type": "markdown",
   "metadata": {},
   "source": [
    "## Cleaning up Damage - Done"
   ]
  },
  {
   "cell_type": "code",
<<<<<<< HEAD
   "execution_count": 167,
=======
   "execution_count": 516,
>>>>>>> master
   "metadata": {},
   "outputs": [],
   "source": [
    "#Rename columns\n",
    "df.rename(columns = {'Aircraft_damage':'Aircraft_Damage'}, inplace = True)"
   ]
  },
  {
   "cell_type": "code",
<<<<<<< HEAD
   "execution_count": 168,
=======
   "execution_count": 517,
   "metadata": {},
   "outputs": [
    {
     "data": {
      "text/plain": [
       "3193"
      ]
     },
     "execution_count": 517,
     "metadata": {},
     "output_type": "execute_result"
    }
   ],
   "source": [
    "df['Aircraft_Damage'].value_counts()\n",
    "\n",
    "df['Aircraft_Damage'].isna().sum()"
   ]
  },
  {
   "cell_type": "code",
   "execution_count": 518,
>>>>>>> master
   "metadata": {},
   "outputs": [
    {
     "data": {
      "text/plain": [
       "0"
      ]
     },
<<<<<<< HEAD
     "execution_count": 168,
=======
     "execution_count": 518,
>>>>>>> master
     "metadata": {},
     "output_type": "execute_result"
    }
   ],
   "source": [
    "#change nulls to Unknown Category\n",
    "df['Aircraft_Damage'].fillna(\"Unknown\", inplace = True)\n",
    "\n",
    "#check \n",
    "df['Aircraft_Damage'].isna().sum()"
   ]
  },
  {
   "cell_type": "markdown",
   "metadata": {},
   "source": [
    "## Cleaning Make"
   ]
  },
  {
   "cell_type": "code",
<<<<<<< HEAD
   "execution_count": 169,
=======
   "execution_count": 519,
>>>>>>> master
   "metadata": {},
   "outputs": [
    {
     "data": {
      "text/plain": [
<<<<<<< HEAD
       "CESSNA                    4867\n",
       "Cessna                    3608\n",
       "PIPER                     2805\n",
       "Piper                     1910\n",
       "BOEING                    1035\n",
       "                          ... \n",
       "KERR JOHN A                  1\n",
       "Carlisle                     1\n",
       "PILATUS BRITTEN-NORMAN       1\n",
       "Tail Feather LLC             1\n",
       "HUNTER GEORGE                1\n",
       "Name: Make, Length: 3874, dtype: int64"
      ]
     },
     "execution_count": 169,
=======
       "Cessna               22227\n",
       "Piper                12029\n",
       "CESSNA                4922\n",
       "Beech                 4330\n",
       "PIPER                 2841\n",
       "                     ...  \n",
       "GONZALEZ MANUEL A        1\n",
       "STEPHEN L KRUER          1\n",
       "Riddell                  1\n",
       "AVIAN BALLOON            1\n",
       "MOORE GLENN              1\n",
       "Name: Make, Length: 8237, dtype: int64"
      ]
     },
     "execution_count": 519,
>>>>>>> master
     "metadata": {},
     "output_type": "execute_result"
    }
   ],
   "source": [
    "df['Make'].value_counts()"
   ]
  },
  {
   "cell_type": "code",
<<<<<<< HEAD
   "execution_count": 170,
=======
   "execution_count": 520,
>>>>>>> master
   "metadata": {},
   "outputs": [],
   "source": [
    "#capitalize and merge make models\n",
    "df['Make'] = df['Make'].apply(lambda x: str(x).capitalize())"
   ]
  },
  {
   "cell_type": "code",
<<<<<<< HEAD
   "execution_count": 171,
=======
   "execution_count": 521,
>>>>>>> master
   "metadata": {},
   "outputs": [],
   "source": [
    "#take out all airplanes with make less than 100\n",
    "df = df[df.groupby('Make')['Make'].transform('count') > 100]"
   ]
  },
  {
   "cell_type": "code",
<<<<<<< HEAD
   "execution_count": 172,
   "metadata": {
    "scrolled": false
=======
   "execution_count": 522,
   "metadata": {
    "scrolled": true
>>>>>>> master
   },
   "outputs": [
    {
     "data": {
      "text/plain": [
<<<<<<< HEAD
       "Cessna                8475\n",
       "Piper                 4715\n",
       "Beech                 1692\n",
       "Boeing                1322\n",
       "Mooney                 419\n",
       "Bellanca               282\n",
       "Grumman                251\n",
       "Airbus                 245\n",
       "Maule                  232\n",
       "Aeronca                229\n",
       "Air tractor            224\n",
       "Cirrus design corp     220\n",
       "Air tractor inc        219\n",
       "Champion               170\n",
       "Luscombe               164\n",
       "Embraer                155\n",
       "Stinson                146\n",
       "Cirrus                 137\n",
       "Vans                   125\n",
       "North american         118\n",
       "Mcdonnell douglas      115\n",
       "Taylorcraft            110\n",
       "Aero commander         107\n",
       "Name: Make, dtype: int64"
      ]
     },
     "execution_count": 172,
=======
       "Cessna                            27149\n",
       "Piper                             14870\n",
       "Beech                              5372\n",
       "Boeing                             2743\n",
       "Bell                               2722\n",
       "Mooney                             1334\n",
       "Robinson                           1230\n",
       "Grumman                            1172\n",
       "Bellanca                           1045\n",
       "Hughes                              932\n",
       "Schweizer                           773\n",
       "Air tractor                         691\n",
       "Aeronca                             636\n",
       "Mcdonnell douglas                   608\n",
       "Maule                               589\n",
       "Champion                            519\n",
       "Stinson                             439\n",
       "Aero commander                      429\n",
       "De havilland                        422\n",
       "Luscombe                            414\n",
       "Aerospatiale                        388\n",
       "Taylorcraft                         383\n",
       "North american                      383\n",
       "Rockwell                            355\n",
       "Hiller                              348\n",
       "Enstrom                             296\n",
       "Airbus                              291\n",
       "Douglas                             281\n",
       "Embraer                             238\n",
       "Ayres                               238\n",
       "Sikorsky                            233\n",
       "Robinson helicopter                 230\n",
       "Grumman american                    226\n",
       "Cirrus design corp                  223\n",
       "Eurocopter                          220\n",
       "Air tractor inc                     219\n",
       "Robinson helicopter company         194\n",
       "Swearingen                          180\n",
       "Airbus industrie                    164\n",
       "Fairchild                           161\n",
       "Ercoupe (eng & research corp.)      160\n",
       "Pitts                               154\n",
       "Lake                                150\n",
       "Cirrus                              150\n",
       "Balloon works                       147\n",
       "Schleicher                          146\n",
       "Mitsubishi                          145\n",
       "Waco                                143\n",
       "Aviat                               140\n",
       "Learjet                             136\n",
       "Let                                 136\n",
       "Vans                                129\n",
       "Grumman-schweizer                   127\n",
       "Socata                              126\n",
       "Lockheed                            123\n",
       "Burkhart grob                       121\n",
       "Helio                               113\n",
       "Ryan                                110\n",
       "Dehavilland                         101\n",
       "Name: Make, dtype: int64"
      ]
     },
     "execution_count": 522,
>>>>>>> master
     "metadata": {},
     "output_type": "execute_result"
    }
   ],
   "source": [
    "df['Make'].value_counts()"
   ]
  },
  {
   "cell_type": "code",
<<<<<<< HEAD
   "execution_count": 173,
   "metadata": {
    "scrolled": false
=======
   "execution_count": 525,
   "metadata": {
    "scrolled": true
>>>>>>> master
   },
   "outputs": [
    {
     "data": {
      "text/plain": [
<<<<<<< HEAD
       "Cessna                8475\n",
       "Piper                 4715\n",
       "Beech                 1692\n",
       "Boeing                1322\n",
       "Air tractor            443\n",
       "Mooney                 419\n",
       "Bellanca               282\n",
       "Grumman                251\n",
       "Airbus                 245\n",
       "Maule                  232\n",
       "Aeronca                229\n",
       "Cirrus design corp     220\n",
       "Champion               170\n",
       "Luscombe               164\n",
       "Embraer                155\n",
       "Stinson                146\n",
       "Cirrus                 137\n",
       "Vans                   125\n",
       "North american         118\n",
       "Douglas                115\n",
       "Taylorcraft            110\n",
       "Aero commander         107\n",
       "Name: Make, dtype: int64"
      ]
     },
     "execution_count": 173,
=======
       "Cessna                            27149\n",
       "Piper                             14870\n",
       "Beech                              5372\n",
       "Boeing                             2743\n",
       "Bell                               2722\n",
       "Robinson                           1654\n",
       "Mooney                             1334\n",
       "Grumman                            1172\n",
       "Bellanca                           1045\n",
       "Hughes                              932\n",
       "Air tractor                         910\n",
       "Schweizer                           773\n",
       "Aeronca                             636\n",
       "Mcdonnell douglas                   608\n",
       "Maule                               589\n",
       "Champion                            519\n",
       "Airbus                              455\n",
       "Stinson                             439\n",
       "Aero commander                      429\n",
       "De havilland                        422\n",
       "Luscombe                            414\n",
       "Aerospatiale                        388\n",
       "North american                      383\n",
       "Taylorcraft                         383\n",
       "Rockwell                            355\n",
       "Hiller                              348\n",
       "Enstrom                             296\n",
       "Douglas                             281\n",
       "Embraer                             238\n",
       "Ayres                               238\n",
       "Sikorsky                            233\n",
       "Grumman american                    226\n",
       "Cirrus design corp                  223\n",
       "Eurocopter                          220\n",
       "Swearingen                          180\n",
       "Fairchild                           161\n",
       "Ercoupe (eng & research corp.)      160\n",
       "Pitts                               154\n",
       "Cirrus                              150\n",
       "Lake                                150\n",
       "Balloon works                       147\n",
       "Schleicher                          146\n",
       "Mitsubishi                          145\n",
       "Waco                                143\n",
       "Aviat                               140\n",
       "Let                                 136\n",
       "Learjet                             136\n",
       "Vans                                129\n",
       "Grumman-schweizer                   127\n",
       "Socata                              126\n",
       "Lockheed                            123\n",
       "Burkhart grob                       121\n",
       "Helio                               113\n",
       "Ryan                                110\n",
       "Dehavilland                         101\n",
       "Name: Make, dtype: int64"
      ]
     },
     "execution_count": 525,
>>>>>>> master
     "metadata": {},
     "output_type": "execute_result"
    }
   ],
   "source": [
<<<<<<< HEAD
    "#Combine air tractor\n",
    "df.loc[df['Make'].str[:11] == 'Air tractor', 'Make'] = 'Air tractor'\n",
    "\n",
    "#Combine Mcdonnell douglas #question for praveen\n",
    "df.loc[df['Make'].str[:] == 'Mcdonnell douglas', 'Make'] = 'Douglas'\n",
=======
    "# Combine Airbus industries with Airbus \n",
    "df.loc[df['Make'].str[:6] == 'Airbus', 'Make'] = 'Airbus'\n",
    "\n",
    "#Combine air tractor\n",
    "df.loc[df['Make'].str[:11] == 'Air tractor', 'Make'] = 'Air tractor'\n",
    "\n",
    "#Combine Robinson\n",
    "df.loc[df['Make'].str[:8] == 'Robinson', 'Make'] = 'Robinson'\n",
>>>>>>> master
    "\n",
    "#Check\n",
    "df['Make'].value_counts()"
   ]
  },
  {
   "cell_type": "code",
<<<<<<< HEAD
   "execution_count": 174,
=======
   "execution_count": 526,
>>>>>>> master
   "metadata": {},
   "outputs": [
    {
     "data": {
      "text/plain": [
       "0"
      ]
     },
<<<<<<< HEAD
     "execution_count": 174,
=======
     "execution_count": 526,
>>>>>>> master
     "metadata": {},
     "output_type": "execute_result"
    }
   ],
   "source": [
    "#check for nulls\n",
    "df['Make'].isna().sum()"
   ]
  },
  {
   "cell_type": "markdown",
   "metadata": {},
   "source": [
    "**Model**"
   ]
  },
  {
   "cell_type": "code",
<<<<<<< HEAD
   "execution_count": 175,
=======
   "execution_count": 527,
>>>>>>> master
   "metadata": {
    "scrolled": true
   },
   "outputs": [
    {
     "data": {
      "text/plain": [
       "0"
      ]
     },
<<<<<<< HEAD
     "execution_count": 175,
=======
     "execution_count": 527,
>>>>>>> master
     "metadata": {},
     "output_type": "execute_result"
    }
   ],
   "source": [
    "#dropping null models\n",
    "df.dropna(subset = ['Model'], inplace = True)\n",
    "\n",
    "#check\n",
    "df['Model'].isna().sum()"
   ]
  },
  {
   "cell_type": "markdown",
   "metadata": {},
   "source": [
<<<<<<< HEAD
    "## Adding Total Injuries"
=======
    "## Create Make and Model Column - Done"
>>>>>>> master
   ]
  },
  {
   "cell_type": "code",
<<<<<<< HEAD
   "execution_count": 176,
   "metadata": {},
=======
   "execution_count": 528,
   "metadata": {
    "scrolled": false
   },
>>>>>>> master
   "outputs": [
    {
     "data": {
      "text/html": [
       "<div>\n",
       "<style scoped>\n",
       "    .dataframe tbody tr th:only-of-type {\n",
       "        vertical-align: middle;\n",
       "    }\n",
       "\n",
       "    .dataframe tbody tr th {\n",
       "        vertical-align: top;\n",
       "    }\n",
       "\n",
       "    .dataframe thead th {\n",
       "        text-align: right;\n",
       "    }\n",
       "</style>\n",
       "<table border=\"1\" class=\"dataframe\">\n",
       "  <thead>\n",
       "    <tr style=\"text-align: right;\">\n",
       "      <th></th>\n",
       "      <th>Event_Id</th>\n",
       "      <th>Accident_Number</th>\n",
       "      <th>Event_Date</th>\n",
       "      <th>Location</th>\n",
       "      <th>Country</th>\n",
       "      <th>Injury_Severity</th>\n",
       "      <th>Aircraft_Damage</th>\n",
<<<<<<< HEAD
       "      <th>Aircraft_Category</th>\n",
       "      <th>Make</th>\n",
       "      <th>Model</th>\n",
       "      <th>...</th>\n",
=======
       "      <th>Make</th>\n",
       "      <th>Model</th>\n",
       "      <th>Number_of_Engines</th>\n",
       "      <th>Engine_Type</th>\n",
       "      <th>Purpose_of_flight</th>\n",
>>>>>>> master
       "      <th>Total_Fatal_Injuries</th>\n",
       "      <th>Total_Serious_Injuries</th>\n",
       "      <th>Total_Minor_Injuries</th>\n",
       "      <th>Total_Uninjured</th>\n",
       "      <th>Weather_Condition</th>\n",
       "      <th>Broad_phase_of_flight</th>\n",
<<<<<<< HEAD
       "      <th>created_year</th>\n",
       "      <th>created_month</th>\n",
       "      <th>created_day</th>\n",
       "      <th>Total_Injuries</th>\n",
=======
       "      <th>Report_Status</th>\n",
       "      <th>Make_Model</th>\n",
>>>>>>> master
       "    </tr>\n",
       "  </thead>\n",
       "  <tbody>\n",
       "    <tr>\n",
<<<<<<< HEAD
       "      <th>5</th>\n",
       "      <td>20170710X52551</td>\n",
       "      <td>NYC79AA106</td>\n",
       "      <td>1979-09-17</td>\n",
       "      <td>BOSTON, MA</td>\n",
       "      <td>United States</td>\n",
       "      <td>Non-Fatal</td>\n",
       "      <td>Substantial</td>\n",
       "      <td>Airplane</td>\n",
       "      <td>Douglas</td>\n",
       "      <td>DC9</td>\n",
       "      <td>...</td>\n",
       "      <td>0.0</td>\n",
       "      <td>0.0</td>\n",
       "      <td>1.0</td>\n",
       "      <td>44.0</td>\n",
       "      <td>VMC</td>\n",
       "      <td>Climb</td>\n",
       "      <td>1979</td>\n",
       "      <td>9</td>\n",
       "      <td>17</td>\n",
       "      <td>1.0</td>\n",
       "    </tr>\n",
       "    <tr>\n",
       "      <th>7</th>\n",
       "      <td>20020909X01562</td>\n",
       "      <td>SEA82DA022</td>\n",
       "      <td>1982-01-01</td>\n",
       "      <td>PULLMAN, WA</td>\n",
       "      <td>United States</td>\n",
       "      <td>Non-Fatal</td>\n",
       "      <td>Substantial</td>\n",
       "      <td>Airplane</td>\n",
       "      <td>Cessna</td>\n",
       "      <td>140</td>\n",
       "      <td>...</td>\n",
       "      <td>0.0</td>\n",
       "      <td>0.0</td>\n",
       "      <td>0.0</td>\n",
       "      <td>2.0</td>\n",
       "      <td>VMC</td>\n",
       "      <td>Takeoff</td>\n",
       "      <td>1982</td>\n",
       "      <td>1</td>\n",
       "      <td>1</td>\n",
       "      <td>0.0</td>\n",
       "    </tr>\n",
       "    <tr>\n",
       "      <th>8</th>\n",
       "      <td>20020909X01561</td>\n",
       "      <td>NYC82DA015</td>\n",
       "      <td>1982-01-01</td>\n",
       "      <td>EAST HANOVER, NJ</td>\n",
       "      <td>United States</td>\n",
       "      <td>Non-Fatal</td>\n",
       "      <td>Substantial</td>\n",
       "      <td>Airplane</td>\n",
       "      <td>Cessna</td>\n",
       "      <td>401B</td>\n",
       "      <td>...</td>\n",
       "      <td>0.0</td>\n",
       "      <td>0.0</td>\n",
       "      <td>0.0</td>\n",
       "      <td>2.0</td>\n",
       "      <td>IMC</td>\n",
       "      <td>Landing</td>\n",
       "      <td>1982</td>\n",
       "      <td>1</td>\n",
       "      <td>1</td>\n",
       "      <td>0.0</td>\n",
       "    </tr>\n",
       "    <tr>\n",
       "      <th>12</th>\n",
       "      <td>20020917X02148</td>\n",
       "      <td>FTW82FRJ07</td>\n",
       "      <td>1982-01-02</td>\n",
       "      <td>HOMER, LA</td>\n",
       "      <td>United States</td>\n",
       "      <td>Non-Fatal</td>\n",
       "      <td>Destroyed</td>\n",
       "      <td>Airplane</td>\n",
       "      <td>Bellanca</td>\n",
       "      <td>17-30A</td>\n",
       "      <td>...</td>\n",
       "      <td>0.0</td>\n",
       "      <td>0.0</td>\n",
       "      <td>1.0</td>\n",
       "      <td>0.0</td>\n",
       "      <td>IMC</td>\n",
       "      <td>Cruise</td>\n",
       "      <td>1982</td>\n",
       "      <td>1</td>\n",
       "      <td>2</td>\n",
       "      <td>1.0</td>\n",
       "    </tr>\n",
       "    <tr>\n",
       "      <th>13</th>\n",
       "      <td>20020917X02134</td>\n",
       "      <td>FTW82FRA14</td>\n",
       "      <td>1982-01-02</td>\n",
       "      <td>HEARNE, TX</td>\n",
       "      <td>United States</td>\n",
       "      <td>Fatal</td>\n",
       "      <td>Destroyed</td>\n",
       "      <td>Airplane</td>\n",
       "      <td>Cessna</td>\n",
       "      <td>R172K</td>\n",
       "      <td>...</td>\n",
       "      <td>1.0</td>\n",
       "      <td>0.0</td>\n",
       "      <td>0.0</td>\n",
       "      <td>0.0</td>\n",
       "      <td>IMC</td>\n",
       "      <td>Takeoff</td>\n",
       "      <td>1982</td>\n",
       "      <td>1</td>\n",
       "      <td>2</td>\n",
       "      <td>1.0</td>\n",
       "    </tr>\n",
       "  </tbody>\n",
       "</table>\n",
       "<p>5 rows × 23 columns</p>\n",
       "</div>"
      ],
      "text/plain": [
       "          Event_Id Accident_Number Event_Date          Location  \\\n",
       "5   20170710X52551      NYC79AA106 1979-09-17        BOSTON, MA   \n",
       "7   20020909X01562      SEA82DA022 1982-01-01       PULLMAN, WA   \n",
       "8   20020909X01561      NYC82DA015 1982-01-01  EAST HANOVER, NJ   \n",
       "12  20020917X02148      FTW82FRJ07 1982-01-02         HOMER, LA   \n",
       "13  20020917X02134      FTW82FRA14 1982-01-02        HEARNE, TX   \n",
       "\n",
       "          Country Injury_Severity Aircraft_Damage Aircraft_Category      Make  \\\n",
       "5   United States       Non-Fatal     Substantial          Airplane   Douglas   \n",
       "7   United States       Non-Fatal     Substantial          Airplane    Cessna   \n",
       "8   United States       Non-Fatal     Substantial          Airplane    Cessna   \n",
       "12  United States       Non-Fatal       Destroyed          Airplane  Bellanca   \n",
       "13  United States           Fatal       Destroyed          Airplane    Cessna   \n",
       "\n",
       "     Model  ...  Total_Fatal_Injuries Total_Serious_Injuries  \\\n",
       "5      DC9  ...                   0.0                    0.0   \n",
       "7      140  ...                   0.0                    0.0   \n",
       "8     401B  ...                   0.0                    0.0   \n",
       "12  17-30A  ...                   0.0                    0.0   \n",
       "13   R172K  ...                   1.0                    0.0   \n",
       "\n",
       "   Total_Minor_Injuries  Total_Uninjured  Weather_Condition  \\\n",
       "5                   1.0             44.0                VMC   \n",
       "7                   0.0              2.0                VMC   \n",
       "8                   0.0              2.0                IMC   \n",
       "12                  1.0              0.0                IMC   \n",
       "13                  0.0              0.0                IMC   \n",
       "\n",
       "    Broad_phase_of_flight  created_year created_month created_day  \\\n",
       "5                   Climb          1979             9          17   \n",
       "7                 Takeoff          1982             1           1   \n",
       "8                 Landing          1982             1           1   \n",
       "12                 Cruise          1982             1           2   \n",
       "13                Takeoff          1982             1           2   \n",
       "\n",
       "    Total_Injuries  \n",
       "5              1.0  \n",
       "7              0.0  \n",
       "8              0.0  \n",
       "12             1.0  \n",
       "13             1.0  \n",
       "\n",
       "[5 rows x 23 columns]"
      ]
     },
     "execution_count": 176,
     "metadata": {},
     "output_type": "execute_result"
    }
   ],
   "source": [
    "#make total injuries column\n",
    "df['Total_Injuries'] = (df['Total_Fatal_Injuries'] + \n",
    "                                  df['Total_Minor_Injuries'] +\n",
    "                                 df['Total_Serious_Injuries'])\n",
    "\n",
    "#check\n",
    "df.head()"
   ]
  },
  {
   "cell_type": "markdown",
   "metadata": {},
   "source": [
    "## Adding Total Passengers"
   ]
  },
  {
   "cell_type": "code",
   "execution_count": 177,
   "metadata": {},
   "outputs": [
    {
     "data": {
      "text/html": [
       "<div>\n",
       "<style scoped>\n",
       "    .dataframe tbody tr th:only-of-type {\n",
       "        vertical-align: middle;\n",
       "    }\n",
       "\n",
       "    .dataframe tbody tr th {\n",
       "        vertical-align: top;\n",
       "    }\n",
       "\n",
       "    .dataframe thead th {\n",
       "        text-align: right;\n",
       "    }\n",
       "</style>\n",
       "<table border=\"1\" class=\"dataframe\">\n",
       "  <thead>\n",
       "    <tr style=\"text-align: right;\">\n",
       "      <th></th>\n",
       "      <th>Event_Id</th>\n",
       "      <th>Accident_Number</th>\n",
       "      <th>Event_Date</th>\n",
       "      <th>Location</th>\n",
       "      <th>Country</th>\n",
       "      <th>Injury_Severity</th>\n",
       "      <th>Aircraft_Damage</th>\n",
       "      <th>Aircraft_Category</th>\n",
       "      <th>Make</th>\n",
       "      <th>Model</th>\n",
       "      <th>...</th>\n",
       "      <th>Total_Serious_Injuries</th>\n",
       "      <th>Total_Minor_Injuries</th>\n",
       "      <th>Total_Uninjured</th>\n",
       "      <th>Weather_Condition</th>\n",
       "      <th>Broad_phase_of_flight</th>\n",
       "      <th>created_year</th>\n",
       "      <th>created_month</th>\n",
       "      <th>created_day</th>\n",
       "      <th>Total_Injuries</th>\n",
       "      <th>Total_Passengers</th>\n",
       "    </tr>\n",
       "  </thead>\n",
       "  <tbody>\n",
       "    <tr>\n",
       "      <th>5</th>\n",
       "      <td>20170710X52551</td>\n",
       "      <td>NYC79AA106</td>\n",
       "      <td>1979-09-17</td>\n",
       "      <td>BOSTON, MA</td>\n",
       "      <td>United States</td>\n",
       "      <td>Non-Fatal</td>\n",
       "      <td>Substantial</td>\n",
       "      <td>Airplane</td>\n",
       "      <td>Douglas</td>\n",
       "      <td>DC9</td>\n",
       "      <td>...</td>\n",
       "      <td>0.0</td>\n",
       "      <td>1.0</td>\n",
       "      <td>44.0</td>\n",
       "      <td>VMC</td>\n",
       "      <td>Climb</td>\n",
       "      <td>1979</td>\n",
       "      <td>9</td>\n",
       "      <td>17</td>\n",
       "      <td>1.0</td>\n",
       "      <td>45.0</td>\n",
       "    </tr>\n",
       "    <tr>\n",
       "      <th>7</th>\n",
       "      <td>20020909X01562</td>\n",
       "      <td>SEA82DA022</td>\n",
       "      <td>1982-01-01</td>\n",
       "      <td>PULLMAN, WA</td>\n",
       "      <td>United States</td>\n",
       "      <td>Non-Fatal</td>\n",
       "      <td>Substantial</td>\n",
       "      <td>Airplane</td>\n",
       "      <td>Cessna</td>\n",
       "      <td>140</td>\n",
       "      <td>...</td>\n",
       "      <td>0.0</td>\n",
       "      <td>0.0</td>\n",
       "      <td>2.0</td>\n",
       "      <td>VMC</td>\n",
       "      <td>Takeoff</td>\n",
       "      <td>1982</td>\n",
       "      <td>1</td>\n",
       "      <td>1</td>\n",
       "      <td>0.0</td>\n",
       "      <td>2.0</td>\n",
       "    </tr>\n",
       "    <tr>\n",
       "      <th>8</th>\n",
       "      <td>20020909X01561</td>\n",
       "      <td>NYC82DA015</td>\n",
       "      <td>1982-01-01</td>\n",
       "      <td>EAST HANOVER, NJ</td>\n",
       "      <td>United States</td>\n",
       "      <td>Non-Fatal</td>\n",
       "      <td>Substantial</td>\n",
       "      <td>Airplane</td>\n",
       "      <td>Cessna</td>\n",
       "      <td>401B</td>\n",
       "      <td>...</td>\n",
       "      <td>0.0</td>\n",
       "      <td>0.0</td>\n",
       "      <td>2.0</td>\n",
       "      <td>IMC</td>\n",
       "      <td>Landing</td>\n",
       "      <td>1982</td>\n",
       "      <td>1</td>\n",
       "      <td>1</td>\n",
       "      <td>0.0</td>\n",
       "      <td>2.0</td>\n",
       "    </tr>\n",
       "    <tr>\n",
       "      <th>12</th>\n",
       "      <td>20020917X02148</td>\n",
       "      <td>FTW82FRJ07</td>\n",
       "      <td>1982-01-02</td>\n",
       "      <td>HOMER, LA</td>\n",
       "      <td>United States</td>\n",
       "      <td>Non-Fatal</td>\n",
       "      <td>Destroyed</td>\n",
       "      <td>Airplane</td>\n",
       "      <td>Bellanca</td>\n",
       "      <td>17-30A</td>\n",
       "      <td>...</td>\n",
       "      <td>0.0</td>\n",
       "      <td>1.0</td>\n",
       "      <td>0.0</td>\n",
       "      <td>IMC</td>\n",
       "      <td>Cruise</td>\n",
       "      <td>1982</td>\n",
       "      <td>1</td>\n",
       "      <td>2</td>\n",
       "      <td>1.0</td>\n",
       "      <td>1.0</td>\n",
       "    </tr>\n",
       "    <tr>\n",
       "      <th>13</th>\n",
       "      <td>20020917X02134</td>\n",
       "      <td>FTW82FRA14</td>\n",
       "      <td>1982-01-02</td>\n",
       "      <td>HEARNE, TX</td>\n",
       "      <td>United States</td>\n",
       "      <td>Fatal</td>\n",
       "      <td>Destroyed</td>\n",
       "      <td>Airplane</td>\n",
       "      <td>Cessna</td>\n",
       "      <td>R172K</td>\n",
       "      <td>...</td>\n",
       "      <td>0.0</td>\n",
       "      <td>0.0</td>\n",
       "      <td>0.0</td>\n",
       "      <td>IMC</td>\n",
       "      <td>Takeoff</td>\n",
       "      <td>1982</td>\n",
       "      <td>1</td>\n",
       "      <td>2</td>\n",
       "      <td>1.0</td>\n",
       "      <td>1.0</td>\n",
       "    </tr>\n",
       "  </tbody>\n",
       "</table>\n",
       "<p>5 rows × 24 columns</p>\n",
       "</div>"
      ],
      "text/plain": [
       "          Event_Id Accident_Number Event_Date          Location  \\\n",
       "5   20170710X52551      NYC79AA106 1979-09-17        BOSTON, MA   \n",
       "7   20020909X01562      SEA82DA022 1982-01-01       PULLMAN, WA   \n",
       "8   20020909X01561      NYC82DA015 1982-01-01  EAST HANOVER, NJ   \n",
       "12  20020917X02148      FTW82FRJ07 1982-01-02         HOMER, LA   \n",
       "13  20020917X02134      FTW82FRA14 1982-01-02        HEARNE, TX   \n",
       "\n",
       "          Country Injury_Severity Aircraft_Damage Aircraft_Category      Make  \\\n",
       "5   United States       Non-Fatal     Substantial          Airplane   Douglas   \n",
       "7   United States       Non-Fatal     Substantial          Airplane    Cessna   \n",
       "8   United States       Non-Fatal     Substantial          Airplane    Cessna   \n",
       "12  United States       Non-Fatal       Destroyed          Airplane  Bellanca   \n",
       "13  United States           Fatal       Destroyed          Airplane    Cessna   \n",
       "\n",
       "     Model  ...  Total_Serious_Injuries Total_Minor_Injuries Total_Uninjured  \\\n",
       "5      DC9  ...                     0.0                  1.0            44.0   \n",
       "7      140  ...                     0.0                  0.0             2.0   \n",
       "8     401B  ...                     0.0                  0.0             2.0   \n",
       "12  17-30A  ...                     0.0                  1.0             0.0   \n",
       "13   R172K  ...                     0.0                  0.0             0.0   \n",
       "\n",
       "    Weather_Condition  Broad_phase_of_flight  created_year  created_month  \\\n",
       "5                 VMC                  Climb          1979              9   \n",
       "7                 VMC                Takeoff          1982              1   \n",
       "8                 IMC                Landing          1982              1   \n",
       "12                IMC                 Cruise          1982              1   \n",
       "13                IMC                Takeoff          1982              1   \n",
       "\n",
       "   created_day Total_Injuries  Total_Passengers  \n",
       "5           17            1.0              45.0  \n",
       "7            1            0.0               2.0  \n",
       "8            1            0.0               2.0  \n",
       "12           2            1.0               1.0  \n",
       "13           2            1.0               1.0  \n",
       "\n",
       "[5 rows x 24 columns]"
      ]
     },
     "execution_count": 177,
     "metadata": {},
     "output_type": "execute_result"
    }
   ],
   "source": [
    "#Add total passengers column\n",
    "df['Total_Passengers'] = df['Total_Injuries'] + df['Total_Uninjured']\n",
    "\n",
    "#Check\n",
    "df.head()"
   ]
  },
  {
   "cell_type": "markdown",
   "metadata": {},
   "source": [
    "## Create Make and Model Column - Done"
   ]
  },
  {
   "cell_type": "code",
   "execution_count": 178,
   "metadata": {
    "scrolled": false
   },
   "outputs": [
    {
     "data": {
      "text/html": [
       "<div>\n",
       "<style scoped>\n",
       "    .dataframe tbody tr th:only-of-type {\n",
       "        vertical-align: middle;\n",
       "    }\n",
       "\n",
       "    .dataframe tbody tr th {\n",
       "        vertical-align: top;\n",
       "    }\n",
       "\n",
       "    .dataframe thead th {\n",
       "        text-align: right;\n",
       "    }\n",
       "</style>\n",
       "<table border=\"1\" class=\"dataframe\">\n",
       "  <thead>\n",
       "    <tr style=\"text-align: right;\">\n",
       "      <th></th>\n",
       "      <th>Event_Id</th>\n",
       "      <th>Accident_Number</th>\n",
       "      <th>Event_Date</th>\n",
       "      <th>Location</th>\n",
       "      <th>Country</th>\n",
       "      <th>Injury_Severity</th>\n",
       "      <th>Aircraft_Damage</th>\n",
       "      <th>Aircraft_Category</th>\n",
       "      <th>Make</th>\n",
       "      <th>Model</th>\n",
       "      <th>...</th>\n",
       "      <th>Total_Minor_Injuries</th>\n",
       "      <th>Total_Uninjured</th>\n",
       "      <th>Weather_Condition</th>\n",
       "      <th>Broad_phase_of_flight</th>\n",
       "      <th>created_year</th>\n",
       "      <th>created_month</th>\n",
       "      <th>created_day</th>\n",
       "      <th>Total_Injuries</th>\n",
       "      <th>Total_Passengers</th>\n",
       "      <th>Make_Model</th>\n",
       "    </tr>\n",
       "  </thead>\n",
       "  <tbody>\n",
       "    <tr>\n",
       "      <th>5</th>\n",
       "      <td>20170710X52551</td>\n",
       "      <td>NYC79AA106</td>\n",
       "      <td>1979-09-17</td>\n",
       "      <td>BOSTON, MA</td>\n",
       "      <td>United States</td>\n",
       "      <td>Non-Fatal</td>\n",
       "      <td>Substantial</td>\n",
       "      <td>Airplane</td>\n",
       "      <td>Douglas</td>\n",
       "      <td>DC9</td>\n",
       "      <td>...</td>\n",
       "      <td>1.0</td>\n",
       "      <td>44.0</td>\n",
       "      <td>VMC</td>\n",
       "      <td>Climb</td>\n",
       "      <td>1979</td>\n",
       "      <td>9</td>\n",
       "      <td>17</td>\n",
       "      <td>1.0</td>\n",
       "      <td>45.0</td>\n",
       "      <td>Douglas DC9</td>\n",
       "    </tr>\n",
       "    <tr>\n",
       "      <th>7</th>\n",
       "      <td>20020909X01562</td>\n",
       "      <td>SEA82DA022</td>\n",
       "      <td>1982-01-01</td>\n",
       "      <td>PULLMAN, WA</td>\n",
       "      <td>United States</td>\n",
       "      <td>Non-Fatal</td>\n",
       "      <td>Substantial</td>\n",
       "      <td>Airplane</td>\n",
       "      <td>Cessna</td>\n",
       "      <td>140</td>\n",
       "      <td>...</td>\n",
       "      <td>0.0</td>\n",
       "      <td>2.0</td>\n",
       "      <td>VMC</td>\n",
       "      <td>Takeoff</td>\n",
       "      <td>1982</td>\n",
       "      <td>1</td>\n",
       "      <td>1</td>\n",
       "      <td>0.0</td>\n",
       "      <td>2.0</td>\n",
       "      <td>Cessna 140</td>\n",
       "    </tr>\n",
       "    <tr>\n",
       "      <th>8</th>\n",
       "      <td>20020909X01561</td>\n",
       "      <td>NYC82DA015</td>\n",
       "      <td>1982-01-01</td>\n",
       "      <td>EAST HANOVER, NJ</td>\n",
       "      <td>United States</td>\n",
       "      <td>Non-Fatal</td>\n",
       "      <td>Substantial</td>\n",
       "      <td>Airplane</td>\n",
       "      <td>Cessna</td>\n",
       "      <td>401B</td>\n",
       "      <td>...</td>\n",
       "      <td>0.0</td>\n",
       "      <td>2.0</td>\n",
       "      <td>IMC</td>\n",
       "      <td>Landing</td>\n",
       "      <td>1982</td>\n",
       "      <td>1</td>\n",
       "      <td>1</td>\n",
       "      <td>0.0</td>\n",
       "      <td>2.0</td>\n",
       "      <td>Cessna 401B</td>\n",
       "    </tr>\n",
       "    <tr>\n",
       "      <th>12</th>\n",
       "      <td>20020917X02148</td>\n",
       "      <td>FTW82FRJ07</td>\n",
       "      <td>1982-01-02</td>\n",
       "      <td>HOMER, LA</td>\n",
       "      <td>United States</td>\n",
       "      <td>Non-Fatal</td>\n",
       "      <td>Destroyed</td>\n",
       "      <td>Airplane</td>\n",
       "      <td>Bellanca</td>\n",
       "      <td>17-30A</td>\n",
       "      <td>...</td>\n",
       "      <td>1.0</td>\n",
       "      <td>0.0</td>\n",
       "      <td>IMC</td>\n",
       "      <td>Cruise</td>\n",
       "      <td>1982</td>\n",
       "      <td>1</td>\n",
       "      <td>2</td>\n",
       "      <td>1.0</td>\n",
       "      <td>1.0</td>\n",
       "      <td>Bellanca 17-30A</td>\n",
       "    </tr>\n",
       "    <tr>\n",
       "      <th>13</th>\n",
       "      <td>20020917X02134</td>\n",
       "      <td>FTW82FRA14</td>\n",
       "      <td>1982-01-02</td>\n",
       "      <td>HEARNE, TX</td>\n",
       "      <td>United States</td>\n",
       "      <td>Fatal</td>\n",
       "      <td>Destroyed</td>\n",
       "      <td>Airplane</td>\n",
       "      <td>Cessna</td>\n",
       "      <td>R172K</td>\n",
       "      <td>...</td>\n",
       "      <td>0.0</td>\n",
       "      <td>0.0</td>\n",
       "      <td>IMC</td>\n",
       "      <td>Takeoff</td>\n",
       "      <td>1982</td>\n",
       "      <td>1</td>\n",
       "      <td>2</td>\n",
       "      <td>1.0</td>\n",
       "      <td>1.0</td>\n",
       "      <td>Cessna R172K</td>\n",
       "    </tr>\n",
       "  </tbody>\n",
       "</table>\n",
       "<p>5 rows × 25 columns</p>\n",
       "</div>"
      ],
      "text/plain": [
       "          Event_Id Accident_Number Event_Date          Location  \\\n",
       "5   20170710X52551      NYC79AA106 1979-09-17        BOSTON, MA   \n",
       "7   20020909X01562      SEA82DA022 1982-01-01       PULLMAN, WA   \n",
       "8   20020909X01561      NYC82DA015 1982-01-01  EAST HANOVER, NJ   \n",
       "12  20020917X02148      FTW82FRJ07 1982-01-02         HOMER, LA   \n",
       "13  20020917X02134      FTW82FRA14 1982-01-02        HEARNE, TX   \n",
       "\n",
       "          Country Injury_Severity Aircraft_Damage Aircraft_Category      Make  \\\n",
       "5   United States       Non-Fatal     Substantial          Airplane   Douglas   \n",
       "7   United States       Non-Fatal     Substantial          Airplane    Cessna   \n",
       "8   United States       Non-Fatal     Substantial          Airplane    Cessna   \n",
       "12  United States       Non-Fatal       Destroyed          Airplane  Bellanca   \n",
       "13  United States           Fatal       Destroyed          Airplane    Cessna   \n",
       "\n",
       "     Model  ...  Total_Minor_Injuries Total_Uninjured Weather_Condition  \\\n",
       "5      DC9  ...                   1.0            44.0               VMC   \n",
       "7      140  ...                   0.0             2.0               VMC   \n",
       "8     401B  ...                   0.0             2.0               IMC   \n",
       "12  17-30A  ...                   1.0             0.0               IMC   \n",
       "13   R172K  ...                   0.0             0.0               IMC   \n",
       "\n",
       "    Broad_phase_of_flight  created_year  created_month  created_day  \\\n",
       "5                   Climb          1979              9           17   \n",
       "7                 Takeoff          1982              1            1   \n",
       "8                 Landing          1982              1            1   \n",
       "12                 Cruise          1982              1            2   \n",
       "13                Takeoff          1982              1            2   \n",
       "\n",
       "   Total_Injuries Total_Passengers       Make_Model  \n",
       "5             1.0             45.0      Douglas DC9  \n",
       "7             0.0              2.0       Cessna 140  \n",
       "8             0.0              2.0      Cessna 401B  \n",
       "12            1.0              1.0  Bellanca 17-30A  \n",
       "13            1.0              1.0     Cessna R172K  \n",
       "\n",
       "[5 rows x 25 columns]"
      ]
     },
     "execution_count": 178,
=======
       "      <th>0</th>\n",
       "      <td>20001218X45444</td>\n",
       "      <td>SEA87LA080</td>\n",
       "      <td>1948-10-24</td>\n",
       "      <td>MOOSE CREEK, ID</td>\n",
       "      <td>United States</td>\n",
       "      <td>Fatal</td>\n",
       "      <td>Destroyed</td>\n",
       "      <td>Stinson</td>\n",
       "      <td>108-3</td>\n",
       "      <td>1.0</td>\n",
       "      <td>Reciprocating</td>\n",
       "      <td>Personal</td>\n",
       "      <td>2.0</td>\n",
       "      <td>0.0</td>\n",
       "      <td>0.0</td>\n",
       "      <td>0.0</td>\n",
       "      <td>UNK</td>\n",
       "      <td>Cruise</td>\n",
       "      <td>Probable Cause</td>\n",
       "      <td>Stinson 108-3</td>\n",
       "    </tr>\n",
       "    <tr>\n",
       "      <th>1</th>\n",
       "      <td>20001218X45447</td>\n",
       "      <td>LAX94LA336</td>\n",
       "      <td>1962-07-19</td>\n",
       "      <td>BRIDGEPORT, CA</td>\n",
       "      <td>United States</td>\n",
       "      <td>Fatal</td>\n",
       "      <td>Destroyed</td>\n",
       "      <td>Piper</td>\n",
       "      <td>PA24-180</td>\n",
       "      <td>1.0</td>\n",
       "      <td>Reciprocating</td>\n",
       "      <td>Personal</td>\n",
       "      <td>4.0</td>\n",
       "      <td>0.0</td>\n",
       "      <td>0.0</td>\n",
       "      <td>0.0</td>\n",
       "      <td>UNK</td>\n",
       "      <td>Unknown</td>\n",
       "      <td>Probable Cause</td>\n",
       "      <td>Piper PA24-180</td>\n",
       "    </tr>\n",
       "    <tr>\n",
       "      <th>2</th>\n",
       "      <td>20061025X01555</td>\n",
       "      <td>NYC07LA005</td>\n",
       "      <td>1974-08-30</td>\n",
       "      <td>Saltville, VA</td>\n",
       "      <td>United States</td>\n",
       "      <td>Fatal</td>\n",
       "      <td>Destroyed</td>\n",
       "      <td>Cessna</td>\n",
       "      <td>172M</td>\n",
       "      <td>1.0</td>\n",
       "      <td>Reciprocating</td>\n",
       "      <td>Personal</td>\n",
       "      <td>3.0</td>\n",
       "      <td>0.0</td>\n",
       "      <td>0.0</td>\n",
       "      <td>0.0</td>\n",
       "      <td>IMC</td>\n",
       "      <td>Cruise</td>\n",
       "      <td>Probable Cause</td>\n",
       "      <td>Cessna 172M</td>\n",
       "    </tr>\n",
       "    <tr>\n",
       "      <th>3</th>\n",
       "      <td>20001218X45448</td>\n",
       "      <td>LAX96LA321</td>\n",
       "      <td>1977-06-19</td>\n",
       "      <td>EUREKA, CA</td>\n",
       "      <td>United States</td>\n",
       "      <td>Fatal</td>\n",
       "      <td>Destroyed</td>\n",
       "      <td>Rockwell</td>\n",
       "      <td>112</td>\n",
       "      <td>1.0</td>\n",
       "      <td>Reciprocating</td>\n",
       "      <td>Personal</td>\n",
       "      <td>2.0</td>\n",
       "      <td>0.0</td>\n",
       "      <td>0.0</td>\n",
       "      <td>0.0</td>\n",
       "      <td>IMC</td>\n",
       "      <td>Cruise</td>\n",
       "      <td>Probable Cause</td>\n",
       "      <td>Rockwell 112</td>\n",
       "    </tr>\n",
       "    <tr>\n",
       "      <th>4</th>\n",
       "      <td>20041105X01764</td>\n",
       "      <td>CHI79FA064</td>\n",
       "      <td>1979-08-02</td>\n",
       "      <td>Canton, OH</td>\n",
       "      <td>United States</td>\n",
       "      <td>Fatal</td>\n",
       "      <td>Destroyed</td>\n",
       "      <td>Cessna</td>\n",
       "      <td>501</td>\n",
       "      <td>NaN</td>\n",
       "      <td>NaN</td>\n",
       "      <td>Personal</td>\n",
       "      <td>1.0</td>\n",
       "      <td>2.0</td>\n",
       "      <td>0.0</td>\n",
       "      <td>0.0</td>\n",
       "      <td>VMC</td>\n",
       "      <td>Approach</td>\n",
       "      <td>Probable Cause</td>\n",
       "      <td>Cessna 501</td>\n",
       "    </tr>\n",
       "  </tbody>\n",
       "</table>\n",
       "</div>"
      ],
      "text/plain": [
       "         Event_Id Accident_Number  Event_Date         Location        Country  \\\n",
       "0  20001218X45444      SEA87LA080  1948-10-24  MOOSE CREEK, ID  United States   \n",
       "1  20001218X45447      LAX94LA336  1962-07-19   BRIDGEPORT, CA  United States   \n",
       "2  20061025X01555      NYC07LA005  1974-08-30    Saltville, VA  United States   \n",
       "3  20001218X45448      LAX96LA321  1977-06-19       EUREKA, CA  United States   \n",
       "4  20041105X01764      CHI79FA064  1979-08-02       Canton, OH  United States   \n",
       "\n",
       "  Injury_Severity Aircraft_Damage      Make     Model  Number_of_Engines  \\\n",
       "0           Fatal       Destroyed   Stinson     108-3                1.0   \n",
       "1           Fatal       Destroyed     Piper  PA24-180                1.0   \n",
       "2           Fatal       Destroyed    Cessna      172M                1.0   \n",
       "3           Fatal       Destroyed  Rockwell       112                1.0   \n",
       "4           Fatal       Destroyed    Cessna       501                NaN   \n",
       "\n",
       "     Engine_Type Purpose_of_flight  Total_Fatal_Injuries  \\\n",
       "0  Reciprocating          Personal                   2.0   \n",
       "1  Reciprocating          Personal                   4.0   \n",
       "2  Reciprocating          Personal                   3.0   \n",
       "3  Reciprocating          Personal                   2.0   \n",
       "4            NaN          Personal                   1.0   \n",
       "\n",
       "   Total_Serious_Injuries  Total_Minor_Injuries  Total_Uninjured  \\\n",
       "0                     0.0                   0.0              0.0   \n",
       "1                     0.0                   0.0              0.0   \n",
       "2                     0.0                   0.0              0.0   \n",
       "3                     0.0                   0.0              0.0   \n",
       "4                     2.0                   0.0              0.0   \n",
       "\n",
       "  Weather_Condition Broad_phase_of_flight   Report_Status      Make_Model  \n",
       "0               UNK                Cruise  Probable Cause   Stinson 108-3  \n",
       "1               UNK               Unknown  Probable Cause  Piper PA24-180  \n",
       "2               IMC                Cruise  Probable Cause     Cessna 172M  \n",
       "3               IMC                Cruise  Probable Cause    Rockwell 112  \n",
       "4               VMC              Approach  Probable Cause      Cessna 501  "
      ]
     },
     "execution_count": 528,
>>>>>>> master
     "metadata": {},
     "output_type": "execute_result"
    }
   ],
   "source": [
    "#Create make and model column\n",
    "\n",
    "df['Make_Model'] = (df['Make'] + ' ' + df['Model'])\n",
    "df.head()"
   ]
  },
  {
   "cell_type": "markdown",
   "metadata": {},
   "source": [
    "**No Nulls**"
   ]
  },
  {
   "cell_type": "code",
<<<<<<< HEAD
   "execution_count": 179,
=======
   "execution_count": 529,
>>>>>>> master
   "metadata": {
    "scrolled": true
   },
   "outputs": [
    {
     "data": {
      "text/plain": [
       "0"
      ]
     },
<<<<<<< HEAD
     "execution_count": 179,
=======
     "execution_count": 529,
>>>>>>> master
     "metadata": {},
     "output_type": "execute_result"
    }
   ],
   "source": [
    "df['Make_Model'].isna().sum()"
   ]
  },
  {
   "cell_type": "markdown",
   "metadata": {},
   "source": [
    "## Cleaning Engine Type and Number of Engines - Done"
   ]
  },
  {
   "cell_type": "code",
<<<<<<< HEAD
   "execution_count": 180,
=======
   "execution_count": 530,
>>>>>>> master
   "metadata": {},
   "outputs": [
    {
     "data": {
      "text/plain": [
<<<<<<< HEAD
       "Reciprocating    15080\n",
       "Turbo Prop         777\n",
       "Turbo Fan          658\n",
       "Unknown            118\n",
       "Turbo Jet           75\n",
       "Name: Engine_Type, dtype: int64"
      ]
     },
     "execution_count": 180,
=======
       "Reciprocating    57075\n",
       "Turbo Shaft       3002\n",
       "Turbo Prop        2677\n",
       "Turbo Fan         2003\n",
       "Unknown           1360\n",
       "Turbo Jet          487\n",
       "Name: Engine_Type, dtype: int64"
      ]
     },
     "execution_count": 530,
>>>>>>> master
     "metadata": {},
     "output_type": "execute_result"
    }
   ],
   "source": [
    "#Cleaning up engine type\n",
    "# Dropping engine types that appear > 20 times\n",
    "\n",
    "df = df[df.groupby('Engine_Type')['Engine_Type'].transform('count') > 20]\n",
    "\n",
    "#check\n",
    "df['Engine_Type'].value_counts()"
   ]
  },
  {
   "cell_type": "code",
<<<<<<< HEAD
   "execution_count": 181,
=======
   "execution_count": 531,
>>>>>>> master
   "metadata": {
    "scrolled": true
   },
   "outputs": [
    {
     "data": {
      "text/plain": [
       "0"
      ]
     },
<<<<<<< HEAD
     "execution_count": 181,
=======
     "execution_count": 531,
>>>>>>> master
     "metadata": {},
     "output_type": "execute_result"
    }
   ],
   "source": [
    "#Fill NA's to Unknown\n",
    "df['Number_of_Engines'].fillna('Unknown', inplace = True)\n",
    "\n",
    "#Check\n",
    "df['Number_of_Engines'].isna().sum()"
   ]
  },
  {
   "cell_type": "markdown",
   "metadata": {},
   "source": [
    "## Cleaning Phase of Flight - Done"
   ]
  },
  {
   "cell_type": "code",
<<<<<<< HEAD
   "execution_count": 182,
=======
   "execution_count": 532,
>>>>>>> master
   "metadata": {},
   "outputs": [],
   "source": [
    "#Rename column\n",
    "df.rename(columns = {'Broad_phase_of_flight':'Phase_of_Flight'}, inplace = True)"
   ]
  },
  {
   "cell_type": "code",
<<<<<<< HEAD
   "execution_count": 183,
=======
   "execution_count": 533,
>>>>>>> master
   "metadata": {},
   "outputs": [
    {
     "data": {
      "text/plain": [
<<<<<<< HEAD
       "Unknown        11655\n",
       "Landing         1858\n",
       "Takeoff          968\n",
       "Cruise           692\n",
       "Approach         492\n",
       "Maneuvering      377\n",
       "Taxi             206\n",
       "Descent          139\n",
       "Go-around        135\n",
       "Climb            127\n",
       "Standing          51\n",
       "Other              8\n",
       "Name: Phase_of_Flight, dtype: int64"
      ]
     },
     "execution_count": 183,
=======
       "Unknown        15069\n",
       "Landing        13549\n",
       "Takeoff        10199\n",
       "Cruise          8788\n",
       "Maneuvering     6441\n",
       "Approach        5387\n",
       "Taxi            1754\n",
       "Climb           1690\n",
       "Descent         1591\n",
       "Go-around       1232\n",
       "Standing         821\n",
       "Other             83\n",
       "Name: Phase_of_Flight, dtype: int64"
      ]
     },
     "execution_count": 533,
>>>>>>> master
     "metadata": {},
     "output_type": "execute_result"
    }
   ],
   "source": [
<<<<<<< HEAD
    "df['Phase_of_Flight'] \n",
    "df['Phase_of_Flight'].isna().sum() \n",
=======
    "df['Phase_of_Flight'] #81765 total\n",
    "df['Phase_of_Flight'].isna().sum() #20441 Null\n",
>>>>>>> master
    "\n",
    "#Updating null values to Unknown\n",
    "\n",
    "df['Phase_of_Flight'].fillna('Unknown', inplace = True)\n",
    "\n",
    "#Check\n",
    "df['Phase_of_Flight'].value_counts()\n"
   ]
  },
  {
   "cell_type": "markdown",
   "metadata": {},
   "source": [
<<<<<<< HEAD
=======
    "## Cleaning Dates - Done"
   ]
  },
  {
   "cell_type": "code",
   "execution_count": 534,
   "metadata": {},
   "outputs": [
    {
     "data": {
      "text/plain": [
       "0"
      ]
     },
     "execution_count": 534,
     "metadata": {},
     "output_type": "execute_result"
    }
   ],
   "source": [
    "#Transform event date to datetime type\n",
    "df['Event_Date'] = pd.to_datetime(df['Event_Date'])\n",
    "\n",
    "df['Event_Date'].isna().sum()"
   ]
  },
  {
   "cell_type": "markdown",
   "metadata": {},
   "source": [
>>>>>>> master
    "## Cleaning Countries"
   ]
  },
  {
   "cell_type": "code",
<<<<<<< HEAD
   "execution_count": 184,
=======
   "execution_count": 535,
>>>>>>> master
   "metadata": {},
   "outputs": [
    {
     "data": {
      "text/plain": [
       "0"
      ]
     },
<<<<<<< HEAD
     "execution_count": 184,
=======
     "execution_count": 535,
>>>>>>> master
     "metadata": {},
     "output_type": "execute_result"
    }
   ],
   "source": [
    "#Convert NA's to Unknown\n",
    "df['Country'].fillna('Unknown', inplace = True)\n",
    "\n",
    "#check\n",
    "df['Country'].isna().sum()"
   ]
  },
  {
   "cell_type": "markdown",
   "metadata": {},
   "source": [
<<<<<<< HEAD
=======
    "## Cleaning Report Status"
   ]
  },
  {
   "cell_type": "code",
   "execution_count": 536,
   "metadata": {},
   "outputs": [
    {
     "data": {
      "text/plain": [
       "Probable Cause                                                                                                                                              51999\n",
       "Foreign                                                                                                                                                       864\n",
       "Factual                                                                                                                                                       134\n",
       "The pilot's failure to maintain directional control during the landing roll.                                                                                   44\n",
       "A loss of engine power for undetermined reasons.                                                                                                               39\n",
       "                                                                                                                                                            ...  \n",
       "The pilots failure to maintain pitch control on uneven terrain during the landing roll, which resulted in a nose-over.\\r                                       1\n",
       "The pilot's failure to maintain directional control during landing. Contributing to the accident was the pilot's improper application of brakes.                1\n",
       "The pilot's failure to maintain pitch control during landing, which resulted in a porpoise and structural damage to the airplane.                               1\n",
       "The pilot's failure to achieve a proper touchdown point during landing, which resulted in a runway excursion.                                                   1\n",
       "The pilots failure to maintain airplane control during landing with a gusting crosswind which, resulted in a hard landing and collision with terrain.\\r        1\n",
       "Name: Report_Status, Length: 11507, dtype: int64"
      ]
     },
     "execution_count": 536,
     "metadata": {},
     "output_type": "execute_result"
    }
   ],
   "source": [
    "#Leaving it alone until it comes up again\n",
    "df['Report_Status'].value_counts()"
   ]
  },
  {
   "cell_type": "markdown",
   "metadata": {},
   "source": [
>>>>>>> master
    "## Cleaning Location - Done"
   ]
  },
  {
   "cell_type": "code",
<<<<<<< HEAD
   "execution_count": 185,
=======
   "execution_count": 537,
>>>>>>> master
   "metadata": {},
   "outputs": [],
   "source": [
    "#Capitalize all locations \n",
    "df['Location'] = df['Location'].apply(lambda x: str(x).upper())"
   ]
  },
  {
   "cell_type": "code",
<<<<<<< HEAD
   "execution_count": 186,
=======
   "execution_count": 538,
>>>>>>> master
   "metadata": {
    "scrolled": true
   },
   "outputs": [
    {
     "data": {
      "text/html": [
       "<div>\n",
       "<style scoped>\n",
       "    .dataframe tbody tr th:only-of-type {\n",
       "        vertical-align: middle;\n",
       "    }\n",
       "\n",
       "    .dataframe tbody tr th {\n",
       "        vertical-align: top;\n",
       "    }\n",
       "\n",
       "    .dataframe thead th {\n",
       "        text-align: right;\n",
       "    }\n",
       "</style>\n",
       "<table border=\"1\" class=\"dataframe\">\n",
       "  <thead>\n",
       "    <tr style=\"text-align: right;\">\n",
       "      <th></th>\n",
       "      <th>Event_Id</th>\n",
       "      <th>Accident_Number</th>\n",
       "      <th>Event_Date</th>\n",
       "      <th>Location</th>\n",
       "      <th>Country</th>\n",
       "      <th>Injury_Severity</th>\n",
       "      <th>Aircraft_Damage</th>\n",
<<<<<<< HEAD
       "      <th>Aircraft_Category</th>\n",
       "      <th>Make</th>\n",
       "      <th>Model</th>\n",
       "      <th>...</th>\n",
=======
       "      <th>Make</th>\n",
       "      <th>Model</th>\n",
       "      <th>Number_of_Engines</th>\n",
       "      <th>Engine_Type</th>\n",
       "      <th>Purpose_of_flight</th>\n",
       "      <th>Total_Fatal_Injuries</th>\n",
       "      <th>Total_Serious_Injuries</th>\n",
>>>>>>> master
       "      <th>Total_Minor_Injuries</th>\n",
       "      <th>Total_Uninjured</th>\n",
       "      <th>Weather_Condition</th>\n",
       "      <th>Phase_of_Flight</th>\n",
<<<<<<< HEAD
       "      <th>created_year</th>\n",
       "      <th>created_month</th>\n",
       "      <th>created_day</th>\n",
       "      <th>Total_Injuries</th>\n",
       "      <th>Total_Passengers</th>\n",
=======
       "      <th>Report_Status</th>\n",
>>>>>>> master
       "      <th>Make_Model</th>\n",
       "    </tr>\n",
       "  </thead>\n",
       "  <tbody>\n",
       "    <tr>\n",
<<<<<<< HEAD
       "      <th>5</th>\n",
       "      <td>20170710X52551</td>\n",
       "      <td>NYC79AA106</td>\n",
       "      <td>1979-09-17</td>\n",
       "      <td>BOSTON, MA</td>\n",
       "      <td>United States</td>\n",
       "      <td>Non-Fatal</td>\n",
       "      <td>Substantial</td>\n",
       "      <td>Airplane</td>\n",
       "      <td>Douglas</td>\n",
       "      <td>DC9</td>\n",
       "      <td>...</td>\n",
       "      <td>1.0</td>\n",
       "      <td>44.0</td>\n",
       "      <td>VMC</td>\n",
       "      <td>Climb</td>\n",
       "      <td>1979</td>\n",
       "      <td>9</td>\n",
       "      <td>17</td>\n",
       "      <td>1.0</td>\n",
       "      <td>45.0</td>\n",
       "      <td>Douglas DC9</td>\n",
       "    </tr>\n",
       "    <tr>\n",
       "      <th>7</th>\n",
       "      <td>20020909X01562</td>\n",
       "      <td>SEA82DA022</td>\n",
       "      <td>1982-01-01</td>\n",
       "      <td>PULLMAN, WA</td>\n",
       "      <td>United States</td>\n",
       "      <td>Non-Fatal</td>\n",
       "      <td>Substantial</td>\n",
       "      <td>Airplane</td>\n",
       "      <td>Cessna</td>\n",
       "      <td>140</td>\n",
       "      <td>...</td>\n",
       "      <td>0.0</td>\n",
       "      <td>2.0</td>\n",
       "      <td>VMC</td>\n",
       "      <td>Takeoff</td>\n",
       "      <td>1982</td>\n",
       "      <td>1</td>\n",
       "      <td>1</td>\n",
       "      <td>0.0</td>\n",
       "      <td>2.0</td>\n",
       "      <td>Cessna 140</td>\n",
       "    </tr>\n",
       "    <tr>\n",
       "      <th>8</th>\n",
       "      <td>20020909X01561</td>\n",
       "      <td>NYC82DA015</td>\n",
       "      <td>1982-01-01</td>\n",
       "      <td>EAST HANOVER, NJ</td>\n",
       "      <td>United States</td>\n",
       "      <td>Non-Fatal</td>\n",
       "      <td>Substantial</td>\n",
       "      <td>Airplane</td>\n",
       "      <td>Cessna</td>\n",
       "      <td>401B</td>\n",
       "      <td>...</td>\n",
       "      <td>0.0</td>\n",
       "      <td>2.0</td>\n",
       "      <td>IMC</td>\n",
       "      <td>Landing</td>\n",
       "      <td>1982</td>\n",
       "      <td>1</td>\n",
       "      <td>1</td>\n",
       "      <td>0.0</td>\n",
       "      <td>2.0</td>\n",
       "      <td>Cessna 401B</td>\n",
       "    </tr>\n",
       "    <tr>\n",
       "      <th>12</th>\n",
       "      <td>20020917X02148</td>\n",
       "      <td>FTW82FRJ07</td>\n",
       "      <td>1982-01-02</td>\n",
       "      <td>HOMER, LA</td>\n",
       "      <td>United States</td>\n",
       "      <td>Non-Fatal</td>\n",
       "      <td>Destroyed</td>\n",
       "      <td>Airplane</td>\n",
       "      <td>Bellanca</td>\n",
       "      <td>17-30A</td>\n",
       "      <td>...</td>\n",
       "      <td>1.0</td>\n",
       "      <td>0.0</td>\n",
       "      <td>IMC</td>\n",
       "      <td>Cruise</td>\n",
       "      <td>1982</td>\n",
       "      <td>1</td>\n",
       "      <td>2</td>\n",
       "      <td>1.0</td>\n",
       "      <td>1.0</td>\n",
       "      <td>Bellanca 17-30A</td>\n",
       "    </tr>\n",
       "    <tr>\n",
       "      <th>13</th>\n",
       "      <td>20020917X02134</td>\n",
       "      <td>FTW82FRA14</td>\n",
       "      <td>1982-01-02</td>\n",
       "      <td>HEARNE, TX</td>\n",
       "      <td>United States</td>\n",
       "      <td>Fatal</td>\n",
       "      <td>Destroyed</td>\n",
       "      <td>Airplane</td>\n",
       "      <td>Cessna</td>\n",
       "      <td>R172K</td>\n",
       "      <td>...</td>\n",
       "      <td>0.0</td>\n",
       "      <td>0.0</td>\n",
       "      <td>IMC</td>\n",
       "      <td>Takeoff</td>\n",
       "      <td>1982</td>\n",
       "      <td>1</td>\n",
       "      <td>2</td>\n",
       "      <td>1.0</td>\n",
       "      <td>1.0</td>\n",
       "      <td>Cessna R172K</td>\n",
       "    </tr>\n",
       "  </tbody>\n",
       "</table>\n",
       "<p>5 rows × 25 columns</p>\n",
       "</div>"
      ],
      "text/plain": [
       "          Event_Id Accident_Number Event_Date          Location  \\\n",
       "5   20170710X52551      NYC79AA106 1979-09-17        BOSTON, MA   \n",
       "7   20020909X01562      SEA82DA022 1982-01-01       PULLMAN, WA   \n",
       "8   20020909X01561      NYC82DA015 1982-01-01  EAST HANOVER, NJ   \n",
       "12  20020917X02148      FTW82FRJ07 1982-01-02         HOMER, LA   \n",
       "13  20020917X02134      FTW82FRA14 1982-01-02        HEARNE, TX   \n",
       "\n",
       "          Country Injury_Severity Aircraft_Damage Aircraft_Category      Make  \\\n",
       "5   United States       Non-Fatal     Substantial          Airplane   Douglas   \n",
       "7   United States       Non-Fatal     Substantial          Airplane    Cessna   \n",
       "8   United States       Non-Fatal     Substantial          Airplane    Cessna   \n",
       "12  United States       Non-Fatal       Destroyed          Airplane  Bellanca   \n",
       "13  United States           Fatal       Destroyed          Airplane    Cessna   \n",
       "\n",
       "     Model  ... Total_Minor_Injuries Total_Uninjured Weather_Condition  \\\n",
       "5      DC9  ...                  1.0            44.0               VMC   \n",
       "7      140  ...                  0.0             2.0               VMC   \n",
       "8     401B  ...                  0.0             2.0               IMC   \n",
       "12  17-30A  ...                  1.0             0.0               IMC   \n",
       "13   R172K  ...                  0.0             0.0               IMC   \n",
       "\n",
       "    Phase_of_Flight  created_year  created_month  created_day Total_Injuries  \\\n",
       "5             Climb          1979              9           17            1.0   \n",
       "7           Takeoff          1982              1            1            0.0   \n",
       "8           Landing          1982              1            1            0.0   \n",
       "12           Cruise          1982              1            2            1.0   \n",
       "13          Takeoff          1982              1            2            1.0   \n",
       "\n",
       "   Total_Passengers       Make_Model  \n",
       "5              45.0      Douglas DC9  \n",
       "7               2.0       Cessna 140  \n",
       "8               2.0      Cessna 401B  \n",
       "12              1.0  Bellanca 17-30A  \n",
       "13              1.0     Cessna R172K  \n",
       "\n",
       "[5 rows x 25 columns]"
      ]
     },
     "execution_count": 186,
=======
       "      <th>0</th>\n",
       "      <td>20001218X45444</td>\n",
       "      <td>SEA87LA080</td>\n",
       "      <td>1948-10-24</td>\n",
       "      <td>MOOSE CREEK, ID</td>\n",
       "      <td>United States</td>\n",
       "      <td>Fatal</td>\n",
       "      <td>Destroyed</td>\n",
       "      <td>Stinson</td>\n",
       "      <td>108-3</td>\n",
       "      <td>1</td>\n",
       "      <td>Reciprocating</td>\n",
       "      <td>Personal</td>\n",
       "      <td>2.0</td>\n",
       "      <td>0.0</td>\n",
       "      <td>0.0</td>\n",
       "      <td>0.0</td>\n",
       "      <td>UNK</td>\n",
       "      <td>Cruise</td>\n",
       "      <td>Probable Cause</td>\n",
       "      <td>Stinson 108-3</td>\n",
       "    </tr>\n",
       "    <tr>\n",
       "      <th>1</th>\n",
       "      <td>20001218X45447</td>\n",
       "      <td>LAX94LA336</td>\n",
       "      <td>1962-07-19</td>\n",
       "      <td>BRIDGEPORT, CA</td>\n",
       "      <td>United States</td>\n",
       "      <td>Fatal</td>\n",
       "      <td>Destroyed</td>\n",
       "      <td>Piper</td>\n",
       "      <td>PA24-180</td>\n",
       "      <td>1</td>\n",
       "      <td>Reciprocating</td>\n",
       "      <td>Personal</td>\n",
       "      <td>4.0</td>\n",
       "      <td>0.0</td>\n",
       "      <td>0.0</td>\n",
       "      <td>0.0</td>\n",
       "      <td>UNK</td>\n",
       "      <td>Unknown</td>\n",
       "      <td>Probable Cause</td>\n",
       "      <td>Piper PA24-180</td>\n",
       "    </tr>\n",
       "    <tr>\n",
       "      <th>2</th>\n",
       "      <td>20061025X01555</td>\n",
       "      <td>NYC07LA005</td>\n",
       "      <td>1974-08-30</td>\n",
       "      <td>SALTVILLE, VA</td>\n",
       "      <td>United States</td>\n",
       "      <td>Fatal</td>\n",
       "      <td>Destroyed</td>\n",
       "      <td>Cessna</td>\n",
       "      <td>172M</td>\n",
       "      <td>1</td>\n",
       "      <td>Reciprocating</td>\n",
       "      <td>Personal</td>\n",
       "      <td>3.0</td>\n",
       "      <td>0.0</td>\n",
       "      <td>0.0</td>\n",
       "      <td>0.0</td>\n",
       "      <td>IMC</td>\n",
       "      <td>Cruise</td>\n",
       "      <td>Probable Cause</td>\n",
       "      <td>Cessna 172M</td>\n",
       "    </tr>\n",
       "    <tr>\n",
       "      <th>3</th>\n",
       "      <td>20001218X45448</td>\n",
       "      <td>LAX96LA321</td>\n",
       "      <td>1977-06-19</td>\n",
       "      <td>EUREKA, CA</td>\n",
       "      <td>United States</td>\n",
       "      <td>Fatal</td>\n",
       "      <td>Destroyed</td>\n",
       "      <td>Rockwell</td>\n",
       "      <td>112</td>\n",
       "      <td>1</td>\n",
       "      <td>Reciprocating</td>\n",
       "      <td>Personal</td>\n",
       "      <td>2.0</td>\n",
       "      <td>0.0</td>\n",
       "      <td>0.0</td>\n",
       "      <td>0.0</td>\n",
       "      <td>IMC</td>\n",
       "      <td>Cruise</td>\n",
       "      <td>Probable Cause</td>\n",
       "      <td>Rockwell 112</td>\n",
       "    </tr>\n",
       "    <tr>\n",
       "      <th>5</th>\n",
       "      <td>20170710X52551</td>\n",
       "      <td>NYC79AA106</td>\n",
       "      <td>1979-09-17</td>\n",
       "      <td>BOSTON, MA</td>\n",
       "      <td>United States</td>\n",
       "      <td>Non-Fatal</td>\n",
       "      <td>Substantial</td>\n",
       "      <td>Mcdonnell douglas</td>\n",
       "      <td>DC9</td>\n",
       "      <td>2</td>\n",
       "      <td>Turbo Fan</td>\n",
       "      <td>NaN</td>\n",
       "      <td>0.0</td>\n",
       "      <td>0.0</td>\n",
       "      <td>1.0</td>\n",
       "      <td>44.0</td>\n",
       "      <td>VMC</td>\n",
       "      <td>Climb</td>\n",
       "      <td>Probable Cause</td>\n",
       "      <td>Mcdonnell douglas DC9</td>\n",
       "    </tr>\n",
       "  </tbody>\n",
       "</table>\n",
       "</div>"
      ],
      "text/plain": [
       "         Event_Id Accident_Number Event_Date         Location        Country  \\\n",
       "0  20001218X45444      SEA87LA080 1948-10-24  MOOSE CREEK, ID  United States   \n",
       "1  20001218X45447      LAX94LA336 1962-07-19   BRIDGEPORT, CA  United States   \n",
       "2  20061025X01555      NYC07LA005 1974-08-30    SALTVILLE, VA  United States   \n",
       "3  20001218X45448      LAX96LA321 1977-06-19       EUREKA, CA  United States   \n",
       "5  20170710X52551      NYC79AA106 1979-09-17       BOSTON, MA  United States   \n",
       "\n",
       "  Injury_Severity Aircraft_Damage               Make     Model  \\\n",
       "0           Fatal       Destroyed            Stinson     108-3   \n",
       "1           Fatal       Destroyed              Piper  PA24-180   \n",
       "2           Fatal       Destroyed             Cessna      172M   \n",
       "3           Fatal       Destroyed           Rockwell       112   \n",
       "5       Non-Fatal     Substantial  Mcdonnell douglas       DC9   \n",
       "\n",
       "  Number_of_Engines    Engine_Type Purpose_of_flight  Total_Fatal_Injuries  \\\n",
       "0                 1  Reciprocating          Personal                   2.0   \n",
       "1                 1  Reciprocating          Personal                   4.0   \n",
       "2                 1  Reciprocating          Personal                   3.0   \n",
       "3                 1  Reciprocating          Personal                   2.0   \n",
       "5                 2      Turbo Fan               NaN                   0.0   \n",
       "\n",
       "   Total_Serious_Injuries  Total_Minor_Injuries  Total_Uninjured  \\\n",
       "0                     0.0                   0.0              0.0   \n",
       "1                     0.0                   0.0              0.0   \n",
       "2                     0.0                   0.0              0.0   \n",
       "3                     0.0                   0.0              0.0   \n",
       "5                     0.0                   1.0             44.0   \n",
       "\n",
       "  Weather_Condition Phase_of_Flight   Report_Status             Make_Model  \n",
       "0               UNK          Cruise  Probable Cause          Stinson 108-3  \n",
       "1               UNK         Unknown  Probable Cause         Piper PA24-180  \n",
       "2               IMC          Cruise  Probable Cause            Cessna 172M  \n",
       "3               IMC          Cruise  Probable Cause           Rockwell 112  \n",
       "5               VMC           Climb  Probable Cause  Mcdonnell douglas DC9  "
      ]
     },
     "execution_count": 538,
>>>>>>> master
     "metadata": {},
     "output_type": "execute_result"
    }
   ],
   "source": [
    "#check Nulls\n",
    "df['Location'].isna().sum()\n",
    "\n",
    "(df['Location'] == 'Unknown').sum()\n",
    "\n",
    "df.head()"
   ]
  },
  {
<<<<<<< HEAD
=======
   "cell_type": "code",
   "execution_count": 539,
   "metadata": {},
   "outputs": [
    {
     "name": "stdout",
     "output_type": "stream",
     "text": [
      "<class 'pandas.core.frame.DataFrame'>\n",
      "Int64Index: 66604 entries, 0 to 90226\n",
      "Data columns (total 20 columns):\n",
      " #   Column                  Non-Null Count  Dtype         \n",
      "---  ------                  --------------  -----         \n",
      " 0   Event_Id                66604 non-null  object        \n",
      " 1   Accident_Number         66604 non-null  object        \n",
      " 2   Event_Date              66604 non-null  datetime64[ns]\n",
      " 3   Location                66604 non-null  object        \n",
      " 4   Country                 66604 non-null  object        \n",
      " 5   Injury_Severity         66604 non-null  object        \n",
      " 6   Aircraft_Damage         66604 non-null  object        \n",
      " 7   Make                    66604 non-null  object        \n",
      " 8   Model                   66604 non-null  object        \n",
      " 9   Number_of_Engines       66604 non-null  object        \n",
      " 10  Engine_Type             66604 non-null  object        \n",
      " 11  Purpose_of_flight       64278 non-null  object        \n",
      " 12  Total_Fatal_Injuries    66604 non-null  float64       \n",
      " 13  Total_Serious_Injuries  66604 non-null  float64       \n",
      " 14  Total_Minor_Injuries    66604 non-null  float64       \n",
      " 15  Total_Uninjured         66604 non-null  float64       \n",
      " 16  Weather_Condition       66604 non-null  object        \n",
      " 17  Phase_of_Flight         66604 non-null  object        \n",
      " 18  Report_Status           65423 non-null  object        \n",
      " 19  Make_Model              66604 non-null  object        \n",
      "dtypes: datetime64[ns](1), float64(4), object(15)\n",
      "memory usage: 10.7+ MB\n"
     ]
    }
   ],
   "source": [
    "df.info()"
   ]
  },
  {
>>>>>>> master
   "cell_type": "markdown",
   "metadata": {},
   "source": [
    "## Cleaning Purpose of Flight"
   ]
  },
  {
   "cell_type": "code",
<<<<<<< HEAD
   "execution_count": 187,
=======
   "execution_count": 540,
>>>>>>> master
   "metadata": {
    "scrolled": true
   },
   "outputs": [
    {
     "data": {
      "text/plain": [
       "0"
      ]
     },
<<<<<<< HEAD
     "execution_count": 187,
=======
     "execution_count": 540,
>>>>>>> master
     "metadata": {},
     "output_type": "execute_result"
    }
   ],
   "source": [
    "#change all NA's to Unknown\n",
    "df['Purpose_of_flight'].fillna('Unknown', inplace = True)\n",
    "\n",
    "#check\n",
    "df['Purpose_of_flight'].isna().sum()"
   ]
  },
  {
<<<<<<< HEAD
=======
   "cell_type": "code",
   "execution_count": 541,
   "metadata": {},
   "outputs": [
    {
     "name": "stdout",
     "output_type": "stream",
     "text": [
      "<class 'pandas.core.frame.DataFrame'>\n",
      "Int64Index: 66604 entries, 0 to 90226\n",
      "Data columns (total 20 columns):\n",
      " #   Column                  Non-Null Count  Dtype         \n",
      "---  ------                  --------------  -----         \n",
      " 0   Event_Id                66604 non-null  object        \n",
      " 1   Accident_Number         66604 non-null  object        \n",
      " 2   Event_Date              66604 non-null  datetime64[ns]\n",
      " 3   Location                66604 non-null  object        \n",
      " 4   Country                 66604 non-null  object        \n",
      " 5   Injury_Severity         66604 non-null  object        \n",
      " 6   Aircraft_Damage         66604 non-null  object        \n",
      " 7   Make                    66604 non-null  object        \n",
      " 8   Model                   66604 non-null  object        \n",
      " 9   Number_of_Engines       66604 non-null  object        \n",
      " 10  Engine_Type             66604 non-null  object        \n",
      " 11  Purpose_of_flight       66604 non-null  object        \n",
      " 12  Total_Fatal_Injuries    66604 non-null  float64       \n",
      " 13  Total_Serious_Injuries  66604 non-null  float64       \n",
      " 14  Total_Minor_Injuries    66604 non-null  float64       \n",
      " 15  Total_Uninjured         66604 non-null  float64       \n",
      " 16  Weather_Condition       66604 non-null  object        \n",
      " 17  Phase_of_Flight         66604 non-null  object        \n",
      " 18  Report_Status           65423 non-null  object        \n",
      " 19  Make_Model              66604 non-null  object        \n",
      "dtypes: datetime64[ns](1), float64(4), object(15)\n",
      "memory usage: 10.7+ MB\n"
     ]
    }
   ],
   "source": [
    "df.info()"
   ]
  },
  {
>>>>>>> master
   "cell_type": "markdown",
   "metadata": {},
   "source": [
    "# Notes"
   ]
  },
  {
   "cell_type": "markdown",
   "metadata": {},
   "source": [
    "- Review unknown data\n",
    "- change injury NaN's to 0 (makes sense because total number across rows will show total ppl in flight)"
   ]
  },
  {
   "cell_type": "markdown",
   "metadata": {},
   "source": [
    "## Check df "
   ]
  },
  {
   "cell_type": "code",
<<<<<<< HEAD
   "execution_count": 188,
=======
   "execution_count": 542,
>>>>>>> master
   "metadata": {},
   "outputs": [
    {
     "data": {
      "text/html": [
       "<div>\n",
       "<style scoped>\n",
       "    .dataframe tbody tr th:only-of-type {\n",
       "        vertical-align: middle;\n",
       "    }\n",
       "\n",
       "    .dataframe tbody tr th {\n",
       "        vertical-align: top;\n",
       "    }\n",
       "\n",
       "    .dataframe thead th {\n",
       "        text-align: right;\n",
       "    }\n",
       "</style>\n",
       "<table border=\"1\" class=\"dataframe\">\n",
       "  <thead>\n",
       "    <tr style=\"text-align: right;\">\n",
       "      <th></th>\n",
       "      <th>Event_Id</th>\n",
       "      <th>Accident_Number</th>\n",
       "      <th>Event_Date</th>\n",
       "      <th>Location</th>\n",
       "      <th>Country</th>\n",
       "      <th>Injury_Severity</th>\n",
       "      <th>Aircraft_Damage</th>\n",
<<<<<<< HEAD
       "      <th>Aircraft_Category</th>\n",
       "      <th>Make</th>\n",
       "      <th>Model</th>\n",
       "      <th>...</th>\n",
=======
       "      <th>Make</th>\n",
       "      <th>Model</th>\n",
       "      <th>Number_of_Engines</th>\n",
       "      <th>Engine_Type</th>\n",
       "      <th>Purpose_of_flight</th>\n",
       "      <th>Total_Fatal_Injuries</th>\n",
       "      <th>Total_Serious_Injuries</th>\n",
>>>>>>> master
       "      <th>Total_Minor_Injuries</th>\n",
       "      <th>Total_Uninjured</th>\n",
       "      <th>Weather_Condition</th>\n",
       "      <th>Phase_of_Flight</th>\n",
<<<<<<< HEAD
       "      <th>created_year</th>\n",
       "      <th>created_month</th>\n",
       "      <th>created_day</th>\n",
       "      <th>Total_Injuries</th>\n",
       "      <th>Total_Passengers</th>\n",
=======
       "      <th>Report_Status</th>\n",
>>>>>>> master
       "      <th>Make_Model</th>\n",
       "    </tr>\n",
       "  </thead>\n",
       "  <tbody>\n",
       "    <tr>\n",
<<<<<<< HEAD
       "      <th>5</th>\n",
       "      <td>20170710X52551</td>\n",
       "      <td>NYC79AA106</td>\n",
       "      <td>1979-09-17</td>\n",
       "      <td>BOSTON, MA</td>\n",
       "      <td>United States</td>\n",
       "      <td>Non-Fatal</td>\n",
       "      <td>Substantial</td>\n",
       "      <td>Airplane</td>\n",
       "      <td>Douglas</td>\n",
       "      <td>DC9</td>\n",
       "      <td>...</td>\n",
       "      <td>1.0</td>\n",
       "      <td>44.0</td>\n",
       "      <td>VMC</td>\n",
       "      <td>Climb</td>\n",
       "      <td>1979</td>\n",
       "      <td>9</td>\n",
       "      <td>17</td>\n",
       "      <td>1.0</td>\n",
       "      <td>45.0</td>\n",
       "      <td>Douglas DC9</td>\n",
       "    </tr>\n",
       "    <tr>\n",
       "      <th>7</th>\n",
       "      <td>20020909X01562</td>\n",
       "      <td>SEA82DA022</td>\n",
       "      <td>1982-01-01</td>\n",
       "      <td>PULLMAN, WA</td>\n",
       "      <td>United States</td>\n",
       "      <td>Non-Fatal</td>\n",
       "      <td>Substantial</td>\n",
       "      <td>Airplane</td>\n",
       "      <td>Cessna</td>\n",
       "      <td>140</td>\n",
       "      <td>...</td>\n",
       "      <td>0.0</td>\n",
       "      <td>2.0</td>\n",
       "      <td>VMC</td>\n",
       "      <td>Takeoff</td>\n",
       "      <td>1982</td>\n",
       "      <td>1</td>\n",
       "      <td>1</td>\n",
       "      <td>0.0</td>\n",
       "      <td>2.0</td>\n",
       "      <td>Cessna 140</td>\n",
       "    </tr>\n",
       "    <tr>\n",
       "      <th>8</th>\n",
       "      <td>20020909X01561</td>\n",
       "      <td>NYC82DA015</td>\n",
       "      <td>1982-01-01</td>\n",
       "      <td>EAST HANOVER, NJ</td>\n",
       "      <td>United States</td>\n",
       "      <td>Non-Fatal</td>\n",
       "      <td>Substantial</td>\n",
       "      <td>Airplane</td>\n",
       "      <td>Cessna</td>\n",
       "      <td>401B</td>\n",
       "      <td>...</td>\n",
       "      <td>0.0</td>\n",
       "      <td>2.0</td>\n",
       "      <td>IMC</td>\n",
       "      <td>Landing</td>\n",
       "      <td>1982</td>\n",
       "      <td>1</td>\n",
       "      <td>1</td>\n",
       "      <td>0.0</td>\n",
       "      <td>2.0</td>\n",
       "      <td>Cessna 401B</td>\n",
       "    </tr>\n",
       "    <tr>\n",
       "      <th>12</th>\n",
       "      <td>20020917X02148</td>\n",
       "      <td>FTW82FRJ07</td>\n",
       "      <td>1982-01-02</td>\n",
       "      <td>HOMER, LA</td>\n",
       "      <td>United States</td>\n",
       "      <td>Non-Fatal</td>\n",
       "      <td>Destroyed</td>\n",
       "      <td>Airplane</td>\n",
       "      <td>Bellanca</td>\n",
       "      <td>17-30A</td>\n",
       "      <td>...</td>\n",
       "      <td>1.0</td>\n",
       "      <td>0.0</td>\n",
       "      <td>IMC</td>\n",
       "      <td>Cruise</td>\n",
       "      <td>1982</td>\n",
       "      <td>1</td>\n",
       "      <td>2</td>\n",
       "      <td>1.0</td>\n",
       "      <td>1.0</td>\n",
       "      <td>Bellanca 17-30A</td>\n",
       "    </tr>\n",
       "    <tr>\n",
       "      <th>13</th>\n",
       "      <td>20020917X02134</td>\n",
       "      <td>FTW82FRA14</td>\n",
       "      <td>1982-01-02</td>\n",
       "      <td>HEARNE, TX</td>\n",
       "      <td>United States</td>\n",
       "      <td>Fatal</td>\n",
       "      <td>Destroyed</td>\n",
       "      <td>Airplane</td>\n",
       "      <td>Cessna</td>\n",
       "      <td>R172K</td>\n",
       "      <td>...</td>\n",
       "      <td>0.0</td>\n",
       "      <td>0.0</td>\n",
       "      <td>IMC</td>\n",
       "      <td>Takeoff</td>\n",
       "      <td>1982</td>\n",
       "      <td>1</td>\n",
       "      <td>2</td>\n",
       "      <td>1.0</td>\n",
       "      <td>1.0</td>\n",
       "      <td>Cessna R172K</td>\n",
       "    </tr>\n",
       "  </tbody>\n",
       "</table>\n",
       "<p>5 rows × 25 columns</p>\n",
       "</div>"
      ],
      "text/plain": [
       "          Event_Id Accident_Number Event_Date          Location  \\\n",
       "5   20170710X52551      NYC79AA106 1979-09-17        BOSTON, MA   \n",
       "7   20020909X01562      SEA82DA022 1982-01-01       PULLMAN, WA   \n",
       "8   20020909X01561      NYC82DA015 1982-01-01  EAST HANOVER, NJ   \n",
       "12  20020917X02148      FTW82FRJ07 1982-01-02         HOMER, LA   \n",
       "13  20020917X02134      FTW82FRA14 1982-01-02        HEARNE, TX   \n",
       "\n",
       "          Country Injury_Severity Aircraft_Damage Aircraft_Category      Make  \\\n",
       "5   United States       Non-Fatal     Substantial          Airplane   Douglas   \n",
       "7   United States       Non-Fatal     Substantial          Airplane    Cessna   \n",
       "8   United States       Non-Fatal     Substantial          Airplane    Cessna   \n",
       "12  United States       Non-Fatal       Destroyed          Airplane  Bellanca   \n",
       "13  United States           Fatal       Destroyed          Airplane    Cessna   \n",
       "\n",
       "     Model  ... Total_Minor_Injuries Total_Uninjured Weather_Condition  \\\n",
       "5      DC9  ...                  1.0            44.0               VMC   \n",
       "7      140  ...                  0.0             2.0               VMC   \n",
       "8     401B  ...                  0.0             2.0               IMC   \n",
       "12  17-30A  ...                  1.0             0.0               IMC   \n",
       "13   R172K  ...                  0.0             0.0               IMC   \n",
       "\n",
       "    Phase_of_Flight  created_year  created_month  created_day Total_Injuries  \\\n",
       "5             Climb          1979              9           17            1.0   \n",
       "7           Takeoff          1982              1            1            0.0   \n",
       "8           Landing          1982              1            1            0.0   \n",
       "12           Cruise          1982              1            2            1.0   \n",
       "13          Takeoff          1982              1            2            1.0   \n",
       "\n",
       "   Total_Passengers       Make_Model  \n",
       "5              45.0      Douglas DC9  \n",
       "7               2.0       Cessna 140  \n",
       "8               2.0      Cessna 401B  \n",
       "12              1.0  Bellanca 17-30A  \n",
       "13              1.0     Cessna R172K  \n",
       "\n",
       "[5 rows x 25 columns]"
      ]
     },
     "execution_count": 188,
=======
       "      <th>0</th>\n",
       "      <td>20001218X45444</td>\n",
       "      <td>SEA87LA080</td>\n",
       "      <td>1948-10-24</td>\n",
       "      <td>MOOSE CREEK, ID</td>\n",
       "      <td>United States</td>\n",
       "      <td>Fatal</td>\n",
       "      <td>Destroyed</td>\n",
       "      <td>Stinson</td>\n",
       "      <td>108-3</td>\n",
       "      <td>1</td>\n",
       "      <td>Reciprocating</td>\n",
       "      <td>Personal</td>\n",
       "      <td>2.0</td>\n",
       "      <td>0.0</td>\n",
       "      <td>0.0</td>\n",
       "      <td>0.0</td>\n",
       "      <td>UNK</td>\n",
       "      <td>Cruise</td>\n",
       "      <td>Probable Cause</td>\n",
       "      <td>Stinson 108-3</td>\n",
       "    </tr>\n",
       "    <tr>\n",
       "      <th>1</th>\n",
       "      <td>20001218X45447</td>\n",
       "      <td>LAX94LA336</td>\n",
       "      <td>1962-07-19</td>\n",
       "      <td>BRIDGEPORT, CA</td>\n",
       "      <td>United States</td>\n",
       "      <td>Fatal</td>\n",
       "      <td>Destroyed</td>\n",
       "      <td>Piper</td>\n",
       "      <td>PA24-180</td>\n",
       "      <td>1</td>\n",
       "      <td>Reciprocating</td>\n",
       "      <td>Personal</td>\n",
       "      <td>4.0</td>\n",
       "      <td>0.0</td>\n",
       "      <td>0.0</td>\n",
       "      <td>0.0</td>\n",
       "      <td>UNK</td>\n",
       "      <td>Unknown</td>\n",
       "      <td>Probable Cause</td>\n",
       "      <td>Piper PA24-180</td>\n",
       "    </tr>\n",
       "    <tr>\n",
       "      <th>2</th>\n",
       "      <td>20061025X01555</td>\n",
       "      <td>NYC07LA005</td>\n",
       "      <td>1974-08-30</td>\n",
       "      <td>SALTVILLE, VA</td>\n",
       "      <td>United States</td>\n",
       "      <td>Fatal</td>\n",
       "      <td>Destroyed</td>\n",
       "      <td>Cessna</td>\n",
       "      <td>172M</td>\n",
       "      <td>1</td>\n",
       "      <td>Reciprocating</td>\n",
       "      <td>Personal</td>\n",
       "      <td>3.0</td>\n",
       "      <td>0.0</td>\n",
       "      <td>0.0</td>\n",
       "      <td>0.0</td>\n",
       "      <td>IMC</td>\n",
       "      <td>Cruise</td>\n",
       "      <td>Probable Cause</td>\n",
       "      <td>Cessna 172M</td>\n",
       "    </tr>\n",
       "    <tr>\n",
       "      <th>3</th>\n",
       "      <td>20001218X45448</td>\n",
       "      <td>LAX96LA321</td>\n",
       "      <td>1977-06-19</td>\n",
       "      <td>EUREKA, CA</td>\n",
       "      <td>United States</td>\n",
       "      <td>Fatal</td>\n",
       "      <td>Destroyed</td>\n",
       "      <td>Rockwell</td>\n",
       "      <td>112</td>\n",
       "      <td>1</td>\n",
       "      <td>Reciprocating</td>\n",
       "      <td>Personal</td>\n",
       "      <td>2.0</td>\n",
       "      <td>0.0</td>\n",
       "      <td>0.0</td>\n",
       "      <td>0.0</td>\n",
       "      <td>IMC</td>\n",
       "      <td>Cruise</td>\n",
       "      <td>Probable Cause</td>\n",
       "      <td>Rockwell 112</td>\n",
       "    </tr>\n",
       "    <tr>\n",
       "      <th>5</th>\n",
       "      <td>20170710X52551</td>\n",
       "      <td>NYC79AA106</td>\n",
       "      <td>1979-09-17</td>\n",
       "      <td>BOSTON, MA</td>\n",
       "      <td>United States</td>\n",
       "      <td>Non-Fatal</td>\n",
       "      <td>Substantial</td>\n",
       "      <td>Mcdonnell douglas</td>\n",
       "      <td>DC9</td>\n",
       "      <td>2</td>\n",
       "      <td>Turbo Fan</td>\n",
       "      <td>Unknown</td>\n",
       "      <td>0.0</td>\n",
       "      <td>0.0</td>\n",
       "      <td>1.0</td>\n",
       "      <td>44.0</td>\n",
       "      <td>VMC</td>\n",
       "      <td>Climb</td>\n",
       "      <td>Probable Cause</td>\n",
       "      <td>Mcdonnell douglas DC9</td>\n",
       "    </tr>\n",
       "  </tbody>\n",
       "</table>\n",
       "</div>"
      ],
      "text/plain": [
       "         Event_Id Accident_Number Event_Date         Location        Country  \\\n",
       "0  20001218X45444      SEA87LA080 1948-10-24  MOOSE CREEK, ID  United States   \n",
       "1  20001218X45447      LAX94LA336 1962-07-19   BRIDGEPORT, CA  United States   \n",
       "2  20061025X01555      NYC07LA005 1974-08-30    SALTVILLE, VA  United States   \n",
       "3  20001218X45448      LAX96LA321 1977-06-19       EUREKA, CA  United States   \n",
       "5  20170710X52551      NYC79AA106 1979-09-17       BOSTON, MA  United States   \n",
       "\n",
       "  Injury_Severity Aircraft_Damage               Make     Model  \\\n",
       "0           Fatal       Destroyed            Stinson     108-3   \n",
       "1           Fatal       Destroyed              Piper  PA24-180   \n",
       "2           Fatal       Destroyed             Cessna      172M   \n",
       "3           Fatal       Destroyed           Rockwell       112   \n",
       "5       Non-Fatal     Substantial  Mcdonnell douglas       DC9   \n",
       "\n",
       "  Number_of_Engines    Engine_Type Purpose_of_flight  Total_Fatal_Injuries  \\\n",
       "0                 1  Reciprocating          Personal                   2.0   \n",
       "1                 1  Reciprocating          Personal                   4.0   \n",
       "2                 1  Reciprocating          Personal                   3.0   \n",
       "3                 1  Reciprocating          Personal                   2.0   \n",
       "5                 2      Turbo Fan           Unknown                   0.0   \n",
       "\n",
       "   Total_Serious_Injuries  Total_Minor_Injuries  Total_Uninjured  \\\n",
       "0                     0.0                   0.0              0.0   \n",
       "1                     0.0                   0.0              0.0   \n",
       "2                     0.0                   0.0              0.0   \n",
       "3                     0.0                   0.0              0.0   \n",
       "5                     0.0                   1.0             44.0   \n",
       "\n",
       "  Weather_Condition Phase_of_Flight   Report_Status             Make_Model  \n",
       "0               UNK          Cruise  Probable Cause          Stinson 108-3  \n",
       "1               UNK         Unknown  Probable Cause         Piper PA24-180  \n",
       "2               IMC          Cruise  Probable Cause            Cessna 172M  \n",
       "3               IMC          Cruise  Probable Cause           Rockwell 112  \n",
       "5               VMC           Climb  Probable Cause  Mcdonnell douglas DC9  "
      ]
     },
     "execution_count": 542,
>>>>>>> master
     "metadata": {},
     "output_type": "execute_result"
    }
   ],
   "source": [
    "df.head()"
   ]
  },
  {
   "cell_type": "markdown",
   "metadata": {},
   "source": [
    "# Copy to new csv"
   ]
  },
  {
   "cell_type": "code",
<<<<<<< HEAD
   "execution_count": null,
   "metadata": {},
   "outputs": [],
   "source": [
    "dfII = pd.read_csv('Clean_Aviation')"
   ]
  },
  {
   "cell_type": "code",
   "execution_count": 189,
   "metadata": {},
   "outputs": [],
   "source": [
    "#df.to_csv('Clean_AviationII.csv', index = False)"
=======
   "execution_count": 543,
   "metadata": {},
   "outputs": [],
   "source": [
    "df.to_csv('Clean_Aviation.csv', index = False)"
>>>>>>> master
   ]
  },
  {
   "cell_type": "code",
   "execution_count": null,
   "metadata": {},
   "outputs": [],
   "source": []
  }
 ],
 "metadata": {
  "kernelspec": {
   "display_name": "Python (learn-env)",
   "language": "python",
   "name": "learn-env"
  },
  "language_info": {
   "codemirror_mode": {
    "name": "ipython",
    "version": 3
   },
   "file_extension": ".py",
   "mimetype": "text/x-python",
   "name": "python",
   "nbconvert_exporter": "python",
   "pygments_lexer": "ipython3",
   "version": "3.8.5"
  }
 },
 "nbformat": 4,
 "nbformat_minor": 4
}
