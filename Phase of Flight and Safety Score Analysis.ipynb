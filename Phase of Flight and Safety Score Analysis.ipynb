{
 "cells": [
  {
   "cell_type": "markdown",
   "metadata": {},
   "source": [
    "# At what phase of the flight is the most damage occuring?\n",
    "\n",
    "Compare damage happening within each phase of flight\n",
    "\n",
    "\t#Aircraft_damage\n",
    "    #Phase_of_Flight\n",
    "\n",
    "# At what phase of the flight are the most injuries occuring?\n",
    "\n",
    "Compare each set of injuries with Phase of Flight\n",
    "\n",
    "\t#Total_Fatal_Injuries\n",
    "\t#Total_Serious_Injuries\n",
    "\t#Total_Minor_Injuries\n",
    "\t#Total_Uninjured\n",
    "\n",
    "\t#Injury_severity\n",
    "    \n",
    "    Injury severity??\n",
    "    \n",
    "\n",
    "\n"
   ]
  },
  {
   "cell_type": "markdown",
   "metadata": {},
   "source": [
    "## Import Packages and Data"
   ]
  },
  {
   "cell_type": "code",
<<<<<<< HEAD
   "execution_count": 1,
=======
   "execution_count": 3,
>>>>>>> master
   "metadata": {},
   "outputs": [],
   "source": [
    "#Import Packages\n",
    "\n",
    "import pandas as pd\n",
    "import matplotlib.pyplot as plt \n",
    "import seaborn as sns"
   ]
  },
  {
   "cell_type": "code",
<<<<<<< HEAD
   "execution_count": 3,
=======
   "execution_count": 4,
>>>>>>> master
   "metadata": {},
   "outputs": [],
   "source": [
    "#Import Data\n",
    "\n",
<<<<<<< HEAD
    "planes = pd.read_csv('data/Clean_AviationII.csv')"
=======
    "planes = pd.read_csv('data/Clean_Aviation.csv')"
>>>>>>> master
   ]
  },
  {
   "cell_type": "markdown",
   "metadata": {},
   "source": [
    "## Inspect Data"
   ]
  },
  {
   "cell_type": "code",
<<<<<<< HEAD
   "execution_count": 4,
=======
   "execution_count": 5,
>>>>>>> master
   "metadata": {},
   "outputs": [
    {
     "data": {
      "text/html": [
       "<div>\n",
       "<style scoped>\n",
       "    .dataframe tbody tr th:only-of-type {\n",
       "        vertical-align: middle;\n",
       "    }\n",
       "\n",
       "    .dataframe tbody tr th {\n",
       "        vertical-align: top;\n",
       "    }\n",
       "\n",
       "    .dataframe thead th {\n",
       "        text-align: right;\n",
       "    }\n",
       "</style>\n",
       "<table border=\"1\" class=\"dataframe\">\n",
       "  <thead>\n",
       "    <tr style=\"text-align: right;\">\n",
       "      <th></th>\n",
       "      <th>Event_Id</th>\n",
       "      <th>Accident_Number</th>\n",
       "      <th>Event_Date</th>\n",
       "      <th>Location</th>\n",
       "      <th>Country</th>\n",
       "      <th>Injury_Severity</th>\n",
       "      <th>Aircraft_Damage</th>\n",
<<<<<<< HEAD
       "      <th>Aircraft_Category</th>\n",
       "      <th>Make</th>\n",
       "      <th>Model</th>\n",
       "      <th>...</th>\n",
=======
       "      <th>Make</th>\n",
       "      <th>Model</th>\n",
       "      <th>Number_of_Engines</th>\n",
       "      <th>Engine_Type</th>\n",
       "      <th>Purpose_of_flight</th>\n",
       "      <th>Total_Fatal_Injuries</th>\n",
       "      <th>Total_Serious_Injuries</th>\n",
>>>>>>> master
       "      <th>Total_Minor_Injuries</th>\n",
       "      <th>Total_Uninjured</th>\n",
       "      <th>Weather_Condition</th>\n",
       "      <th>Phase_of_Flight</th>\n",
<<<<<<< HEAD
       "      <th>created_year</th>\n",
       "      <th>created_month</th>\n",
       "      <th>created_day</th>\n",
       "      <th>Total_Injuries</th>\n",
       "      <th>Total_Passengers</th>\n",
=======
       "      <th>Report_Status</th>\n",
>>>>>>> master
       "      <th>Make_Model</th>\n",
       "    </tr>\n",
       "  </thead>\n",
       "  <tbody>\n",
       "    <tr>\n",
       "      <th>0</th>\n",
<<<<<<< HEAD
       "      <td>20170710X52551</td>\n",
       "      <td>NYC79AA106</td>\n",
       "      <td>1979-09-17</td>\n",
       "      <td>BOSTON, MA</td>\n",
       "      <td>United States</td>\n",
       "      <td>Non-Fatal</td>\n",
       "      <td>Substantial</td>\n",
       "      <td>Airplane</td>\n",
       "      <td>Douglas</td>\n",
       "      <td>DC9</td>\n",
       "      <td>...</td>\n",
       "      <td>1.0</td>\n",
       "      <td>44.0</td>\n",
       "      <td>VMC</td>\n",
       "      <td>Climb</td>\n",
       "      <td>1979</td>\n",
       "      <td>9</td>\n",
       "      <td>17</td>\n",
       "      <td>1.0</td>\n",
       "      <td>45.0</td>\n",
       "      <td>Douglas DC9</td>\n",
       "    </tr>\n",
       "    <tr>\n",
       "      <th>1</th>\n",
       "      <td>20020909X01562</td>\n",
       "      <td>SEA82DA022</td>\n",
       "      <td>1982-01-01</td>\n",
       "      <td>PULLMAN, WA</td>\n",
       "      <td>United States</td>\n",
       "      <td>Non-Fatal</td>\n",
       "      <td>Substantial</td>\n",
       "      <td>Airplane</td>\n",
       "      <td>Cessna</td>\n",
       "      <td>140</td>\n",
       "      <td>...</td>\n",
       "      <td>0.0</td>\n",
       "      <td>2.0</td>\n",
       "      <td>VMC</td>\n",
       "      <td>Takeoff</td>\n",
       "      <td>1982</td>\n",
       "      <td>1</td>\n",
       "      <td>1</td>\n",
       "      <td>0.0</td>\n",
       "      <td>2.0</td>\n",
       "      <td>Cessna 140</td>\n",
       "    </tr>\n",
       "    <tr>\n",
       "      <th>2</th>\n",
       "      <td>20020909X01561</td>\n",
       "      <td>NYC82DA015</td>\n",
       "      <td>1982-01-01</td>\n",
       "      <td>EAST HANOVER, NJ</td>\n",
       "      <td>United States</td>\n",
       "      <td>Non-Fatal</td>\n",
       "      <td>Substantial</td>\n",
       "      <td>Airplane</td>\n",
       "      <td>Cessna</td>\n",
       "      <td>401B</td>\n",
       "      <td>...</td>\n",
       "      <td>0.0</td>\n",
       "      <td>2.0</td>\n",
       "      <td>IMC</td>\n",
       "      <td>Landing</td>\n",
       "      <td>1982</td>\n",
       "      <td>1</td>\n",
       "      <td>1</td>\n",
       "      <td>0.0</td>\n",
       "      <td>2.0</td>\n",
       "      <td>Cessna 401B</td>\n",
       "    </tr>\n",
       "    <tr>\n",
       "      <th>3</th>\n",
       "      <td>20020917X02148</td>\n",
       "      <td>FTW82FRJ07</td>\n",
       "      <td>1982-01-02</td>\n",
       "      <td>HOMER, LA</td>\n",
       "      <td>United States</td>\n",
       "      <td>Non-Fatal</td>\n",
       "      <td>Destroyed</td>\n",
       "      <td>Airplane</td>\n",
       "      <td>Bellanca</td>\n",
       "      <td>17-30A</td>\n",
       "      <td>...</td>\n",
       "      <td>1.0</td>\n",
       "      <td>0.0</td>\n",
       "      <td>IMC</td>\n",
       "      <td>Cruise</td>\n",
       "      <td>1982</td>\n",
       "      <td>1</td>\n",
       "      <td>2</td>\n",
       "      <td>1.0</td>\n",
       "      <td>1.0</td>\n",
       "      <td>Bellanca 17-30A</td>\n",
       "    </tr>\n",
       "    <tr>\n",
       "      <th>4</th>\n",
       "      <td>20020917X02134</td>\n",
       "      <td>FTW82FRA14</td>\n",
       "      <td>1982-01-02</td>\n",
       "      <td>HEARNE, TX</td>\n",
       "      <td>United States</td>\n",
       "      <td>Fatal</td>\n",
       "      <td>Destroyed</td>\n",
       "      <td>Airplane</td>\n",
       "      <td>Cessna</td>\n",
       "      <td>R172K</td>\n",
       "      <td>...</td>\n",
       "      <td>0.0</td>\n",
       "      <td>0.0</td>\n",
       "      <td>IMC</td>\n",
       "      <td>Takeoff</td>\n",
       "      <td>1982</td>\n",
       "      <td>1</td>\n",
       "      <td>2</td>\n",
       "      <td>1.0</td>\n",
       "      <td>1.0</td>\n",
       "      <td>Cessna R172K</td>\n",
       "    </tr>\n",
       "  </tbody>\n",
       "</table>\n",
       "<p>5 rows × 25 columns</p>\n",
       "</div>"
      ],
      "text/plain": [
       "         Event_Id Accident_Number  Event_Date          Location  \\\n",
       "0  20170710X52551      NYC79AA106  1979-09-17        BOSTON, MA   \n",
       "1  20020909X01562      SEA82DA022  1982-01-01       PULLMAN, WA   \n",
       "2  20020909X01561      NYC82DA015  1982-01-01  EAST HANOVER, NJ   \n",
       "3  20020917X02148      FTW82FRJ07  1982-01-02         HOMER, LA   \n",
       "4  20020917X02134      FTW82FRA14  1982-01-02        HEARNE, TX   \n",
       "\n",
       "         Country Injury_Severity Aircraft_Damage Aircraft_Category      Make  \\\n",
       "0  United States       Non-Fatal     Substantial          Airplane   Douglas   \n",
       "1  United States       Non-Fatal     Substantial          Airplane    Cessna   \n",
       "2  United States       Non-Fatal     Substantial          Airplane    Cessna   \n",
       "3  United States       Non-Fatal       Destroyed          Airplane  Bellanca   \n",
       "4  United States           Fatal       Destroyed          Airplane    Cessna   \n",
       "\n",
       "    Model  ... Total_Minor_Injuries Total_Uninjured Weather_Condition  \\\n",
       "0     DC9  ...                  1.0            44.0               VMC   \n",
       "1     140  ...                  0.0             2.0               VMC   \n",
       "2    401B  ...                  0.0             2.0               IMC   \n",
       "3  17-30A  ...                  1.0             0.0               IMC   \n",
       "4   R172K  ...                  0.0             0.0               IMC   \n",
       "\n",
       "   Phase_of_Flight  created_year  created_month  created_day Total_Injuries  \\\n",
       "0            Climb          1979              9           17            1.0   \n",
       "1          Takeoff          1982              1            1            0.0   \n",
       "2          Landing          1982              1            1            0.0   \n",
       "3           Cruise          1982              1            2            1.0   \n",
       "4          Takeoff          1982              1            2            1.0   \n",
       "\n",
       "  Total_Passengers       Make_Model  \n",
       "0             45.0      Douglas DC9  \n",
       "1              2.0       Cessna 140  \n",
       "2              2.0      Cessna 401B  \n",
       "3              1.0  Bellanca 17-30A  \n",
       "4              1.0     Cessna R172K  \n",
       "\n",
       "[5 rows x 25 columns]"
      ]
     },
     "execution_count": 4,
=======
       "      <td>20001218X45444</td>\n",
       "      <td>SEA87LA080</td>\n",
       "      <td>1948-10-24</td>\n",
       "      <td>MOOSE CREEK, ID</td>\n",
       "      <td>United States</td>\n",
       "      <td>Fatal</td>\n",
       "      <td>Destroyed</td>\n",
       "      <td>Stinson</td>\n",
       "      <td>108-3</td>\n",
       "      <td>1.0</td>\n",
       "      <td>Reciprocating</td>\n",
       "      <td>Personal</td>\n",
       "      <td>2.0</td>\n",
       "      <td>0.0</td>\n",
       "      <td>0.0</td>\n",
       "      <td>0.0</td>\n",
       "      <td>UNK</td>\n",
       "      <td>Cruise</td>\n",
       "      <td>Probable Cause</td>\n",
       "      <td>Stinson 108-3</td>\n",
       "    </tr>\n",
       "    <tr>\n",
       "      <th>1</th>\n",
       "      <td>20001218X45447</td>\n",
       "      <td>LAX94LA336</td>\n",
       "      <td>1962-07-19</td>\n",
       "      <td>BRIDGEPORT, CA</td>\n",
       "      <td>United States</td>\n",
       "      <td>Fatal</td>\n",
       "      <td>Destroyed</td>\n",
       "      <td>Piper</td>\n",
       "      <td>PA24-180</td>\n",
       "      <td>1.0</td>\n",
       "      <td>Reciprocating</td>\n",
       "      <td>Personal</td>\n",
       "      <td>4.0</td>\n",
       "      <td>0.0</td>\n",
       "      <td>0.0</td>\n",
       "      <td>0.0</td>\n",
       "      <td>UNK</td>\n",
       "      <td>Unknown</td>\n",
       "      <td>Probable Cause</td>\n",
       "      <td>Piper PA24-180</td>\n",
       "    </tr>\n",
       "    <tr>\n",
       "      <th>2</th>\n",
       "      <td>20061025X01555</td>\n",
       "      <td>NYC07LA005</td>\n",
       "      <td>1974-08-30</td>\n",
       "      <td>SALTVILLE, VA</td>\n",
       "      <td>United States</td>\n",
       "      <td>Fatal</td>\n",
       "      <td>Destroyed</td>\n",
       "      <td>Cessna</td>\n",
       "      <td>172M</td>\n",
       "      <td>1.0</td>\n",
       "      <td>Reciprocating</td>\n",
       "      <td>Personal</td>\n",
       "      <td>3.0</td>\n",
       "      <td>0.0</td>\n",
       "      <td>0.0</td>\n",
       "      <td>0.0</td>\n",
       "      <td>IMC</td>\n",
       "      <td>Cruise</td>\n",
       "      <td>Probable Cause</td>\n",
       "      <td>Cessna 172M</td>\n",
       "    </tr>\n",
       "    <tr>\n",
       "      <th>3</th>\n",
       "      <td>20001218X45448</td>\n",
       "      <td>LAX96LA321</td>\n",
       "      <td>1977-06-19</td>\n",
       "      <td>EUREKA, CA</td>\n",
       "      <td>United States</td>\n",
       "      <td>Fatal</td>\n",
       "      <td>Destroyed</td>\n",
       "      <td>Rockwell</td>\n",
       "      <td>112</td>\n",
       "      <td>1.0</td>\n",
       "      <td>Reciprocating</td>\n",
       "      <td>Personal</td>\n",
       "      <td>2.0</td>\n",
       "      <td>0.0</td>\n",
       "      <td>0.0</td>\n",
       "      <td>0.0</td>\n",
       "      <td>IMC</td>\n",
       "      <td>Cruise</td>\n",
       "      <td>Probable Cause</td>\n",
       "      <td>Rockwell 112</td>\n",
       "    </tr>\n",
       "    <tr>\n",
       "      <th>4</th>\n",
       "      <td>20170710X52551</td>\n",
       "      <td>NYC79AA106</td>\n",
       "      <td>1979-09-17</td>\n",
       "      <td>BOSTON, MA</td>\n",
       "      <td>United States</td>\n",
       "      <td>Non-Fatal</td>\n",
       "      <td>Substantial</td>\n",
       "      <td>Mcdonnell douglas</td>\n",
       "      <td>DC9</td>\n",
       "      <td>2.0</td>\n",
       "      <td>Turbo Fan</td>\n",
       "      <td>Unknown</td>\n",
       "      <td>0.0</td>\n",
       "      <td>0.0</td>\n",
       "      <td>1.0</td>\n",
       "      <td>44.0</td>\n",
       "      <td>VMC</td>\n",
       "      <td>Climb</td>\n",
       "      <td>Probable Cause</td>\n",
       "      <td>Mcdonnell douglas DC9</td>\n",
       "    </tr>\n",
       "  </tbody>\n",
       "</table>\n",
       "</div>"
      ],
      "text/plain": [
       "         Event_Id Accident_Number  Event_Date         Location        Country  \\\n",
       "0  20001218X45444      SEA87LA080  1948-10-24  MOOSE CREEK, ID  United States   \n",
       "1  20001218X45447      LAX94LA336  1962-07-19   BRIDGEPORT, CA  United States   \n",
       "2  20061025X01555      NYC07LA005  1974-08-30    SALTVILLE, VA  United States   \n",
       "3  20001218X45448      LAX96LA321  1977-06-19       EUREKA, CA  United States   \n",
       "4  20170710X52551      NYC79AA106  1979-09-17       BOSTON, MA  United States   \n",
       "\n",
       "  Injury_Severity Aircraft_Damage               Make     Model  \\\n",
       "0           Fatal       Destroyed            Stinson     108-3   \n",
       "1           Fatal       Destroyed              Piper  PA24-180   \n",
       "2           Fatal       Destroyed             Cessna      172M   \n",
       "3           Fatal       Destroyed           Rockwell       112   \n",
       "4       Non-Fatal     Substantial  Mcdonnell douglas       DC9   \n",
       "\n",
       "  Number_of_Engines    Engine_Type Purpose_of_flight  Total_Fatal_Injuries  \\\n",
       "0               1.0  Reciprocating          Personal                   2.0   \n",
       "1               1.0  Reciprocating          Personal                   4.0   \n",
       "2               1.0  Reciprocating          Personal                   3.0   \n",
       "3               1.0  Reciprocating          Personal                   2.0   \n",
       "4               2.0      Turbo Fan           Unknown                   0.0   \n",
       "\n",
       "   Total_Serious_Injuries  Total_Minor_Injuries  Total_Uninjured  \\\n",
       "0                     0.0                   0.0              0.0   \n",
       "1                     0.0                   0.0              0.0   \n",
       "2                     0.0                   0.0              0.0   \n",
       "3                     0.0                   0.0              0.0   \n",
       "4                     0.0                   1.0             44.0   \n",
       "\n",
       "  Weather_Condition Phase_of_Flight   Report_Status             Make_Model  \n",
       "0               UNK          Cruise  Probable Cause          Stinson 108-3  \n",
       "1               UNK         Unknown  Probable Cause         Piper PA24-180  \n",
       "2               IMC          Cruise  Probable Cause            Cessna 172M  \n",
       "3               IMC          Cruise  Probable Cause           Rockwell 112  \n",
       "4               VMC           Climb  Probable Cause  Mcdonnell douglas DC9  "
      ]
     },
     "execution_count": 5,
>>>>>>> master
     "metadata": {},
     "output_type": "execute_result"
    }
   ],
   "source": [
    "#Inspect data\n",
    "planes.head()"
   ]
  },
  {
   "cell_type": "code",
<<<<<<< HEAD
   "execution_count": 5,
=======
   "execution_count": 6,
>>>>>>> master
   "metadata": {},
   "outputs": [
    {
     "data": {
      "text/plain": [
<<<<<<< HEAD
       "(16708, 25)"
      ]
     },
     "execution_count": 5,
=======
       "(66604, 20)"
      ]
     },
     "execution_count": 6,
>>>>>>> master
     "metadata": {},
     "output_type": "execute_result"
    }
   ],
   "source": [
    "planes.shape"
   ]
  },
  {
<<<<<<< HEAD
=======
   "cell_type": "code",
   "execution_count": 7,
   "metadata": {},
   "outputs": [
    {
     "name": "stdout",
     "output_type": "stream",
     "text": [
      "<class 'pandas.core.frame.DataFrame'>\n",
      "RangeIndex: 66604 entries, 0 to 66603\n",
      "Data columns (total 20 columns):\n",
      " #   Column                  Non-Null Count  Dtype  \n",
      "---  ------                  --------------  -----  \n",
      " 0   Event_Id                66604 non-null  object \n",
      " 1   Accident_Number         66604 non-null  object \n",
      " 2   Event_Date              66604 non-null  object \n",
      " 3   Location                66604 non-null  object \n",
      " 4   Country                 66604 non-null  object \n",
      " 5   Injury_Severity         66604 non-null  object \n",
      " 6   Aircraft_Damage         66604 non-null  object \n",
      " 7   Make                    66604 non-null  object \n",
      " 8   Model                   66604 non-null  object \n",
      " 9   Number_of_Engines       66604 non-null  object \n",
      " 10  Engine_Type             66604 non-null  object \n",
      " 11  Purpose_of_flight       66604 non-null  object \n",
      " 12  Total_Fatal_Injuries    66604 non-null  float64\n",
      " 13  Total_Serious_Injuries  66604 non-null  float64\n",
      " 14  Total_Minor_Injuries    66604 non-null  float64\n",
      " 15  Total_Uninjured         66604 non-null  float64\n",
      " 16  Weather_Condition       66604 non-null  object \n",
      " 17  Phase_of_Flight         66604 non-null  object \n",
      " 18  Report_Status           65423 non-null  object \n",
      " 19  Make_Model              66604 non-null  object \n",
      "dtypes: float64(4), object(16)\n",
      "memory usage: 10.2+ MB\n"
     ]
    }
   ],
   "source": [
    "planes.info()"
   ]
  },
  {
>>>>>>> master
   "cell_type": "markdown",
   "metadata": {},
   "source": [
    "## Check out Phase_of_Flight and Aircraft Damage"
   ]
  },
  {
   "cell_type": "code",
<<<<<<< HEAD
   "execution_count": 6,
=======
   "execution_count": 8,
>>>>>>> master
   "metadata": {},
   "outputs": [
    {
     "data": {
      "text/plain": [
<<<<<<< HEAD
       "Unknown        11655\n",
       "Landing         1858\n",
       "Takeoff          968\n",
       "Cruise           692\n",
       "Approach         492\n",
       "Maneuvering      377\n",
       "Taxi             206\n",
       "Descent          139\n",
       "Go-around        135\n",
       "Climb            127\n",
       "Standing          51\n",
       "Other              8\n",
       "Name: Phase_of_Flight, dtype: int64"
      ]
     },
     "execution_count": 6,
=======
       "Unknown        15069\n",
       "Landing        13549\n",
       "Takeoff        10199\n",
       "Cruise          8788\n",
       "Maneuvering     6441\n",
       "Approach        5387\n",
       "Taxi            1754\n",
       "Climb           1690\n",
       "Descent         1591\n",
       "Go-around       1232\n",
       "Standing         821\n",
       "Other             83\n",
       "Name: Phase_of_Flight, dtype: int64"
      ]
     },
     "execution_count": 8,
>>>>>>> master
     "metadata": {},
     "output_type": "execute_result"
    }
   ],
   "source": [
    "planes['Phase_of_Flight'].value_counts()"
   ]
  },
  {
   "cell_type": "code",
<<<<<<< HEAD
   "execution_count": 7,
=======
   "execution_count": 9,
>>>>>>> master
   "metadata": {},
   "outputs": [
    {
     "data": {
      "text/plain": [
<<<<<<< HEAD
       "Substantial    13888\n",
       "Destroyed       1983\n",
       "Unknown          450\n",
       "Minor            387\n",
       "Name: Aircraft_Damage, dtype: int64"
      ]
     },
     "execution_count": 7,
=======
       "Substantial    49506\n",
       "Destroyed      13736\n",
       "Minor           1809\n",
       "Unknown         1553\n",
       "Name: Aircraft_Damage, dtype: int64"
      ]
     },
     "execution_count": 9,
>>>>>>> master
     "metadata": {},
     "output_type": "execute_result"
    }
   ],
   "source": [
    "planes['Aircraft_Damage'].value_counts()"
   ]
  },
  {
   "cell_type": "markdown",
   "metadata": {},
   "source": [
    "## Plot Aircraft Damage by Phase of Flight"
   ]
  },
  {
   "cell_type": "code",
<<<<<<< HEAD
   "execution_count": 8,
=======
   "execution_count": 16,
>>>>>>> master
   "metadata": {},
   "outputs": [],
   "source": [
    "planesII = planes.copy()"
   ]
  },
  {
   "cell_type": "code",
<<<<<<< HEAD
   "execution_count": 9,
=======
   "execution_count": 141,
>>>>>>> master
   "metadata": {
    "scrolled": false
   },
   "outputs": [
    {
     "data": {
<<<<<<< HEAD
      "image/png": "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\n",
=======
      "image/png": "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\n",
>>>>>>> master
      "text/plain": [
       "<Figure size 1440x576 with 1 Axes>"
      ]
     },
     "metadata": {
      "needs_background": "light"
     },
     "output_type": "display_data"
    }
   ],
   "source": [
    "#Should we drop unknown?\n",
    "\n",
    "noUNK = planes[planes['Phase_of_Flight'] != 'Unknown'] #remove unknowns from data\n",
    "\n",
    "pohad = noUNK.groupby(['Phase_of_Flight', 'Aircraft_Damage']).size().unstack(fill_value = 0)\n",
    "\n",
    "fig, ax = plt.subplots(figsize=(20, 8))\n",
    "sns.set_palette('mako')\n",
    "\n",
    "plt.xlabel(\"Phase of Flight\")\n",
    "plt.ylabel(\"Aircraft Damage\")\n",
    "#plt.xticks(rotation = 45)\n",
    "plt.title(\"Aircraft Damage vs. Phase of Flight\")\n",
    "\n",
    "pohad.plot(kind = 'bar', stacked = True, ax = ax);"
   ]
  },
  {
   "cell_type": "markdown",
   "metadata": {},
   "source": [
    "## observations \n",
    "the most damage occurs during landing - mostly substantial\n",
    "\tby substantial, damage prohibits the aircraft from flying -- most damage in landing -perhaps landing gear -- must be fixed before flying again  \n",
    "the most destroying damage happend on both cruise, takeoff, and maneuvering\n",
    "no aircrafts (or very little) aircrafts seem to be destroyed during taxi\n",
    "other seems to be least occuring/unrelevant\n",
    "\n"
   ]
  },
  {
   "cell_type": "code",
<<<<<<< HEAD
   "execution_count": 10,
=======
   "execution_count": 124,
>>>>>>> master
   "metadata": {},
   "outputs": [
    {
     "data": {
      "text/html": [
       "<div>\n",
       "<style scoped>\n",
       "    .dataframe tbody tr th:only-of-type {\n",
       "        vertical-align: middle;\n",
       "    }\n",
       "\n",
       "    .dataframe tbody tr th {\n",
       "        vertical-align: top;\n",
       "    }\n",
       "\n",
       "    .dataframe thead th {\n",
       "        text-align: right;\n",
       "    }\n",
       "</style>\n",
       "<table border=\"1\" class=\"dataframe\">\n",
       "  <thead>\n",
       "    <tr style=\"text-align: right;\">\n",
       "      <th>Aircraft_Damage</th>\n",
       "      <th>Destroyed</th>\n",
       "      <th>Minor</th>\n",
       "      <th>Substantial</th>\n",
       "    </tr>\n",
       "    <tr>\n",
       "      <th>Phase_of_Flight</th>\n",
       "      <th></th>\n",
       "      <th></th>\n",
       "      <th></th>\n",
       "    </tr>\n",
       "  </thead>\n",
       "  <tbody>\n",
       "    <tr>\n",
       "      <th>Approach</th>\n",
<<<<<<< HEAD
       "      <td>105.0</td>\n",
       "      <td>15.0</td>\n",
       "      <td>369.0</td>\n",
       "    </tr>\n",
       "    <tr>\n",
       "      <th>Climb</th>\n",
       "      <td>48.0</td>\n",
       "      <td>7.0</td>\n",
       "      <td>67.0</td>\n",
       "    </tr>\n",
       "    <tr>\n",
       "      <th>Cruise</th>\n",
       "      <td>229.0</td>\n",
       "      <td>15.0</td>\n",
       "      <td>437.0</td>\n",
       "    </tr>\n",
       "    <tr>\n",
       "      <th>Descent</th>\n",
       "      <td>37.0</td>\n",
       "      <td>4.0</td>\n",
       "      <td>90.0</td>\n",
       "    </tr>\n",
       "    <tr>\n",
       "      <th>Go-around</th>\n",
       "      <td>22.0</td>\n",
       "      <td>2.0</td>\n",
       "      <td>111.0</td>\n",
       "    </tr>\n",
       "    <tr>\n",
       "      <th>Landing</th>\n",
       "      <td>79.0</td>\n",
       "      <td>21.0</td>\n",
       "      <td>1756.0</td>\n",
       "    </tr>\n",
       "    <tr>\n",
       "      <th>Maneuvering</th>\n",
       "      <td>188.0</td>\n",
       "      <td>3.0</td>\n",
       "      <td>185.0</td>\n",
       "    </tr>\n",
       "    <tr>\n",
       "      <th>Other</th>\n",
       "      <td>3.0</td>\n",
       "      <td>NaN</td>\n",
       "      <td>5.0</td>\n",
       "    </tr>\n",
       "    <tr>\n",
       "      <th>Standing</th>\n",
       "      <td>6.0</td>\n",
       "      <td>5.0</td>\n",
       "      <td>29.0</td>\n",
       "    </tr>\n",
       "    <tr>\n",
       "      <th>Takeoff</th>\n",
       "      <td>204.0</td>\n",
       "      <td>18.0</td>\n",
       "      <td>742.0</td>\n",
       "    </tr>\n",
       "    <tr>\n",
       "      <th>Taxi</th>\n",
       "      <td>5.0</td>\n",
       "      <td>22.0</td>\n",
       "      <td>171.0</td>\n",
       "    </tr>\n",
       "    <tr>\n",
       "      <th>Unknown</th>\n",
       "      <td>1057.0</td>\n",
       "      <td>275.0</td>\n",
       "      <td>9926.0</td>\n",
=======
       "      <td>1539</td>\n",
       "      <td>142</td>\n",
       "      <td>3615</td>\n",
       "    </tr>\n",
       "    <tr>\n",
       "      <th>Climb</th>\n",
       "      <td>663</td>\n",
       "      <td>93</td>\n",
       "      <td>839</td>\n",
       "    </tr>\n",
       "    <tr>\n",
       "      <th>Cruise</th>\n",
       "      <td>2948</td>\n",
       "      <td>206</td>\n",
       "      <td>5367</td>\n",
       "    </tr>\n",
       "    <tr>\n",
       "      <th>Descent</th>\n",
       "      <td>466</td>\n",
       "      <td>58</td>\n",
       "      <td>945</td>\n",
       "    </tr>\n",
       "    <tr>\n",
       "      <th>Go-around</th>\n",
       "      <td>355</td>\n",
       "      <td>13</td>\n",
       "      <td>859</td>\n",
       "    </tr>\n",
       "    <tr>\n",
       "      <th>Landing</th>\n",
       "      <td>637</td>\n",
       "      <td>283</td>\n",
       "      <td>12537</td>\n",
       "    </tr>\n",
       "    <tr>\n",
       "      <th>Maneuvering</th>\n",
       "      <td>2746</td>\n",
       "      <td>42</td>\n",
       "      <td>3618</td>\n",
       "    </tr>\n",
       "    <tr>\n",
       "      <th>Other</th>\n",
       "      <td>27</td>\n",
       "      <td>8</td>\n",
       "      <td>45</td>\n",
       "    </tr>\n",
       "    <tr>\n",
       "      <th>Standing</th>\n",
       "      <td>91</td>\n",
       "      <td>120</td>\n",
       "      <td>444</td>\n",
       "    </tr>\n",
       "    <tr>\n",
       "      <th>Takeoff</th>\n",
       "      <td>2253</td>\n",
       "      <td>237</td>\n",
       "      <td>7604</td>\n",
       "    </tr>\n",
       "    <tr>\n",
       "      <th>Taxi</th>\n",
       "      <td>49</td>\n",
       "      <td>219</td>\n",
       "      <td>1402</td>\n",
       "    </tr>\n",
       "    <tr>\n",
       "      <th>Unknown</th>\n",
       "      <td>1962</td>\n",
       "      <td>388</td>\n",
       "      <td>12231</td>\n",
>>>>>>> master
       "    </tr>\n",
       "  </tbody>\n",
       "</table>\n",
       "</div>"
      ],
      "text/plain": [
       "Aircraft_Damage  Destroyed  Minor  Substantial\n",
       "Phase_of_Flight                               \n",
<<<<<<< HEAD
       "Approach             105.0   15.0        369.0\n",
       "Climb                 48.0    7.0         67.0\n",
       "Cruise               229.0   15.0        437.0\n",
       "Descent               37.0    4.0         90.0\n",
       "Go-around             22.0    2.0        111.0\n",
       "Landing               79.0   21.0       1756.0\n",
       "Maneuvering          188.0    3.0        185.0\n",
       "Other                  3.0    NaN          5.0\n",
       "Standing               6.0    5.0         29.0\n",
       "Takeoff              204.0   18.0        742.0\n",
       "Taxi                   5.0   22.0        171.0\n",
       "Unknown             1057.0  275.0       9926.0"
      ]
     },
     "execution_count": 10,
=======
       "Approach              1539    142         3615\n",
       "Climb                  663     93          839\n",
       "Cruise                2948    206         5367\n",
       "Descent                466     58          945\n",
       "Go-around              355     13          859\n",
       "Landing                637    283        12537\n",
       "Maneuvering           2746     42         3618\n",
       "Other                   27      8           45\n",
       "Standing                91    120          444\n",
       "Takeoff               2253    237         7604\n",
       "Taxi                    49    219         1402\n",
       "Unknown               1962    388        12231"
      ]
     },
     "execution_count": 124,
>>>>>>> master
     "metadata": {},
     "output_type": "execute_result"
    }
   ],
   "source": [
    "#make pivot table - perhaps for csv export?\n",
    "\n",
    "POH_damage = pd.pivot_table(planesII, columns = ['Aircraft_Damage'], index = 'Phase_of_Flight', aggfunc = 'size')\n",
    "\n",
    "#convert to dataframe\n",
    "#\n",
    "POH_damage_df = POH_damage.reset_index()\n",
    "POH_damage_df = POH_damage_df.set_index('Phase_of_Flight')\n",
    "\n",
    "#drop unknown column\n",
    "POH_damage_df.drop(columns = 'Unknown', inplace = True)\n",
    "\n",
    "#check\n",
    "POH_damage_df\n",
    "\n"
   ]
  },
  {
   "cell_type": "markdown",
   "metadata": {},
   "source": [
    "## Plot Injuries by Phase of Flight"
   ]
  },
  {
   "cell_type": "code",
<<<<<<< HEAD
   "execution_count": 11,
   "metadata": {},
   "outputs": [
    {
     "data": {
      "text/html": [
       "<div>\n",
       "<style scoped>\n",
       "    .dataframe tbody tr th:only-of-type {\n",
       "        vertical-align: middle;\n",
       "    }\n",
       "\n",
       "    .dataframe tbody tr th {\n",
       "        vertical-align: top;\n",
       "    }\n",
       "\n",
       "    .dataframe thead th {\n",
       "        text-align: right;\n",
       "    }\n",
       "</style>\n",
       "<table border=\"1\" class=\"dataframe\">\n",
       "  <thead>\n",
       "    <tr style=\"text-align: right;\">\n",
       "      <th></th>\n",
       "      <th>Event_Id</th>\n",
       "      <th>Accident_Number</th>\n",
       "      <th>Event_Date</th>\n",
       "      <th>Location</th>\n",
       "      <th>Country</th>\n",
       "      <th>Injury_Severity</th>\n",
       "      <th>Aircraft_Damage</th>\n",
       "      <th>Aircraft_Category</th>\n",
       "      <th>Make</th>\n",
       "      <th>Model</th>\n",
       "      <th>...</th>\n",
       "      <th>Total_Minor_Injuries</th>\n",
       "      <th>Total_Uninjured</th>\n",
       "      <th>Weather_Condition</th>\n",
       "      <th>Phase_of_Flight</th>\n",
       "      <th>created_year</th>\n",
       "      <th>created_month</th>\n",
       "      <th>created_day</th>\n",
       "      <th>Total_Injuries</th>\n",
       "      <th>Total_Passengers</th>\n",
       "      <th>Make_Model</th>\n",
       "    </tr>\n",
       "  </thead>\n",
       "  <tbody>\n",
       "    <tr>\n",
       "      <th>0</th>\n",
       "      <td>20170710X52551</td>\n",
       "      <td>NYC79AA106</td>\n",
       "      <td>1979-09-17</td>\n",
       "      <td>BOSTON, MA</td>\n",
       "      <td>United States</td>\n",
       "      <td>Non-Fatal</td>\n",
       "      <td>Substantial</td>\n",
       "      <td>Airplane</td>\n",
       "      <td>Douglas</td>\n",
       "      <td>DC9</td>\n",
       "      <td>...</td>\n",
       "      <td>1.0</td>\n",
       "      <td>44.0</td>\n",
       "      <td>VMC</td>\n",
       "      <td>Climb</td>\n",
       "      <td>1979</td>\n",
       "      <td>9</td>\n",
       "      <td>17</td>\n",
       "      <td>1.0</td>\n",
       "      <td>45.0</td>\n",
       "      <td>Douglas DC9</td>\n",
       "    </tr>\n",
       "    <tr>\n",
       "      <th>1</th>\n",
       "      <td>20020909X01562</td>\n",
       "      <td>SEA82DA022</td>\n",
       "      <td>1982-01-01</td>\n",
       "      <td>PULLMAN, WA</td>\n",
       "      <td>United States</td>\n",
       "      <td>Non-Fatal</td>\n",
       "      <td>Substantial</td>\n",
       "      <td>Airplane</td>\n",
       "      <td>Cessna</td>\n",
       "      <td>140</td>\n",
       "      <td>...</td>\n",
       "      <td>0.0</td>\n",
       "      <td>2.0</td>\n",
       "      <td>VMC</td>\n",
       "      <td>Takeoff</td>\n",
       "      <td>1982</td>\n",
       "      <td>1</td>\n",
       "      <td>1</td>\n",
       "      <td>0.0</td>\n",
       "      <td>2.0</td>\n",
       "      <td>Cessna 140</td>\n",
       "    </tr>\n",
       "    <tr>\n",
       "      <th>2</th>\n",
       "      <td>20020909X01561</td>\n",
       "      <td>NYC82DA015</td>\n",
       "      <td>1982-01-01</td>\n",
       "      <td>EAST HANOVER, NJ</td>\n",
       "      <td>United States</td>\n",
       "      <td>Non-Fatal</td>\n",
       "      <td>Substantial</td>\n",
       "      <td>Airplane</td>\n",
       "      <td>Cessna</td>\n",
       "      <td>401B</td>\n",
       "      <td>...</td>\n",
       "      <td>0.0</td>\n",
       "      <td>2.0</td>\n",
       "      <td>IMC</td>\n",
       "      <td>Landing</td>\n",
       "      <td>1982</td>\n",
       "      <td>1</td>\n",
       "      <td>1</td>\n",
       "      <td>0.0</td>\n",
       "      <td>2.0</td>\n",
       "      <td>Cessna 401B</td>\n",
       "    </tr>\n",
       "    <tr>\n",
       "      <th>3</th>\n",
       "      <td>20020917X02148</td>\n",
       "      <td>FTW82FRJ07</td>\n",
       "      <td>1982-01-02</td>\n",
       "      <td>HOMER, LA</td>\n",
       "      <td>United States</td>\n",
       "      <td>Non-Fatal</td>\n",
       "      <td>Destroyed</td>\n",
       "      <td>Airplane</td>\n",
       "      <td>Bellanca</td>\n",
       "      <td>17-30A</td>\n",
       "      <td>...</td>\n",
       "      <td>1.0</td>\n",
       "      <td>0.0</td>\n",
       "      <td>IMC</td>\n",
       "      <td>Cruise</td>\n",
       "      <td>1982</td>\n",
       "      <td>1</td>\n",
       "      <td>2</td>\n",
       "      <td>1.0</td>\n",
       "      <td>1.0</td>\n",
       "      <td>Bellanca 17-30A</td>\n",
       "    </tr>\n",
       "    <tr>\n",
       "      <th>4</th>\n",
       "      <td>20020917X02134</td>\n",
       "      <td>FTW82FRA14</td>\n",
       "      <td>1982-01-02</td>\n",
       "      <td>HEARNE, TX</td>\n",
       "      <td>United States</td>\n",
       "      <td>Fatal</td>\n",
       "      <td>Destroyed</td>\n",
       "      <td>Airplane</td>\n",
       "      <td>Cessna</td>\n",
       "      <td>R172K</td>\n",
       "      <td>...</td>\n",
       "      <td>0.0</td>\n",
       "      <td>0.0</td>\n",
       "      <td>IMC</td>\n",
       "      <td>Takeoff</td>\n",
       "      <td>1982</td>\n",
       "      <td>1</td>\n",
       "      <td>2</td>\n",
       "      <td>1.0</td>\n",
       "      <td>1.0</td>\n",
       "      <td>Cessna R172K</td>\n",
       "    </tr>\n",
       "  </tbody>\n",
       "</table>\n",
       "<p>5 rows × 25 columns</p>\n",
       "</div>"
      ],
      "text/plain": [
       "         Event_Id Accident_Number  Event_Date          Location  \\\n",
       "0  20170710X52551      NYC79AA106  1979-09-17        BOSTON, MA   \n",
       "1  20020909X01562      SEA82DA022  1982-01-01       PULLMAN, WA   \n",
       "2  20020909X01561      NYC82DA015  1982-01-01  EAST HANOVER, NJ   \n",
       "3  20020917X02148      FTW82FRJ07  1982-01-02         HOMER, LA   \n",
       "4  20020917X02134      FTW82FRA14  1982-01-02        HEARNE, TX   \n",
       "\n",
       "         Country Injury_Severity Aircraft_Damage Aircraft_Category      Make  \\\n",
       "0  United States       Non-Fatal     Substantial          Airplane   Douglas   \n",
       "1  United States       Non-Fatal     Substantial          Airplane    Cessna   \n",
       "2  United States       Non-Fatal     Substantial          Airplane    Cessna   \n",
       "3  United States       Non-Fatal       Destroyed          Airplane  Bellanca   \n",
       "4  United States           Fatal       Destroyed          Airplane    Cessna   \n",
       "\n",
       "    Model  ... Total_Minor_Injuries Total_Uninjured Weather_Condition  \\\n",
       "0     DC9  ...                  1.0            44.0               VMC   \n",
       "1     140  ...                  0.0             2.0               VMC   \n",
       "2    401B  ...                  0.0             2.0               IMC   \n",
       "3  17-30A  ...                  1.0             0.0               IMC   \n",
       "4   R172K  ...                  0.0             0.0               IMC   \n",
       "\n",
       "   Phase_of_Flight  created_year  created_month  created_day Total_Injuries  \\\n",
       "0            Climb          1979              9           17            1.0   \n",
       "1          Takeoff          1982              1            1            0.0   \n",
       "2          Landing          1982              1            1            0.0   \n",
       "3           Cruise          1982              1            2            1.0   \n",
       "4          Takeoff          1982              1            2            1.0   \n",
       "\n",
       "  Total_Passengers       Make_Model  \n",
       "0             45.0      Douglas DC9  \n",
       "1              2.0       Cessna 140  \n",
       "2              2.0      Cessna 401B  \n",
       "3              1.0  Bellanca 17-30A  \n",
       "4              1.0     Cessna R172K  \n",
       "\n",
       "[5 rows x 25 columns]"
      ]
     },
     "execution_count": 11,
     "metadata": {},
     "output_type": "execute_result"
    }
   ],
=======
   "execution_count": null,
   "metadata": {},
   "outputs": [],
>>>>>>> master
   "source": [
    "#make total injuries column\n",
    "planes['Total_Injuries'] = (planes['Total_Fatal_Injuries'] + \n",
    "                                  planes['Total_Minor_Injuries'] +\n",
    "                                 planes['Total_Serious_Injuries'])\n",
    "\n",
    "#check\n",
    "planes.head()"
   ]
  },
  {
   "cell_type": "code",
<<<<<<< HEAD
   "execution_count": 12,
=======
   "execution_count": 142,
>>>>>>> master
   "metadata": {
    "scrolled": false
   },
   "outputs": [
    {
     "data": {
      "text/plain": [
<<<<<<< HEAD
       "0.0      10472\n",
       "1.0       3115\n",
       "2.0       1895\n",
       "3.0        544\n",
       "4.0        378\n",
       "5.0        117\n",
       "6.0         58\n",
       "7.0         36\n",
       "8.0         17\n",
       "10.0        16\n",
       "9.0         14\n",
       "12.0         7\n",
       "11.0         3\n",
       "28.0         2\n",
       "13.0         2\n",
       "26.0         2\n",
       "33.0         2\n",
       "113.0        2\n",
       "75.0         2\n",
       "14.0         1\n",
       "66.0         1\n",
       "134.0        1\n",
       "88.0         1\n",
       "104.0        1\n",
       "30.0         1\n",
       "254.0        1\n",
       "380.0        1\n",
       "96.0         1\n",
       "164.0        1\n",
       "17.0         1\n",
       "65.0         1\n",
       "35.0         1\n",
       "200.0        1\n",
       "44.0         1\n",
       "190.0        1\n",
       "22.0         1\n",
       "171.0        1\n",
       "27.0         1\n",
       "131.0        1\n",
       "42.0         1\n",
       "21.0         1\n",
       "157.0        1\n",
       "85.0         1\n",
       "Name: Total_Injuries, dtype: int64"
      ]
     },
     "execution_count": 12,
=======
       "0.0      38307\n",
       "1.0      13452\n",
       "2.0       8911\n",
       "3.0       2618\n",
       "4.0       1863\n",
       "         ...  \n",
       "171.0        1\n",
       "97.0         1\n",
       "101.0        1\n",
       "275.0        1\n",
       "53.0         1\n",
       "Name: Total_Injuries, Length: 101, dtype: int64"
      ]
     },
     "execution_count": 142,
>>>>>>> master
     "metadata": {},
     "output_type": "execute_result"
    }
   ],
   "source": [
    "#Should we group this in any way?\n",
    "#planesII['Total_Injuries'] = planes['Total_Injuries'].value_counts().loc[lambda x: x > 5]\n",
    "\n",
    "\n",
    "planesII['Total_Injuries'].value_counts()"
   ]
  },
  {
   "cell_type": "code",
<<<<<<< HEAD
   "execution_count": 13,
=======
   "execution_count": 145,
>>>>>>> master
   "metadata": {
    "scrolled": false
   },
   "outputs": [
    {
     "data": {
<<<<<<< HEAD
      "image/png": "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\n",
=======
      "image/png": "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\n",
>>>>>>> master
      "text/plain": [
       "<Figure size 864x432 with 1 Axes>"
      ]
     },
     "metadata": {
      "needs_background": "light"
     },
     "output_type": "display_data"
    }
   ],
   "source": [
    "#plot injuries by phase of flight\n",
    "noUNK = planes[planes['Phase_of_Flight'] != 'Unknown'] #remove unknowns from data\n",
    "\n",
    "pohti = noUNK.groupby(['Phase_of_Flight', 'Total_Injuries']).size().unstack(fill_value = 0)\n",
    "\n",
    "fig, ax = plt.subplots(figsize= (12, 6))\n",
    "\n",
    "pohti.plot(kind = 'bar', stacked = True, ax = ax, legend = None);\n",
    "\n",
    "plt.xlabel(\"Phase of Flight\")\n",
    "plt.ylabel(\"Total Injuries\")\n",
    "#plt.xticks(rotation = 45)\n",
    "plt.title(\"Total Injuries vs. Phase of Flight\");\n",
    "\n",
    "#make 4 subplots?"
   ]
  },
  {
   "cell_type": "markdown",
   "metadata": {},
   "source": [
    "## Aircraft Make by Injuries"
   ]
  },
  {
   "cell_type": "code",
<<<<<<< HEAD
   "execution_count": 14,
=======
   "execution_count": 34,
>>>>>>> master
   "metadata": {
    "scrolled": false
   },
   "outputs": [
    {
     "data": {
      "text/plain": [
<<<<<<< HEAD
       "0.0      10472\n",
       "1.0       3115\n",
       "2.0       1895\n",
       "3.0        544\n",
       "4.0        378\n",
       "5.0        117\n",
       "6.0         58\n",
       "7.0         36\n",
       "8.0         17\n",
       "10.0        16\n",
       "9.0         14\n",
       "12.0         7\n",
       "11.0         3\n",
       "28.0         2\n",
       "13.0         2\n",
       "26.0         2\n",
       "33.0         2\n",
       "113.0        2\n",
       "75.0         2\n",
       "14.0         1\n",
       "66.0         1\n",
       "134.0        1\n",
       "88.0         1\n",
       "104.0        1\n",
       "30.0         1\n",
       "254.0        1\n",
       "380.0        1\n",
       "96.0         1\n",
       "164.0        1\n",
       "17.0         1\n",
       "65.0         1\n",
       "35.0         1\n",
       "200.0        1\n",
       "44.0         1\n",
       "190.0        1\n",
       "22.0         1\n",
       "171.0        1\n",
       "27.0         1\n",
       "131.0        1\n",
       "42.0         1\n",
       "21.0         1\n",
       "157.0        1\n",
       "85.0         1\n",
       "Name: Total_Injuries, dtype: int64"
      ]
     },
     "execution_count": 14,
=======
       "0.0      0.575146\n",
       "1.0      0.201970\n",
       "2.0      0.133791\n",
       "3.0      0.039307\n",
       "4.0      0.027971\n",
       "           ...   \n",
       "171.0    0.000015\n",
       "97.0     0.000015\n",
       "101.0    0.000015\n",
       "275.0    0.000015\n",
       "53.0     0.000015\n",
       "Name: Total_Injuries, Length: 101, dtype: float64"
      ]
     },
     "execution_count": 34,
>>>>>>> master
     "metadata": {},
     "output_type": "execute_result"
    }
   ],
   "source": [
    "planesII['Total_Injuries'].value_counts()"
   ]
  },
  {
   "cell_type": "code",
<<<<<<< HEAD
   "execution_count": 15,
=======
   "execution_count": 146,
>>>>>>> master
   "metadata": {
    "scrolled": false
   },
   "outputs": [
    {
     "data": {
      "image/png": "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\n",
      "text/plain": [
       "<Figure size 864x432 with 1 Axes>"
      ]
     },
     "metadata": {
      "needs_background": "light"
     },
     "output_type": "display_data"
    }
   ],
   "source": [
    "#most dangerous pivot table\n",
    "Inj_Make_Pivot = pd.pivot_table(planesII, values = ['Total_Injuries'], index = 'Make')\n",
    "sorted_IM_Pivot = Inj_Make_Pivot.apply(lambda x: x.sort_values(ascending = False).head(10))\n",
    "\n",
    "#create dataframe from pivot table\n",
    "DangerMake = {\n",
    "    'Make': ['Airbus', 'Mcdonnell douglas', 'Lockheed', 'Douglas', \n",
    "             'Boeing', 'Embraer', 'Aerospatiale', 'Fairchild', 'De havilland', 'Eurocopter'],\n",
    "    'Total_Injuries': [6.277978, 5.475379, 5.187500, 4.893939, 4.540573, 2.721212, \n",
    "                       1.843666, 1.632653, 1.577608, 1.564767]\n",
    "}\n",
    "plt.figure(figsize=(12,6))\n",
    "sns.barplot(x = 'Make', y = 'Total_Injuries', data = DangerMake, palette = 'mako')\n",
    "plt.xlabel('Aircraft Make')\n",
    "plt.ylabel('Total Injuries')\n",
    "plt.title('Top 10 Most Dangerous Aircrafts: Total Injuries by Make');\n",
    "\n",
    "#add values if easy\n",
    "\n",
    "#combine the mcdonnell and douglas"
   ]
  },
  {
   "cell_type": "markdown",
   "metadata": {},
   "source": [
    "Observations: Across the data, Airbus had the highest average injuries of 6.277\n",
    "\tthe highest averages seem to be popular aircraft companies/larger airplanes. That may accounts for the skew for higher total average \n",
    "    \teurocopter = airbus but still in data? need clarification on what model is (cause for further investigation)\n"
   ]
  },
  {
   "cell_type": "code",
<<<<<<< HEAD
   "execution_count": 16,
=======
   "execution_count": 157,
>>>>>>> master
   "metadata": {
    "scrolled": false
   },
   "outputs": [
    {
     "data": {
<<<<<<< HEAD
      "image/png": "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\n",
=======
      "image/png": "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\n",
>>>>>>> master
      "text/plain": [
       "<Figure size 864x432 with 1 Axes>"
      ]
     },
     "metadata": {
      "needs_background": "light"
     },
     "output_type": "display_data"
    }
   ],
   "source": [
    "#least dangerous pivot table\n",
    "least_injured = pd.pivot_table(planesII, values = ['Total_Injuries'], index = 'Make')\n",
    "sorted_least_injured = least_injured.apply(lambda x: x.sort_values(ascending = True).head(10))\n",
    "sorted_least_injured\n",
    "\n",
    "#create dataframe from pivot table\n",
    "\n",
    "least_inj_df = sorted_least_injured.reset_index()\n",
    "least_inj_df = least_inj_df.set_index('Make')\n",
    "\n",
    "\n",
    "\n",
    "fix, ax = plt.subplots(figsize=(12,6))\n",
    "sns.set_palette = 'mako'\n",
    "\n",
    "least_inj_df.plot(kind = 'bar', stacked = False, ax = ax)\n",
    "\n",
    "plt.xlabel('Aircraft Make')\n",
    "plt.ylabel('Total Injuries')\n",
    "plt.title('Top 10 Safest Aircrafts: Total Injuries by Make');\n",
    "#plt.xticks(rotation=45);"
   ]
  },
  {
   "cell_type": "markdown",
   "metadata": {},
   "source": [
    "Observations: \n",
    "    Grummen-schwelzer with the least amount of injuries\n",
    "    difference between top 10 and bottom 10 is > 5 average injuries\n",
    "    Air tractor = farming plane not passenger plane\n",
    "    these aircraft companies could make smaller passenger planes overall which account for their low average injuries\n",
    "    Some helicopter companies in the mix"
   ]
  },
  {
   "cell_type": "markdown",
   "metadata": {},
   "source": [
    "## Aircraft Damage by Aircraft Make"
   ]
  },
  {
   "cell_type": "code",
<<<<<<< HEAD
   "execution_count": 17,
=======
   "execution_count": 85,
>>>>>>> master
   "metadata": {},
   "outputs": [
    {
     "data": {
      "text/html": [
       "<div>\n",
       "<style scoped>\n",
       "    .dataframe tbody tr th:only-of-type {\n",
       "        vertical-align: middle;\n",
       "    }\n",
       "\n",
       "    .dataframe tbody tr th {\n",
       "        vertical-align: top;\n",
       "    }\n",
       "\n",
       "    .dataframe thead th {\n",
       "        text-align: right;\n",
       "    }\n",
       "</style>\n",
       "<table border=\"1\" class=\"dataframe\">\n",
       "  <thead>\n",
       "    <tr style=\"text-align: right;\">\n",
       "      <th></th>\n",
       "      <th>Event_Id</th>\n",
       "      <th>Accident_Number</th>\n",
       "      <th>Event_Date</th>\n",
       "      <th>Location</th>\n",
       "      <th>Country</th>\n",
       "      <th>Injury_Severity</th>\n",
       "      <th>Aircraft_Damage</th>\n",
<<<<<<< HEAD
       "      <th>Aircraft_Category</th>\n",
       "      <th>Make</th>\n",
       "      <th>Model</th>\n",
       "      <th>...</th>\n",
=======
       "      <th>Make</th>\n",
       "      <th>Model</th>\n",
       "      <th>Number_of_Engines</th>\n",
       "      <th>...</th>\n",
       "      <th>Purpose_of_flight</th>\n",
       "      <th>Total_Fatal_Injuries</th>\n",
       "      <th>Total_Serious_Injuries</th>\n",
>>>>>>> master
       "      <th>Total_Minor_Injuries</th>\n",
       "      <th>Total_Uninjured</th>\n",
       "      <th>Weather_Condition</th>\n",
       "      <th>Phase_of_Flight</th>\n",
<<<<<<< HEAD
       "      <th>created_year</th>\n",
       "      <th>created_month</th>\n",
       "      <th>created_day</th>\n",
       "      <th>Total_Injuries</th>\n",
       "      <th>Total_Passengers</th>\n",
       "      <th>Make_Model</th>\n",
=======
       "      <th>Report_Status</th>\n",
       "      <th>Make_Model</th>\n",
       "      <th>Total_Injuries</th>\n",
>>>>>>> master
       "    </tr>\n",
       "  </thead>\n",
       "  <tbody>\n",
       "    <tr>\n",
       "      <th>0</th>\n",
<<<<<<< HEAD
       "      <td>20170710X52551</td>\n",
       "      <td>NYC79AA106</td>\n",
       "      <td>1979-09-17</td>\n",
       "      <td>BOSTON, MA</td>\n",
       "      <td>United States</td>\n",
       "      <td>Non-Fatal</td>\n",
       "      <td>Substantial</td>\n",
       "      <td>Airplane</td>\n",
       "      <td>Douglas</td>\n",
       "      <td>DC9</td>\n",
       "      <td>...</td>\n",
       "      <td>1.0</td>\n",
       "      <td>44.0</td>\n",
       "      <td>VMC</td>\n",
       "      <td>Climb</td>\n",
       "      <td>1979</td>\n",
       "      <td>9</td>\n",
       "      <td>17</td>\n",
       "      <td>1.0</td>\n",
       "      <td>45.0</td>\n",
       "      <td>Douglas DC9</td>\n",
       "    </tr>\n",
       "    <tr>\n",
       "      <th>1</th>\n",
       "      <td>20020909X01562</td>\n",
       "      <td>SEA82DA022</td>\n",
       "      <td>1982-01-01</td>\n",
       "      <td>PULLMAN, WA</td>\n",
       "      <td>United States</td>\n",
       "      <td>Non-Fatal</td>\n",
       "      <td>Substantial</td>\n",
       "      <td>Airplane</td>\n",
       "      <td>Cessna</td>\n",
       "      <td>140</td>\n",
       "      <td>...</td>\n",
       "      <td>0.0</td>\n",
       "      <td>2.0</td>\n",
       "      <td>VMC</td>\n",
       "      <td>Takeoff</td>\n",
       "      <td>1982</td>\n",
       "      <td>1</td>\n",
       "      <td>1</td>\n",
       "      <td>0.0</td>\n",
       "      <td>2.0</td>\n",
       "      <td>Cessna 140</td>\n",
       "    </tr>\n",
       "    <tr>\n",
       "      <th>2</th>\n",
       "      <td>20020909X01561</td>\n",
       "      <td>NYC82DA015</td>\n",
       "      <td>1982-01-01</td>\n",
       "      <td>EAST HANOVER, NJ</td>\n",
       "      <td>United States</td>\n",
       "      <td>Non-Fatal</td>\n",
       "      <td>Substantial</td>\n",
       "      <td>Airplane</td>\n",
       "      <td>Cessna</td>\n",
       "      <td>401B</td>\n",
       "      <td>...</td>\n",
       "      <td>0.0</td>\n",
       "      <td>2.0</td>\n",
       "      <td>IMC</td>\n",
       "      <td>Landing</td>\n",
       "      <td>1982</td>\n",
       "      <td>1</td>\n",
       "      <td>1</td>\n",
       "      <td>0.0</td>\n",
       "      <td>2.0</td>\n",
       "      <td>Cessna 401B</td>\n",
       "    </tr>\n",
       "    <tr>\n",
       "      <th>3</th>\n",
       "      <td>20020917X02148</td>\n",
       "      <td>FTW82FRJ07</td>\n",
       "      <td>1982-01-02</td>\n",
       "      <td>HOMER, LA</td>\n",
       "      <td>United States</td>\n",
       "      <td>Non-Fatal</td>\n",
       "      <td>Destroyed</td>\n",
       "      <td>Airplane</td>\n",
       "      <td>Bellanca</td>\n",
       "      <td>17-30A</td>\n",
       "      <td>...</td>\n",
       "      <td>1.0</td>\n",
       "      <td>0.0</td>\n",
       "      <td>IMC</td>\n",
       "      <td>Cruise</td>\n",
       "      <td>1982</td>\n",
       "      <td>1</td>\n",
       "      <td>2</td>\n",
       "      <td>1.0</td>\n",
       "      <td>1.0</td>\n",
       "      <td>Bellanca 17-30A</td>\n",
       "    </tr>\n",
       "    <tr>\n",
       "      <th>4</th>\n",
       "      <td>20020917X02134</td>\n",
       "      <td>FTW82FRA14</td>\n",
       "      <td>1982-01-02</td>\n",
       "      <td>HEARNE, TX</td>\n",
       "      <td>United States</td>\n",
       "      <td>Fatal</td>\n",
       "      <td>Destroyed</td>\n",
       "      <td>Airplane</td>\n",
       "      <td>Cessna</td>\n",
       "      <td>R172K</td>\n",
       "      <td>...</td>\n",
       "      <td>0.0</td>\n",
       "      <td>0.0</td>\n",
       "      <td>IMC</td>\n",
       "      <td>Takeoff</td>\n",
       "      <td>1982</td>\n",
       "      <td>1</td>\n",
       "      <td>2</td>\n",
       "      <td>1.0</td>\n",
       "      <td>1.0</td>\n",
       "      <td>Cessna R172K</td>\n",
       "    </tr>\n",
       "  </tbody>\n",
       "</table>\n",
       "<p>5 rows × 25 columns</p>\n",
       "</div>"
      ],
      "text/plain": [
       "         Event_Id Accident_Number  Event_Date          Location  \\\n",
       "0  20170710X52551      NYC79AA106  1979-09-17        BOSTON, MA   \n",
       "1  20020909X01562      SEA82DA022  1982-01-01       PULLMAN, WA   \n",
       "2  20020909X01561      NYC82DA015  1982-01-01  EAST HANOVER, NJ   \n",
       "3  20020917X02148      FTW82FRJ07  1982-01-02         HOMER, LA   \n",
       "4  20020917X02134      FTW82FRA14  1982-01-02        HEARNE, TX   \n",
       "\n",
       "         Country Injury_Severity Aircraft_Damage Aircraft_Category      Make  \\\n",
       "0  United States       Non-Fatal     Substantial          Airplane   Douglas   \n",
       "1  United States       Non-Fatal     Substantial          Airplane    Cessna   \n",
       "2  United States       Non-Fatal     Substantial          Airplane    Cessna   \n",
       "3  United States       Non-Fatal       Destroyed          Airplane  Bellanca   \n",
       "4  United States           Fatal       Destroyed          Airplane    Cessna   \n",
       "\n",
       "    Model  ... Total_Minor_Injuries Total_Uninjured Weather_Condition  \\\n",
       "0     DC9  ...                  1.0            44.0               VMC   \n",
       "1     140  ...                  0.0             2.0               VMC   \n",
       "2    401B  ...                  0.0             2.0               IMC   \n",
       "3  17-30A  ...                  1.0             0.0               IMC   \n",
       "4   R172K  ...                  0.0             0.0               IMC   \n",
       "\n",
       "   Phase_of_Flight  created_year  created_month  created_day Total_Injuries  \\\n",
       "0            Climb          1979              9           17            1.0   \n",
       "1          Takeoff          1982              1            1            0.0   \n",
       "2          Landing          1982              1            1            0.0   \n",
       "3           Cruise          1982              1            2            1.0   \n",
       "4          Takeoff          1982              1            2            1.0   \n",
       "\n",
       "  Total_Passengers       Make_Model  \n",
       "0             45.0      Douglas DC9  \n",
       "1              2.0       Cessna 140  \n",
       "2              2.0      Cessna 401B  \n",
       "3              1.0  Bellanca 17-30A  \n",
       "4              1.0     Cessna R172K  \n",
       "\n",
       "[5 rows x 25 columns]"
      ]
     },
     "execution_count": 17,
=======
       "      <td>20001218X45444</td>\n",
       "      <td>SEA87LA080</td>\n",
       "      <td>1948-10-24</td>\n",
       "      <td>MOOSE CREEK, ID</td>\n",
       "      <td>United States</td>\n",
       "      <td>Fatal</td>\n",
       "      <td>Destroyed</td>\n",
       "      <td>Stinson</td>\n",
       "      <td>108-3</td>\n",
       "      <td>1.0</td>\n",
       "      <td>...</td>\n",
       "      <td>Personal</td>\n",
       "      <td>2.0</td>\n",
       "      <td>0.0</td>\n",
       "      <td>0.0</td>\n",
       "      <td>0.0</td>\n",
       "      <td>UNK</td>\n",
       "      <td>Cruise</td>\n",
       "      <td>Probable Cause</td>\n",
       "      <td>Stinson 108-3</td>\n",
       "      <td>2.0</td>\n",
       "    </tr>\n",
       "    <tr>\n",
       "      <th>1</th>\n",
       "      <td>20001218X45447</td>\n",
       "      <td>LAX94LA336</td>\n",
       "      <td>1962-07-19</td>\n",
       "      <td>BRIDGEPORT, CA</td>\n",
       "      <td>United States</td>\n",
       "      <td>Fatal</td>\n",
       "      <td>Destroyed</td>\n",
       "      <td>Piper</td>\n",
       "      <td>PA24-180</td>\n",
       "      <td>1.0</td>\n",
       "      <td>...</td>\n",
       "      <td>Personal</td>\n",
       "      <td>4.0</td>\n",
       "      <td>0.0</td>\n",
       "      <td>0.0</td>\n",
       "      <td>0.0</td>\n",
       "      <td>UNK</td>\n",
       "      <td>Unknown</td>\n",
       "      <td>Probable Cause</td>\n",
       "      <td>Piper PA24-180</td>\n",
       "      <td>4.0</td>\n",
       "    </tr>\n",
       "    <tr>\n",
       "      <th>2</th>\n",
       "      <td>20061025X01555</td>\n",
       "      <td>NYC07LA005</td>\n",
       "      <td>1974-08-30</td>\n",
       "      <td>SALTVILLE, VA</td>\n",
       "      <td>United States</td>\n",
       "      <td>Fatal</td>\n",
       "      <td>Destroyed</td>\n",
       "      <td>Cessna</td>\n",
       "      <td>172M</td>\n",
       "      <td>1.0</td>\n",
       "      <td>...</td>\n",
       "      <td>Personal</td>\n",
       "      <td>3.0</td>\n",
       "      <td>0.0</td>\n",
       "      <td>0.0</td>\n",
       "      <td>0.0</td>\n",
       "      <td>IMC</td>\n",
       "      <td>Cruise</td>\n",
       "      <td>Probable Cause</td>\n",
       "      <td>Cessna 172M</td>\n",
       "      <td>3.0</td>\n",
       "    </tr>\n",
       "    <tr>\n",
       "      <th>3</th>\n",
       "      <td>20001218X45448</td>\n",
       "      <td>LAX96LA321</td>\n",
       "      <td>1977-06-19</td>\n",
       "      <td>EUREKA, CA</td>\n",
       "      <td>United States</td>\n",
       "      <td>Fatal</td>\n",
       "      <td>Destroyed</td>\n",
       "      <td>Rockwell</td>\n",
       "      <td>112</td>\n",
       "      <td>1.0</td>\n",
       "      <td>...</td>\n",
       "      <td>Personal</td>\n",
       "      <td>2.0</td>\n",
       "      <td>0.0</td>\n",
       "      <td>0.0</td>\n",
       "      <td>0.0</td>\n",
       "      <td>IMC</td>\n",
       "      <td>Cruise</td>\n",
       "      <td>Probable Cause</td>\n",
       "      <td>Rockwell 112</td>\n",
       "      <td>2.0</td>\n",
       "    </tr>\n",
       "    <tr>\n",
       "      <th>4</th>\n",
       "      <td>20170710X52551</td>\n",
       "      <td>NYC79AA106</td>\n",
       "      <td>1979-09-17</td>\n",
       "      <td>BOSTON, MA</td>\n",
       "      <td>United States</td>\n",
       "      <td>Non-Fatal</td>\n",
       "      <td>Substantial</td>\n",
       "      <td>Mcdonnell douglas</td>\n",
       "      <td>DC9</td>\n",
       "      <td>2.0</td>\n",
       "      <td>...</td>\n",
       "      <td>Unknown</td>\n",
       "      <td>0.0</td>\n",
       "      <td>0.0</td>\n",
       "      <td>1.0</td>\n",
       "      <td>44.0</td>\n",
       "      <td>VMC</td>\n",
       "      <td>Climb</td>\n",
       "      <td>Probable Cause</td>\n",
       "      <td>Mcdonnell douglas DC9</td>\n",
       "      <td>1.0</td>\n",
       "    </tr>\n",
       "  </tbody>\n",
       "</table>\n",
       "<p>5 rows × 21 columns</p>\n",
       "</div>"
      ],
      "text/plain": [
       "         Event_Id Accident_Number  Event_Date         Location        Country  \\\n",
       "0  20001218X45444      SEA87LA080  1948-10-24  MOOSE CREEK, ID  United States   \n",
       "1  20001218X45447      LAX94LA336  1962-07-19   BRIDGEPORT, CA  United States   \n",
       "2  20061025X01555      NYC07LA005  1974-08-30    SALTVILLE, VA  United States   \n",
       "3  20001218X45448      LAX96LA321  1977-06-19       EUREKA, CA  United States   \n",
       "4  20170710X52551      NYC79AA106  1979-09-17       BOSTON, MA  United States   \n",
       "\n",
       "  Injury_Severity Aircraft_Damage               Make     Model  \\\n",
       "0           Fatal       Destroyed            Stinson     108-3   \n",
       "1           Fatal       Destroyed              Piper  PA24-180   \n",
       "2           Fatal       Destroyed             Cessna      172M   \n",
       "3           Fatal       Destroyed           Rockwell       112   \n",
       "4       Non-Fatal     Substantial  Mcdonnell douglas       DC9   \n",
       "\n",
       "  Number_of_Engines  ... Purpose_of_flight Total_Fatal_Injuries  \\\n",
       "0               1.0  ...          Personal                  2.0   \n",
       "1               1.0  ...          Personal                  4.0   \n",
       "2               1.0  ...          Personal                  3.0   \n",
       "3               1.0  ...          Personal                  2.0   \n",
       "4               2.0  ...           Unknown                  0.0   \n",
       "\n",
       "   Total_Serious_Injuries  Total_Minor_Injuries  Total_Uninjured  \\\n",
       "0                     0.0                   0.0              0.0   \n",
       "1                     0.0                   0.0              0.0   \n",
       "2                     0.0                   0.0              0.0   \n",
       "3                     0.0                   0.0              0.0   \n",
       "4                     0.0                   1.0             44.0   \n",
       "\n",
       "   Weather_Condition Phase_of_Flight   Report_Status             Make_Model  \\\n",
       "0                UNK          Cruise  Probable Cause          Stinson 108-3   \n",
       "1                UNK         Unknown  Probable Cause         Piper PA24-180   \n",
       "2                IMC          Cruise  Probable Cause            Cessna 172M   \n",
       "3                IMC          Cruise  Probable Cause           Rockwell 112   \n",
       "4                VMC           Climb  Probable Cause  Mcdonnell douglas DC9   \n",
       "\n",
       "  Total_Injuries  \n",
       "0            2.0  \n",
       "1            4.0  \n",
       "2            3.0  \n",
       "3            2.0  \n",
       "4            1.0  \n",
       "\n",
       "[5 rows x 21 columns]"
      ]
     },
     "execution_count": 85,
>>>>>>> master
     "metadata": {},
     "output_type": "execute_result"
    }
   ],
   "source": [
    "planesII.head()"
   ]
  },
  {
   "cell_type": "code",
<<<<<<< HEAD
   "execution_count": 18,
=======
   "execution_count": 128,
>>>>>>> master
   "metadata": {},
   "outputs": [
    {
     "data": {
      "text/html": [
       "<div>\n",
       "<style scoped>\n",
       "    .dataframe tbody tr th:only-of-type {\n",
       "        vertical-align: middle;\n",
       "    }\n",
       "\n",
       "    .dataframe tbody tr th {\n",
       "        vertical-align: top;\n",
       "    }\n",
       "\n",
       "    .dataframe thead th {\n",
       "        text-align: right;\n",
       "    }\n",
       "</style>\n",
       "<table border=\"1\" class=\"dataframe\">\n",
       "  <thead>\n",
       "    <tr style=\"text-align: right;\">\n",
       "      <th>Aircraft_Damage</th>\n",
       "      <th>Destroyed</th>\n",
       "      <th>Minor</th>\n",
       "      <th>Substantial</th>\n",
       "    </tr>\n",
       "    <tr>\n",
       "      <th>Make</th>\n",
       "      <th></th>\n",
       "      <th></th>\n",
       "      <th></th>\n",
       "    </tr>\n",
       "  </thead>\n",
       "  <tbody>\n",
       "    <tr>\n",
       "      <th>Aero commander</th>\n",
<<<<<<< HEAD
       "      <td>17.0</td>\n",
       "      <td>0.0</td>\n",
       "      <td>76.0</td>\n",
       "    </tr>\n",
       "    <tr>\n",
       "      <th>Aeronca</th>\n",
       "      <td>14.0</td>\n",
       "      <td>4.0</td>\n",
       "      <td>187.0</td>\n",
       "    </tr>\n",
       "    <tr>\n",
       "      <th>Air tractor</th>\n",
       "      <td>46.0</td>\n",
       "      <td>4.0</td>\n",
       "      <td>326.0</td>\n",
       "    </tr>\n",
       "    <tr>\n",
       "      <th>Airbus</th>\n",
       "      <td>6.0</td>\n",
       "      <td>27.0</td>\n",
       "      <td>14.0</td>\n",
       "    </tr>\n",
       "    <tr>\n",
       "      <th>Beech</th>\n",
       "      <td>255.0</td>\n",
       "      <td>36.0</td>\n",
       "      <td>1138.0</td>\n",
=======
       "      <td>137.0</td>\n",
       "      <td>5.0</td>\n",
       "      <td>266.0</td>\n",
       "    </tr>\n",
       "    <tr>\n",
       "      <th>Aeronca</th>\n",
       "      <td>91.0</td>\n",
       "      <td>5.0</td>\n",
       "      <td>514.0</td>\n",
       "    </tr>\n",
       "    <tr>\n",
       "      <th>Aerospatiale</th>\n",
       "      <td>104.0</td>\n",
       "      <td>21.0</td>\n",
       "      <td>221.0</td>\n",
       "    </tr>\n",
       "    <tr>\n",
       "      <th>Air tractor</th>\n",
       "      <td>151.0</td>\n",
       "      <td>12.0</td>\n",
       "      <td>672.0</td>\n",
       "    </tr>\n",
       "    <tr>\n",
       "      <th>Airbus</th>\n",
       "      <td>13.0</td>\n",
       "      <td>78.0</td>\n",
       "      <td>45.0</td>\n",
>>>>>>> master
       "    </tr>\n",
       "  </tbody>\n",
       "</table>\n",
       "</div>"
      ],
      "text/plain": [
       "Aircraft_Damage  Destroyed  Minor  Substantial\n",
       "Make                                          \n",
<<<<<<< HEAD
       "Aero commander        17.0    0.0         76.0\n",
       "Aeronca               14.0    4.0        187.0\n",
       "Air tractor           46.0    4.0        326.0\n",
       "Airbus                 6.0   27.0         14.0\n",
       "Beech                255.0   36.0       1138.0"
      ]
     },
     "execution_count": 18,
=======
       "Aero commander       137.0    5.0        266.0\n",
       "Aeronca               91.0    5.0        514.0\n",
       "Aerospatiale         104.0   21.0        221.0\n",
       "Air tractor          151.0   12.0        672.0\n",
       "Airbus                13.0   78.0         45.0"
      ]
     },
     "execution_count": 128,
>>>>>>> master
     "metadata": {},
     "output_type": "execute_result"
    }
   ],
   "source": [
    "#most dangerous pivot table\n",
    "most_damage = pd.pivot_table(planesII, columns = ['Aircraft_Damage'], index = 'Make', aggfunc = 'size')\n",
    "\n",
    "#convert to dataframe\n",
    "most_damage_df = most_damage.reset_index()\n",
    "most_damage_df = most_damage_df.set_index('Make')\n",
    "most_damage_df[[\"Destroyed\",\"Minor\",\"Substantial\"]] = most_damage_df[[\"Destroyed\",\"Minor\",\"Substantial\"]].fillna(0)\n",
    "\n",
    "#drop unknown column\n",
    "most_damage_df.drop(columns = 'Unknown', inplace = True)\n",
    "\n",
    "\n",
    "#create top 10 and bottom 10\n",
    "\n",
    "\n",
    "#normalize columns\n",
    "\n",
    "\n",
    "#create normalized total column\n",
    "\n",
    "\n",
    "#check\n",
    "most_damage_df.head()"
   ]
  },
  {
   "cell_type": "code",
<<<<<<< HEAD
   "execution_count": 19,
=======
   "execution_count": 160,
>>>>>>> master
   "metadata": {
    "scrolled": false
   },
   "outputs": [
    {
     "data": {
      "text/plain": [
       "Text(0.5, 1.0, 'Aircraft Damage by Make')"
      ]
     },
<<<<<<< HEAD
     "execution_count": 19,
=======
     "execution_count": 160,
>>>>>>> master
     "metadata": {},
     "output_type": "execute_result"
    },
    {
     "data": {
      "text/plain": [
       "<Figure size 864x576 with 0 Axes>"
      ]
     },
     "metadata": {},
     "output_type": "display_data"
    },
    {
     "data": {
<<<<<<< HEAD
      "image/png": "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\n",
=======
      "image/png": "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\n",
>>>>>>> master
      "text/plain": [
       "<Figure size 1440x576 with 1 Axes>"
      ]
     },
     "metadata": {
      "needs_background": "light"
     },
     "output_type": "display_data"
    }
   ],
   "source": [
    "# plot \n",
    "\n",
    "plt.figure(figsize=(12,8))\n",
    "\n",
    "ax = most_damage_df.plot(kind = 'bar', stacked = True, figsize = (20,8))\n",
    "plt.xlabel('Aircraft Make')\n",
    "plt.ylabel('Damage')\n",
    "plt.title('Aircraft Damage by Make')\n",
    "#sns.set_palette('mako');\n",
    "\n",
    "#plt.xticks(rotation=45);"
   ]
  },
  {
   "cell_type": "markdown",
   "metadata": {},
   "source": [
    "Observations:\n",
    "    Cessna and Piper have the highest number of damage reports"
   ]
  },
  {
   "cell_type": "markdown",
   "metadata": {},
   "source": [
    "# Safety Scoring"
   ]
  },
  {
   "cell_type": "code",
<<<<<<< HEAD
   "execution_count": 20,
=======
   "execution_count": 26,
>>>>>>> master
   "metadata": {},
   "outputs": [],
   "source": [
    "#Copy Planes for the purposes of trying things\n",
    "planesII = planes.copy()"
   ]
  },
  {
   "cell_type": "code",
<<<<<<< HEAD
   "execution_count": 21,
=======
   "execution_count": 27,
>>>>>>> master
   "metadata": {},
   "outputs": [
    {
     "data": {
      "text/plain": [
<<<<<<< HEAD
       "172          744\n",
       "152          416\n",
       "172N         301\n",
       "182          286\n",
       "172S         258\n",
       "            ... \n",
       "C-50           1\n",
       "777-222B       1\n",
       "PA-30 B        1\n",
       "VANS RV 9      1\n",
       "65-TF          1\n",
       "Name: Model, Length: 1828, dtype: int64"
      ]
     },
     "execution_count": 21,
=======
       "152                  2325\n",
       "172                  1615\n",
       "172N                 1136\n",
       "PA-28-140             898\n",
       "150                   787\n",
       "                     ... \n",
       "C-12C                   1\n",
       "A-320-212               1\n",
       "T-34C                   1\n",
       "316B ALOUETTE III       1\n",
       "At-301                  1\n",
       "Name: Model, Length: 5248, dtype: int64"
      ]
     },
     "execution_count": 27,
>>>>>>> master
     "metadata": {},
     "output_type": "execute_result"
    }
   ],
   "source": [
    "planesII.head()\n",
    "planesII['Injury_Severity'].value_counts()\n",
    "planesII['Model'].value_counts()"
   ]
  },
  {
   "cell_type": "code",
<<<<<<< HEAD
   "execution_count": 25,
=======
   "execution_count": 144,
>>>>>>> master
   "metadata": {
    "scrolled": true
   },
   "outputs": [
    {
     "data": {
      "text/plain": [
<<<<<<< HEAD
       "Cessna                7478\n",
       "Piper                 4170\n",
       "Beech                 1446\n",
       "Boeing                 540\n",
       "Air tractor            377\n",
       "Mooney                 369\n",
       "Bellanca               268\n",
       "Grumman                233\n",
       "Maule                  217\n",
       "Aeronca                205\n",
       "Cirrus design corp     182\n",
       "Champion               158\n",
       "Luscombe               154\n",
       "Stinson                138\n",
       "Airbus                 119\n",
       "North american         104\n",
       "Taylorcraft            104\n",
       "Cirrus                 102\n",
       "Aero commander          94\n",
       "Embraer                 94\n",
       "Vans                    85\n",
       "Douglas                 71\n",
       "Name: Make, dtype: int64"
      ]
     },
     "execution_count": 25,
=======
       "Cessna 152              2325\n",
       "Cessna 172              1612\n",
       "Cessna 172N             1135\n",
       "Piper PA-28-140          898\n",
       "Cessna 150               787\n",
       "                        ... \n",
       "Piper PA 32R 301T          1\n",
       "Stinson SR-8E              1\n",
       "Cessna 182 P               1\n",
       "Piper PA-J3C-65            1\n",
       "Burkhart grob BG 103       1\n",
       "Name: Make_Model, Length: 5529, dtype: int64"
      ]
     },
     "execution_count": 144,
>>>>>>> master
     "metadata": {},
     "output_type": "execute_result"
    }
   ],
   "source": [
    "#points dictionary\n",
    "#weather = {'IMC': 2, 'VCM': 1}\n",
    "#engine = {most risky engine to least risky engine}\n",
    "#severity = {'Fatal': 5, 'Serious': 4, 'Incident': 3, 'Minor': 2, 'Non-Fatal': 1}\n",
    "#damage = {'Destroyed': 3, 'Substantial': 2, 'Minor': 1}\n",
    "\n",
    "\n",
<<<<<<< HEAD
    "makes = planesII['Make'].value_counts()\n",
    "makes"
   ]
  },
  {
   "cell_type": "code",
   "execution_count": null,
   "metadata": {},
   "outputs": [],
   "source": [
    "makes =planesII['Make'].value_counts()\n",
    "\n",
    "makes = df[df['Make'].isin(top_models.index)][['Make', 'Total_Injuries', 'Total_Passengers']]\n",
    "model_df\n",
    "\n",
    "model_df = make_df = df.groupby(['Make_Model'])[ 'Total_Injuries', 'Total_Passengers'].sum().nlargest(20, \n",
    "    columns=['Total_Injuries', 'Total_Passengers'])\n",
    "model_df\n",
    "\n",
    "model_df['Survival_Rate'] = 1 - (model_df['Total_Injuries']/ model_df['Total_Passengers'])\n",
    "model_df = model_df.drop(columns= ['Total_Injuries', 'Total_Passengers'])\n",
    "model_df\n",
    "\n",
    "#injury rate \n",
    "#injury:Survival ratio"
=======
    "planesII['Make_Model'].value_counts()"
>>>>>>> master
   ]
  },
  {
   "cell_type": "code",
   "execution_count": null,
   "metadata": {},
   "outputs": [],
   "source": [
    "#apply point system to injury severity and damage columns, create safety score\n",
    "planesII['Damage_Score'] = planesII['Aircraft_Damage'].map(damage)\n",
    "planesII['Injury_Score'] = planesII['Injury_Severity'].map(severity)\n",
    "planesII['Weather_Score'] = planesII['Weather --'].map(weather)\n",
    "planesII['Engine_Score'] = planesII['Engine--'].map(engine)\n",
    "\n",
    "planesII['Safety_Score'] = planesII['Injury_Score'] + planesII['Damage_Score']\n",
    "\n",
    "#should we normalize other damage and injury scores?\n",
    "\n",
    "#check\n",
    "planesII.head()"
   ]
  },
  {
   "cell_type": "code",
   "execution_count": 117,
   "metadata": {},
   "outputs": [],
   "source": [
    "#Delete all unavailable rows?\n",
    "planesII = planesII[planesII[\"Injury_Severity\"] != 'Unavailable']"
   ]
<<<<<<< HEAD
  },
  {
   "cell_type": "code",
   "execution_count": null,
   "metadata": {},
   "outputs": [],
   "source": []
=======
>>>>>>> master
  }
 ],
 "metadata": {
  "kernelspec": {
   "display_name": "Python (learn-env)",
   "language": "python",
   "name": "learn-env"
  },
  "language_info": {
   "codemirror_mode": {
    "name": "ipython",
    "version": 3
   },
   "file_extension": ".py",
   "mimetype": "text/x-python",
   "name": "python",
   "nbconvert_exporter": "python",
   "pygments_lexer": "ipython3",
   "version": "3.8.5"
  }
 },
 "nbformat": 4,
 "nbformat_minor": 4
}
