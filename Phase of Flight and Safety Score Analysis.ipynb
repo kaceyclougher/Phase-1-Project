{
 "cells": [
  {
   "cell_type": "markdown",
   "metadata": {},
   "source": [
    "# At what phase of the flight is the most damage occuring?\n",
    "\n",
    "Compare damage happening within each phase of flight\n",
    "\n",
    "\t#Aircraft_damage\n",
    "    #Phase_of_Flight\n",
    "\n",
    "# At what phase of the flight are the most injuries occuring?\n",
    "\n",
    "Compare each set of injuries with Phase of Flight\n",
    "\n",
    "\t#Total_Fatal_Injuries\n",
    "\t#Total_Serious_Injuries\n",
    "\t#Total_Minor_Injuries\n",
    "\t#Total_Uninjured\n",
    "\n",
    "\t#Injury_severity\n",
    "    \n",
    "    Injury severity??\n",
    "    \n",
    "\n",
    "\n"
   ]
  },
  {
   "cell_type": "markdown",
   "metadata": {},
   "source": [
    "## Import Packages and Data"
   ]
  },
  {
   "cell_type": "code",
   "execution_count": 1,
   "metadata": {},
   "outputs": [],
   "source": [
    "#Import Packages\n",
    "\n",
    "import pandas as pd\n",
    "import matplotlib.pyplot as plt \n",
    "import seaborn as sns"
   ]
  },
  {
   "cell_type": "code",
   "execution_count": 3,
   "metadata": {},
   "outputs": [],
   "source": [
    "#Import Data\n",
    "\n",
    "planes = pd.read_csv('data/Clean_AviationII.csv')"
   ]
  },
  {
   "cell_type": "markdown",
   "metadata": {},
   "source": [
    "## Inspect Data"
   ]
  },
  {
   "cell_type": "code",
   "execution_count": 4,
   "metadata": {},
   "outputs": [
    {
     "data": {
      "text/html": [
       "<div>\n",
       "<style scoped>\n",
       "    .dataframe tbody tr th:only-of-type {\n",
       "        vertical-align: middle;\n",
       "    }\n",
       "\n",
       "    .dataframe tbody tr th {\n",
       "        vertical-align: top;\n",
       "    }\n",
       "\n",
       "    .dataframe thead th {\n",
       "        text-align: right;\n",
       "    }\n",
       "</style>\n",
       "<table border=\"1\" class=\"dataframe\">\n",
       "  <thead>\n",
       "    <tr style=\"text-align: right;\">\n",
       "      <th></th>\n",
       "      <th>Event_Id</th>\n",
       "      <th>Accident_Number</th>\n",
       "      <th>Event_Date</th>\n",
       "      <th>Location</th>\n",
       "      <th>Country</th>\n",
       "      <th>Injury_Severity</th>\n",
       "      <th>Aircraft_Damage</th>\n",
       "      <th>Aircraft_Category</th>\n",
       "      <th>Make</th>\n",
       "      <th>Model</th>\n",
       "      <th>...</th>\n",
       "      <th>Total_Minor_Injuries</th>\n",
       "      <th>Total_Uninjured</th>\n",
       "      <th>Weather_Condition</th>\n",
       "      <th>Phase_of_Flight</th>\n",
       "      <th>created_year</th>\n",
       "      <th>created_month</th>\n",
       "      <th>created_day</th>\n",
       "      <th>Total_Injuries</th>\n",
       "      <th>Total_Passengers</th>\n",
       "      <th>Make_Model</th>\n",
       "    </tr>\n",
       "  </thead>\n",
       "  <tbody>\n",
       "    <tr>\n",
       "      <th>0</th>\n",
       "      <td>20170710X52551</td>\n",
       "      <td>NYC79AA106</td>\n",
       "      <td>1979-09-17</td>\n",
       "      <td>BOSTON, MA</td>\n",
       "      <td>United States</td>\n",
       "      <td>Non-Fatal</td>\n",
       "      <td>Substantial</td>\n",
       "      <td>Airplane</td>\n",
       "      <td>Douglas</td>\n",
       "      <td>DC9</td>\n",
       "      <td>...</td>\n",
       "      <td>1.0</td>\n",
       "      <td>44.0</td>\n",
       "      <td>VMC</td>\n",
       "      <td>Climb</td>\n",
       "      <td>1979</td>\n",
       "      <td>9</td>\n",
       "      <td>17</td>\n",
       "      <td>1.0</td>\n",
       "      <td>45.0</td>\n",
       "      <td>Douglas DC9</td>\n",
       "    </tr>\n",
       "    <tr>\n",
       "      <th>1</th>\n",
       "      <td>20020909X01562</td>\n",
       "      <td>SEA82DA022</td>\n",
       "      <td>1982-01-01</td>\n",
       "      <td>PULLMAN, WA</td>\n",
       "      <td>United States</td>\n",
       "      <td>Non-Fatal</td>\n",
       "      <td>Substantial</td>\n",
       "      <td>Airplane</td>\n",
       "      <td>Cessna</td>\n",
       "      <td>140</td>\n",
       "      <td>...</td>\n",
       "      <td>0.0</td>\n",
       "      <td>2.0</td>\n",
       "      <td>VMC</td>\n",
       "      <td>Takeoff</td>\n",
       "      <td>1982</td>\n",
       "      <td>1</td>\n",
       "      <td>1</td>\n",
       "      <td>0.0</td>\n",
       "      <td>2.0</td>\n",
       "      <td>Cessna 140</td>\n",
       "    </tr>\n",
       "    <tr>\n",
       "      <th>2</th>\n",
       "      <td>20020909X01561</td>\n",
       "      <td>NYC82DA015</td>\n",
       "      <td>1982-01-01</td>\n",
       "      <td>EAST HANOVER, NJ</td>\n",
       "      <td>United States</td>\n",
       "      <td>Non-Fatal</td>\n",
       "      <td>Substantial</td>\n",
       "      <td>Airplane</td>\n",
       "      <td>Cessna</td>\n",
       "      <td>401B</td>\n",
       "      <td>...</td>\n",
       "      <td>0.0</td>\n",
       "      <td>2.0</td>\n",
       "      <td>IMC</td>\n",
       "      <td>Landing</td>\n",
       "      <td>1982</td>\n",
       "      <td>1</td>\n",
       "      <td>1</td>\n",
       "      <td>0.0</td>\n",
       "      <td>2.0</td>\n",
       "      <td>Cessna 401B</td>\n",
       "    </tr>\n",
       "    <tr>\n",
       "      <th>3</th>\n",
       "      <td>20020917X02148</td>\n",
       "      <td>FTW82FRJ07</td>\n",
       "      <td>1982-01-02</td>\n",
       "      <td>HOMER, LA</td>\n",
       "      <td>United States</td>\n",
       "      <td>Non-Fatal</td>\n",
       "      <td>Destroyed</td>\n",
       "      <td>Airplane</td>\n",
       "      <td>Bellanca</td>\n",
       "      <td>17-30A</td>\n",
       "      <td>...</td>\n",
       "      <td>1.0</td>\n",
       "      <td>0.0</td>\n",
       "      <td>IMC</td>\n",
       "      <td>Cruise</td>\n",
       "      <td>1982</td>\n",
       "      <td>1</td>\n",
       "      <td>2</td>\n",
       "      <td>1.0</td>\n",
       "      <td>1.0</td>\n",
       "      <td>Bellanca 17-30A</td>\n",
       "    </tr>\n",
       "    <tr>\n",
       "      <th>4</th>\n",
       "      <td>20020917X02134</td>\n",
       "      <td>FTW82FRA14</td>\n",
       "      <td>1982-01-02</td>\n",
       "      <td>HEARNE, TX</td>\n",
       "      <td>United States</td>\n",
       "      <td>Fatal</td>\n",
       "      <td>Destroyed</td>\n",
       "      <td>Airplane</td>\n",
       "      <td>Cessna</td>\n",
       "      <td>R172K</td>\n",
       "      <td>...</td>\n",
       "      <td>0.0</td>\n",
       "      <td>0.0</td>\n",
       "      <td>IMC</td>\n",
       "      <td>Takeoff</td>\n",
       "      <td>1982</td>\n",
       "      <td>1</td>\n",
       "      <td>2</td>\n",
       "      <td>1.0</td>\n",
       "      <td>1.0</td>\n",
       "      <td>Cessna R172K</td>\n",
       "    </tr>\n",
       "  </tbody>\n",
       "</table>\n",
       "<p>5 rows × 25 columns</p>\n",
       "</div>"
      ],
      "text/plain": [
       "         Event_Id Accident_Number  Event_Date          Location  \\\n",
       "0  20170710X52551      NYC79AA106  1979-09-17        BOSTON, MA   \n",
       "1  20020909X01562      SEA82DA022  1982-01-01       PULLMAN, WA   \n",
       "2  20020909X01561      NYC82DA015  1982-01-01  EAST HANOVER, NJ   \n",
       "3  20020917X02148      FTW82FRJ07  1982-01-02         HOMER, LA   \n",
       "4  20020917X02134      FTW82FRA14  1982-01-02        HEARNE, TX   \n",
       "\n",
       "         Country Injury_Severity Aircraft_Damage Aircraft_Category      Make  \\\n",
       "0  United States       Non-Fatal     Substantial          Airplane   Douglas   \n",
       "1  United States       Non-Fatal     Substantial          Airplane    Cessna   \n",
       "2  United States       Non-Fatal     Substantial          Airplane    Cessna   \n",
       "3  United States       Non-Fatal       Destroyed          Airplane  Bellanca   \n",
       "4  United States           Fatal       Destroyed          Airplane    Cessna   \n",
       "\n",
       "    Model  ... Total_Minor_Injuries Total_Uninjured Weather_Condition  \\\n",
       "0     DC9  ...                  1.0            44.0               VMC   \n",
       "1     140  ...                  0.0             2.0               VMC   \n",
       "2    401B  ...                  0.0             2.0               IMC   \n",
       "3  17-30A  ...                  1.0             0.0               IMC   \n",
       "4   R172K  ...                  0.0             0.0               IMC   \n",
       "\n",
       "   Phase_of_Flight  created_year  created_month  created_day Total_Injuries  \\\n",
       "0            Climb          1979              9           17            1.0   \n",
       "1          Takeoff          1982              1            1            0.0   \n",
       "2          Landing          1982              1            1            0.0   \n",
       "3           Cruise          1982              1            2            1.0   \n",
       "4          Takeoff          1982              1            2            1.0   \n",
       "\n",
       "  Total_Passengers       Make_Model  \n",
       "0             45.0      Douglas DC9  \n",
       "1              2.0       Cessna 140  \n",
       "2              2.0      Cessna 401B  \n",
       "3              1.0  Bellanca 17-30A  \n",
       "4              1.0     Cessna R172K  \n",
       "\n",
       "[5 rows x 25 columns]"
      ]
     },
     "execution_count": 4,
     "metadata": {},
     "output_type": "execute_result"
    }
   ],
   "source": [
    "#Inspect data\n",
    "planes.head()"
   ]
  },
  {
   "cell_type": "code",
   "execution_count": 5,
   "metadata": {},
   "outputs": [
    {
     "data": {
      "text/plain": [
       "(16708, 25)"
      ]
     },
     "execution_count": 5,
     "metadata": {},
     "output_type": "execute_result"
    }
   ],
   "source": [
    "planes.shape"
   ]
  },
  {
   "cell_type": "markdown",
   "metadata": {},
   "source": [
    "## Check out Phase_of_Flight and Aircraft Damage"
   ]
  },
  {
   "cell_type": "code",
   "execution_count": 6,
   "metadata": {},
   "outputs": [
    {
     "data": {
      "text/plain": [
       "Unknown        11655\n",
       "Landing         1858\n",
       "Takeoff          968\n",
       "Cruise           692\n",
       "Approach         492\n",
       "Maneuvering      377\n",
       "Taxi             206\n",
       "Descent          139\n",
       "Go-around        135\n",
       "Climb            127\n",
       "Standing          51\n",
       "Other              8\n",
       "Name: Phase_of_Flight, dtype: int64"
      ]
     },
     "execution_count": 6,
     "metadata": {},
     "output_type": "execute_result"
    }
   ],
   "source": [
    "planes['Phase_of_Flight'].value_counts()"
   ]
  },
  {
   "cell_type": "code",
   "execution_count": 7,
   "metadata": {},
   "outputs": [
    {
     "data": {
      "text/plain": [
       "Substantial    13888\n",
       "Destroyed       1983\n",
       "Unknown          450\n",
       "Minor            387\n",
       "Name: Aircraft_Damage, dtype: int64"
      ]
     },
     "execution_count": 7,
     "metadata": {},
     "output_type": "execute_result"
    }
   ],
   "source": [
    "planes['Aircraft_Damage'].value_counts()"
   ]
  },
  {
   "cell_type": "markdown",
   "metadata": {},
   "source": [
    "## Plot Aircraft Damage by Phase of Flight"
   ]
  },
  {
   "cell_type": "code",
   "execution_count": 8,
   "metadata": {},
   "outputs": [],
   "source": [
    "planesII = planes.copy()"
   ]
  },
  {
   "cell_type": "code",
   "execution_count": 9,
   "metadata": {
    "scrolled": false
   },
   "outputs": [
    {
     "data": {
      "image/png": "[encoded data removed]",
      "text/plain": [
       "<Figure size 1440x576 with 1 Axes>"
      ]
     },
     "metadata": {
      "needs_background": "light"
     },
     "output_type": "display_data"
    }
   ],
   "source": [
    "#Should we drop unknown?\n",
    "\n",
    "noUNK = planes[planes['Phase_of_Flight'] != 'Unknown'] #remove unknowns from data\n",
    "\n",
    "pohad = noUNK.groupby(['Phase_of_Flight', 'Aircraft_Damage']).size().unstack(fill_value = 0)\n",
    "\n",
    "fig, ax = plt.subplots(figsize=(20, 8))\n",
    "sns.set_palette('mako')\n",
    "\n",
    "plt.xlabel(\"Phase of Flight\")\n",
    "plt.ylabel(\"Aircraft Damage\")\n",
    "#plt.xticks(rotation = 45)\n",
    "plt.title(\"Aircraft Damage vs. Phase of Flight\")\n",
    "\n",
    "pohad.plot(kind = 'bar', stacked = True, ax = ax);"
   ]
  },
  {
   "cell_type": "markdown",
   "metadata": {},
   "source": [
    "## observations \n",
    "the most damage occurs during landing - mostly substantial\n",
    "\tby substantial, damage prohibits the aircraft from flying -- most damage in landing -perhaps landing gear -- must be fixed before flying again  \n",
    "the most destroying damage happend on both cruise, takeoff, and maneuvering\n",
    "no aircrafts (or very little) aircrafts seem to be destroyed during taxi\n",
    "other seems to be least occuring/unrelevant\n",
    "\n"
   ]
  },
  {
   "cell_type": "code",
   "execution_count": 10,
   "metadata": {},
   "outputs": [
    {
     "data": {
      "text/html": [
       "<div>\n",
       "<style scoped>\n",
       "    .dataframe tbody tr th:only-of-type {\n",
       "        vertical-align: middle;\n",
       "    }\n",
       "\n",
       "    .dataframe tbody tr th {\n",
       "        vertical-align: top;\n",
       "    }\n",
       "\n",
       "    .dataframe thead th {\n",
       "        text-align: right;\n",
       "    }\n",
       "</style>\n",
       "<table border=\"1\" class=\"dataframe\">\n",
       "  <thead>\n",
       "    <tr style=\"text-align: right;\">\n",
       "      <th>Aircraft_Damage</th>\n",
       "      <th>Destroyed</th>\n",
       "      <th>Minor</th>\n",
       "      <th>Substantial</th>\n",
       "    </tr>\n",
       "    <tr>\n",
       "      <th>Phase_of_Flight</th>\n",
       "      <th></th>\n",
       "      <th></th>\n",
       "      <th></th>\n",
       "    </tr>\n",
       "  </thead>\n",
       "  <tbody>\n",
       "    <tr>\n",
       "      <th>Approach</th>\n",
       "      <td>105.0</td>\n",
       "      <td>15.0</td>\n",
       "      <td>369.0</td>\n",
       "    </tr>\n",
       "    <tr>\n",
       "      <th>Climb</th>\n",
       "      <td>48.0</td>\n",
       "      <td>7.0</td>\n",
       "      <td>67.0</td>\n",
       "    </tr>\n",
       "    <tr>\n",
       "      <th>Cruise</th>\n",
       "      <td>229.0</td>\n",
       "      <td>15.0</td>\n",
       "      <td>437.0</td>\n",
       "    </tr>\n",
       "    <tr>\n",
       "      <th>Descent</th>\n",
       "      <td>37.0</td>\n",
       "      <td>4.0</td>\n",
       "      <td>90.0</td>\n",
       "    </tr>\n",
       "    <tr>\n",
       "      <th>Go-around</th>\n",
       "      <td>22.0</td>\n",
       "      <td>2.0</td>\n",
       "      <td>111.0</td>\n",
       "    </tr>\n",
       "    <tr>\n",
       "      <th>Landing</th>\n",
       "      <td>79.0</td>\n",
       "      <td>21.0</td>\n",
       "      <td>1756.0</td>\n",
       "    </tr>\n",
       "    <tr>\n",
       "      <th>Maneuvering</th>\n",
       "      <td>188.0</td>\n",
       "      <td>3.0</td>\n",
       "      <td>185.0</td>\n",
       "    </tr>\n",
       "    <tr>\n",
       "      <th>Other</th>\n",
       "      <td>3.0</td>\n",
       "      <td>NaN</td>\n",
       "      <td>5.0</td>\n",
       "    </tr>\n",
       "    <tr>\n",
       "      <th>Standing</th>\n",
       "      <td>6.0</td>\n",
       "      <td>5.0</td>\n",
       "      <td>29.0</td>\n",
       "    </tr>\n",
       "    <tr>\n",
       "      <th>Takeoff</th>\n",
       "      <td>204.0</td>\n",
       "      <td>18.0</td>\n",
       "      <td>742.0</td>\n",
       "    </tr>\n",
       "    <tr>\n",
       "      <th>Taxi</th>\n",
       "      <td>5.0</td>\n",
       "      <td>22.0</td>\n",
       "      <td>171.0</td>\n",
       "    </tr>\n",
       "    <tr>\n",
       "      <th>Unknown</th>\n",
       "      <td>1057.0</td>\n",
       "      <td>275.0</td>\n",
       "      <td>9926.0</td>\n",
       "    </tr>\n",
       "  </tbody>\n",
       "</table>\n",
       "</div>"
      ],
      "text/plain": [
       "Aircraft_Damage  Destroyed  Minor  Substantial\n",
       "Phase_of_Flight                               \n",
       "Approach             105.0   15.0        369.0\n",
       "Climb                 48.0    7.0         67.0\n",
       "Cruise               229.0   15.0        437.0\n",
       "Descent               37.0    4.0         90.0\n",
       "Go-around             22.0    2.0        111.0\n",
       "Landing               79.0   21.0       1756.0\n",
       "Maneuvering          188.0    3.0        185.0\n",
       "Other                  3.0    NaN          5.0\n",
       "Standing               6.0    5.0         29.0\n",
       "Takeoff              204.0   18.0        742.0\n",
       "Taxi                   5.0   22.0        171.0\n",
       "Unknown             1057.0  275.0       9926.0"
      ]
     },
     "execution_count": 10,
     "metadata": {},
     "output_type": "execute_result"
    }
   ],
   "source": [
    "#make pivot table - perhaps for csv export?\n",
    "\n",
    "POH_damage = pd.pivot_table(planesII, columns = ['Aircraft_Damage'], index = 'Phase_of_Flight', aggfunc = 'size')\n",
    "\n",
    "#convert to dataframe\n",
    "#\n",
    "POH_damage_df = POH_damage.reset_index()\n",
    "POH_damage_df = POH_damage_df.set_index('Phase_of_Flight')\n",
    "\n",
    "#drop unknown column\n",
    "POH_damage_df.drop(columns = 'Unknown', inplace = True)\n",
    "\n",
    "#check\n",
    "POH_damage_df\n",
    "\n"
   ]
  },
  {
   "cell_type": "markdown",
   "metadata": {},
   "source": [
    "## Plot Injuries by Phase of Flight"
   ]
  },
  {
   "cell_type": "code",
   "execution_count": 11,
   "metadata": {},
   "outputs": [
    {
     "data": {
      "text/html": [
       "<div>\n",
       "<style scoped>\n",
       "    .dataframe tbody tr th:only-of-type {\n",
       "        vertical-align: middle;\n",
       "    }\n",
       "\n",
       "    .dataframe tbody tr th {\n",
       "        vertical-align: top;\n",
       "    }\n",
       "\n",
       "    .dataframe thead th {\n",
       "        text-align: right;\n",
       "    }\n",
       "</style>\n",
       "<table border=\"1\" class=\"dataframe\">\n",
       "  <thead>\n",
       "    <tr style=\"text-align: right;\">\n",
       "      <th></th>\n",
       "      <th>Event_Id</th>\n",
       "      <th>Accident_Number</th>\n",
       "      <th>Event_Date</th>\n",
       "      <th>Location</th>\n",
       "      <th>Country</th>\n",
       "      <th>Injury_Severity</th>\n",
       "      <th>Aircraft_Damage</th>\n",
       "      <th>Aircraft_Category</th>\n",
       "      <th>Make</th>\n",
       "      <th>Model</th>\n",
       "      <th>...</th>\n",
       "      <th>Total_Minor_Injuries</th>\n",
       "      <th>Total_Uninjured</th>\n",
       "      <th>Weather_Condition</th>\n",
       "      <th>Phase_of_Flight</th>\n",
       "      <th>created_year</th>\n",
       "      <th>created_month</th>\n",
       "      <th>created_day</th>\n",
       "      <th>Total_Injuries</th>\n",
       "      <th>Total_Passengers</th>\n",
       "      <th>Make_Model</th>\n",
       "    </tr>\n",
       "  </thead>\n",
       "  <tbody>\n",
       "    <tr>\n",
       "      <th>0</th>\n",
       "      <td>20170710X52551</td>\n",
       "      <td>NYC79AA106</td>\n",
       "      <td>1979-09-17</td>\n",
       "      <td>BOSTON, MA</td>\n",
       "      <td>United States</td>\n",
       "      <td>Non-Fatal</td>\n",
       "      <td>Substantial</td>\n",
       "      <td>Airplane</td>\n",
       "      <td>Douglas</td>\n",
       "      <td>DC9</td>\n",
       "      <td>...</td>\n",
       "      <td>1.0</td>\n",
       "      <td>44.0</td>\n",
       "      <td>VMC</td>\n",
       "      <td>Climb</td>\n",
       "      <td>1979</td>\n",
       "      <td>9</td>\n",
       "      <td>17</td>\n",
       "      <td>1.0</td>\n",
       "      <td>45.0</td>\n",
       "      <td>Douglas DC9</td>\n",
       "    </tr>\n",
       "    <tr>\n",
       "      <th>1</th>\n",
       "      <td>20020909X01562</td>\n",
       "      <td>SEA82DA022</td>\n",
       "      <td>1982-01-01</td>\n",
       "      <td>PULLMAN, WA</td>\n",
       "      <td>United States</td>\n",
       "      <td>Non-Fatal</td>\n",
       "      <td>Substantial</td>\n",
       "      <td>Airplane</td>\n",
       "      <td>Cessna</td>\n",
       "      <td>140</td>\n",
       "      <td>...</td>\n",
       "      <td>0.0</td>\n",
       "      <td>2.0</td>\n",
       "      <td>VMC</td>\n",
       "      <td>Takeoff</td>\n",
       "      <td>1982</td>\n",
       "      <td>1</td>\n",
       "      <td>1</td>\n",
       "      <td>0.0</td>\n",
       "      <td>2.0</td>\n",
       "      <td>Cessna 140</td>\n",
       "    </tr>\n",
       "    <tr>\n",
       "      <th>2</th>\n",
       "      <td>20020909X01561</td>\n",
       "      <td>NYC82DA015</td>\n",
       "      <td>1982-01-01</td>\n",
       "      <td>EAST HANOVER, NJ</td>\n",
       "      <td>United States</td>\n",
       "      <td>Non-Fatal</td>\n",
       "      <td>Substantial</td>\n",
       "      <td>Airplane</td>\n",
       "      <td>Cessna</td>\n",
       "      <td>401B</td>\n",
       "      <td>...</td>\n",
       "      <td>0.0</td>\n",
       "      <td>2.0</td>\n",
       "      <td>IMC</td>\n",
       "      <td>Landing</td>\n",
       "      <td>1982</td>\n",
       "      <td>1</td>\n",
       "      <td>1</td>\n",
       "      <td>0.0</td>\n",
       "      <td>2.0</td>\n",
       "      <td>Cessna 401B</td>\n",
       "    </tr>\n",
       "    <tr>\n",
       "      <th>3</th>\n",
       "      <td>20020917X02148</td>\n",
       "      <td>FTW82FRJ07</td>\n",
       "      <td>1982-01-02</td>\n",
       "      <td>HOMER, LA</td>\n",
       "      <td>United States</td>\n",
       "      <td>Non-Fatal</td>\n",
       "      <td>Destroyed</td>\n",
       "      <td>Airplane</td>\n",
       "      <td>Bellanca</td>\n",
       "      <td>17-30A</td>\n",
       "      <td>...</td>\n",
       "      <td>1.0</td>\n",
       "      <td>0.0</td>\n",
       "      <td>IMC</td>\n",
       "      <td>Cruise</td>\n",
       "      <td>1982</td>\n",
       "      <td>1</td>\n",
       "      <td>2</td>\n",
       "      <td>1.0</td>\n",
       "      <td>1.0</td>\n",
       "      <td>Bellanca 17-30A</td>\n",
       "    </tr>\n",
       "    <tr>\n",
       "      <th>4</th>\n",
       "      <td>20020917X02134</td>\n",
       "      <td>FTW82FRA14</td>\n",
       "      <td>1982-01-02</td>\n",
       "      <td>HEARNE, TX</td>\n",
       "      <td>United States</td>\n",
       "      <td>Fatal</td>\n",
       "      <td>Destroyed</td>\n",
       "      <td>Airplane</td>\n",
       "      <td>Cessna</td>\n",
       "      <td>R172K</td>\n",
       "      <td>...</td>\n",
       "      <td>0.0</td>\n",
       "      <td>0.0</td>\n",
       "      <td>IMC</td>\n",
       "      <td>Takeoff</td>\n",
       "      <td>1982</td>\n",
       "      <td>1</td>\n",
       "      <td>2</td>\n",
       "      <td>1.0</td>\n",
       "      <td>1.0</td>\n",
       "      <td>Cessna R172K</td>\n",
       "    </tr>\n",
       "  </tbody>\n",
       "</table>\n",
       "<p>5 rows × 25 columns</p>\n",
       "</div>"
      ],
      "text/plain": [
       "         Event_Id Accident_Number  Event_Date          Location  \\\n",
       "0  20170710X52551      NYC79AA106  1979-09-17        BOSTON, MA   \n",
       "1  20020909X01562      SEA82DA022  1982-01-01       PULLMAN, WA   \n",
       "2  20020909X01561      NYC82DA015  1982-01-01  EAST HANOVER, NJ   \n",
       "3  20020917X02148      FTW82FRJ07  1982-01-02         HOMER, LA   \n",
       "4  20020917X02134      FTW82FRA14  1982-01-02        HEARNE, TX   \n",
       "\n",
       "         Country Injury_Severity Aircraft_Damage Aircraft_Category      Make  \\\n",
       "0  United States       Non-Fatal     Substantial          Airplane   Douglas   \n",
       "1  United States       Non-Fatal     Substantial          Airplane    Cessna   \n",
       "2  United States       Non-Fatal     Substantial          Airplane    Cessna   \n",
       "3  United States       Non-Fatal       Destroyed          Airplane  Bellanca   \n",
       "4  United States           Fatal       Destroyed          Airplane    Cessna   \n",
       "\n",
       "    Model  ... Total_Minor_Injuries Total_Uninjured Weather_Condition  \\\n",
       "0     DC9  ...                  1.0            44.0               VMC   \n",
       "1     140  ...                  0.0             2.0               VMC   \n",
       "2    401B  ...                  0.0             2.0               IMC   \n",
       "3  17-30A  ...                  1.0             0.0               IMC   \n",
       "4   R172K  ...                  0.0             0.0               IMC   \n",
       "\n",
       "   Phase_of_Flight  created_year  created_month  created_day Total_Injuries  \\\n",
       "0            Climb          1979              9           17            1.0   \n",
       "1          Takeoff          1982              1            1            0.0   \n",
       "2          Landing          1982              1            1            0.0   \n",
       "3           Cruise          1982              1            2            1.0   \n",
       "4          Takeoff          1982              1            2            1.0   \n",
       "\n",
       "  Total_Passengers       Make_Model  \n",
       "0             45.0      Douglas DC9  \n",
       "1              2.0       Cessna 140  \n",
       "2              2.0      Cessna 401B  \n",
       "3              1.0  Bellanca 17-30A  \n",
       "4              1.0     Cessna R172K  \n",
       "\n",
       "[5 rows x 25 columns]"
      ]
     },
     "execution_count": 11,
     "metadata": {},
     "output_type": "execute_result"
    }
   ],
   "source": [
    "#make total injuries column\n",
    "planes['Total_Injuries'] = (planes['Total_Fatal_Injuries'] + \n",
    "                                  planes['Total_Minor_Injuries'] +\n",
    "                                 planes['Total_Serious_Injuries'])\n",
    "\n",
    "#check\n",
    "planes.head()"
   ]
  },
  {
   "cell_type": "code",
   "execution_count": 12,
   "metadata": {
    "scrolled": false
   },
   "outputs": [
    {
     "data": {
      "text/plain": [
       "0.0      10472\n",
       "1.0       3115\n",
       "2.0       1895\n",
       "3.0        544\n",
       "4.0        378\n",
       "5.0        117\n",
       "6.0         58\n",
       "7.0         36\n",
       "8.0         17\n",
       "10.0        16\n",
       "9.0         14\n",
       "12.0         7\n",
       "11.0         3\n",
       "28.0         2\n",
       "13.0         2\n",
       "26.0         2\n",
       "33.0         2\n",
       "113.0        2\n",
       "75.0         2\n",
       "14.0         1\n",
       "66.0         1\n",
       "134.0        1\n",
       "88.0         1\n",
       "104.0        1\n",
       "30.0         1\n",
       "254.0        1\n",
       "380.0        1\n",
       "96.0         1\n",
       "164.0        1\n",
       "17.0         1\n",
       "65.0         1\n",
       "35.0         1\n",
       "200.0        1\n",
       "44.0         1\n",
       "190.0        1\n",
       "22.0         1\n",
       "171.0        1\n",
       "27.0         1\n",
       "131.0        1\n",
       "42.0         1\n",
       "21.0         1\n",
       "157.0        1\n",
       "85.0         1\n",
       "Name: Total_Injuries, dtype: int64"
      ]
     },
     "execution_count": 12,
     "metadata": {},
     "output_type": "execute_result"
    }
   ],
   "source": [
    "#Should we group this in any way?\n",
    "#planesII['Total_Injuries'] = planes['Total_Injuries'].value_counts().loc[lambda x: x > 5]\n",
    "\n",
    "\n",
    "planesII['Total_Injuries'].value_counts()"
   ]
  },
  {
   "cell_type": "code",
   "execution_count": 13,
   "metadata": {
    "scrolled": false
   },
   "outputs": [
    {
     "data": {
      "image/png": "[encoded data removed]",
      "text/plain": [
       "<Figure size 864x432 with 1 Axes>"
      ]
     },
     "metadata": {
      "needs_background": "light"
     },
     "output_type": "display_data"
    }
   ],
   "source": [
    "#plot injuries by phase of flight\n",
    "noUNK = planes[planes['Phase_of_Flight'] != 'Unknown'] #remove unknowns from data\n",
    "\n",
    "pohti = noUNK.groupby(['Phase_of_Flight', 'Total_Injuries']).size().unstack(fill_value = 0)\n",
    "\n",
    "fig, ax = plt.subplots(figsize= (12, 6))\n",
    "\n",
    "pohti.plot(kind = 'bar', stacked = True, ax = ax, legend = None);\n",
    "\n",
    "plt.xlabel(\"Phase of Flight\")\n",
    "plt.ylabel(\"Total Injuries\")\n",
    "#plt.xticks(rotation = 45)\n",
    "plt.title(\"Total Injuries vs. Phase of Flight\");\n",
    "\n",
    "#make 4 subplots?"
   ]
  },
  {
   "cell_type": "markdown",
   "metadata": {},
   "source": [
    "## Aircraft Make by Injuries"
   ]
  },
  {
   "cell_type": "code",
   "execution_count": 14,
   "metadata": {
    "scrolled": false
   },
   "outputs": [
    {
     "data": {
      "text/plain": [
       "0.0      10472\n",
       "1.0       3115\n",
       "2.0       1895\n",
       "3.0        544\n",
       "4.0        378\n",
       "5.0        117\n",
       "6.0         58\n",
       "7.0         36\n",
       "8.0         17\n",
       "10.0        16\n",
       "9.0         14\n",
       "12.0         7\n",
       "11.0         3\n",
       "28.0         2\n",
       "13.0         2\n",
       "26.0         2\n",
       "33.0         2\n",
       "113.0        2\n",
       "75.0         2\n",
       "14.0         1\n",
       "66.0         1\n",
       "134.0        1\n",
       "88.0         1\n",
       "104.0        1\n",
       "30.0         1\n",
       "254.0        1\n",
       "380.0        1\n",
       "96.0         1\n",
       "164.0        1\n",
       "17.0         1\n",
       "65.0         1\n",
       "35.0         1\n",
       "200.0        1\n",
       "44.0         1\n",
       "190.0        1\n",
       "22.0         1\n",
       "171.0        1\n",
       "27.0         1\n",
       "131.0        1\n",
       "42.0         1\n",
       "21.0         1\n",
       "157.0        1\n",
       "85.0         1\n",
       "Name: Total_Injuries, dtype: int64"
      ]
     },
     "execution_count": 14,
     "metadata": {},
     "output_type": "execute_result"
    }
   ],
   "source": [
    "planesII['Total_Injuries'].value_counts()"
   ]
  },
  {
   "cell_type": "code",
   "execution_count": 15,
   "metadata": {
    "scrolled": false
   },
   "outputs": [
    {
     "data": {
      "image/png": "[encoded data removed]",
      "text/plain": [
       "<Figure size 864x432 with 1 Axes>"
      ]
     },
     "metadata": {
      "needs_background": "light"
     },
     "output_type": "display_data"
    }
   ],
   "source": [
    "#most dangerous pivot table\n",
    "Inj_Make_Pivot = pd.pivot_table(planesII, values = ['Total_Injuries'], index = 'Make')\n",
    "sorted_IM_Pivot = Inj_Make_Pivot.apply(lambda x: x.sort_values(ascending = False).head(10))\n",
    "\n",
    "#create dataframe from pivot table\n",
    "DangerMake = {\n",
    "    'Make': ['Airbus', 'Mcdonnell douglas', 'Lockheed', 'Douglas', \n",
    "             'Boeing', 'Embraer', 'Aerospatiale', 'Fairchild', 'De havilland', 'Eurocopter'],\n",
    "    'Total_Injuries': [6.277978, 5.475379, 5.187500, 4.893939, 4.540573, 2.721212, \n",
    "                       1.843666, 1.632653, 1.577608, 1.564767]\n",
    "}\n",
    "plt.figure(figsize=(12,6))\n",
    "sns.barplot(x = 'Make', y = 'Total_Injuries', data = DangerMake, palette = 'mako')\n",
    "plt.xlabel('Aircraft Make')\n",
    "plt.ylabel('Total Injuries')\n",
    "plt.title('Top 10 Most Dangerous Aircrafts: Total Injuries by Make');\n",
    "\n",
    "#add values if easy\n",
    "\n",
    "#combine the mcdonnell and douglas"
   ]
  },
  {
   "cell_type": "markdown",
   "metadata": {},
   "source": [
    "Observations: Across the data, Airbus had the highest average injuries of 6.277\n",
    "\tthe highest averages seem to be popular aircraft companies/larger airplanes. That may accounts for the skew for higher total average \n",
    "    \teurocopter = airbus but still in data? need clarification on what model is (cause for further investigation)\n"
   ]
  },
  {
   "cell_type": "code",
   "execution_count": 16,
   "metadata": {
    "scrolled": false
   },
   "outputs": [
    {
     "data": {
      "image/png": "[encoded data removed]",
      "text/plain": [
       "<Figure size 864x432 with 1 Axes>"
      ]
     },
     "metadata": {
      "needs_background": "light"
     },
     "output_type": "display_data"
    }
   ],
   "source": [
    "#least dangerous pivot table\n",
    "least_injured = pd.pivot_table(planesII, values = ['Total_Injuries'], index = 'Make')\n",
    "sorted_least_injured = least_injured.apply(lambda x: x.sort_values(ascending = True).head(10))\n",
    "sorted_least_injured\n",
    "\n",
    "#create dataframe from pivot table\n",
    "\n",
    "least_inj_df = sorted_least_injured.reset_index()\n",
    "least_inj_df = least_inj_df.set_index('Make')\n",
    "\n",
    "\n",
    "\n",
    "fix, ax = plt.subplots(figsize=(12,6))\n",
    "sns.set_palette = 'mako'\n",
    "\n",
    "least_inj_df.plot(kind = 'bar', stacked = False, ax = ax)\n",
    "\n",
    "plt.xlabel('Aircraft Make')\n",
    "plt.ylabel('Total Injuries')\n",
    "plt.title('Top 10 Safest Aircrafts: Total Injuries by Make');\n",
    "#plt.xticks(rotation=45);"
   ]
  },
  {
   "cell_type": "markdown",
   "metadata": {},
   "source": [
    "Observations: \n",
    "    Grummen-schwelzer with the least amount of injuries\n",
    "    difference between top 10 and bottom 10 is > 5 average injuries\n",
    "    Air tractor = farming plane not passenger plane\n",
    "    these aircraft companies could make smaller passenger planes overall which account for their low average injuries\n",
    "    Some helicopter companies in the mix"
   ]
  },
  {
   "cell_type": "markdown",
   "metadata": {},
   "source": [
    "## Aircraft Damage by Aircraft Make"
   ]
  },
  {
   "cell_type": "code",
   "execution_count": 17,
   "metadata": {},
   "outputs": [
    {
     "data": {
      "text/html": [
       "<div>\n",
       "<style scoped>\n",
       "    .dataframe tbody tr th:only-of-type {\n",
       "        vertical-align: middle;\n",
       "    }\n",
       "\n",
       "    .dataframe tbody tr th {\n",
       "        vertical-align: top;\n",
       "    }\n",
       "\n",
       "    .dataframe thead th {\n",
       "        text-align: right;\n",
       "    }\n",
       "</style>\n",
       "<table border=\"1\" class=\"dataframe\">\n",
       "  <thead>\n",
       "    <tr style=\"text-align: right;\">\n",
       "      <th></th>\n",
       "      <th>Event_Id</th>\n",
       "      <th>Accident_Number</th>\n",
       "      <th>Event_Date</th>\n",
       "      <th>Location</th>\n",
       "      <th>Country</th>\n",
       "      <th>Injury_Severity</th>\n",
       "      <th>Aircraft_Damage</th>\n",
       "      <th>Aircraft_Category</th>\n",
       "      <th>Make</th>\n",
       "      <th>Model</th>\n",
       "      <th>...</th>\n",
       "      <th>Total_Minor_Injuries</th>\n",
       "      <th>Total_Uninjured</th>\n",
       "      <th>Weather_Condition</th>\n",
       "      <th>Phase_of_Flight</th>\n",
       "      <th>created_year</th>\n",
       "      <th>created_month</th>\n",
       "      <th>created_day</th>\n",
       "      <th>Total_Injuries</th>\n",
       "      <th>Total_Passengers</th>\n",
       "      <th>Make_Model</th>\n",
       "    </tr>\n",
       "  </thead>\n",
       "  <tbody>\n",
       "    <tr>\n",
       "      <th>0</th>\n",
       "      <td>20170710X52551</td>\n",
       "      <td>NYC79AA106</td>\n",
       "      <td>1979-09-17</td>\n",
       "      <td>BOSTON, MA</td>\n",
       "      <td>United States</td>\n",
       "      <td>Non-Fatal</td>\n",
       "      <td>Substantial</td>\n",
       "      <td>Airplane</td>\n",
       "      <td>Douglas</td>\n",
       "      <td>DC9</td>\n",
       "      <td>...</td>\n",
       "      <td>1.0</td>\n",
       "      <td>44.0</td>\n",
       "      <td>VMC</td>\n",
       "      <td>Climb</td>\n",
       "      <td>1979</td>\n",
       "      <td>9</td>\n",
       "      <td>17</td>\n",
       "      <td>1.0</td>\n",
       "      <td>45.0</td>\n",
       "      <td>Douglas DC9</td>\n",
       "    </tr>\n",
       "    <tr>\n",
       "      <th>1</th>\n",
       "      <td>20020909X01562</td>\n",
       "      <td>SEA82DA022</td>\n",
       "      <td>1982-01-01</td>\n",
       "      <td>PULLMAN, WA</td>\n",
       "      <td>United States</td>\n",
       "      <td>Non-Fatal</td>\n",
       "      <td>Substantial</td>\n",
       "      <td>Airplane</td>\n",
       "      <td>Cessna</td>\n",
       "      <td>140</td>\n",
       "      <td>...</td>\n",
       "      <td>0.0</td>\n",
       "      <td>2.0</td>\n",
       "      <td>VMC</td>\n",
       "      <td>Takeoff</td>\n",
       "      <td>1982</td>\n",
       "      <td>1</td>\n",
       "      <td>1</td>\n",
       "      <td>0.0</td>\n",
       "      <td>2.0</td>\n",
       "      <td>Cessna 140</td>\n",
       "    </tr>\n",
       "    <tr>\n",
       "      <th>2</th>\n",
       "      <td>20020909X01561</td>\n",
       "      <td>NYC82DA015</td>\n",
       "      <td>1982-01-01</td>\n",
       "      <td>EAST HANOVER, NJ</td>\n",
       "      <td>United States</td>\n",
       "      <td>Non-Fatal</td>\n",
       "      <td>Substantial</td>\n",
       "      <td>Airplane</td>\n",
       "      <td>Cessna</td>\n",
       "      <td>401B</td>\n",
       "      <td>...</td>\n",
       "      <td>0.0</td>\n",
       "      <td>2.0</td>\n",
       "      <td>IMC</td>\n",
       "      <td>Landing</td>\n",
       "      <td>1982</td>\n",
       "      <td>1</td>\n",
       "      <td>1</td>\n",
       "      <td>0.0</td>\n",
       "      <td>2.0</td>\n",
       "      <td>Cessna 401B</td>\n",
       "    </tr>\n",
       "    <tr>\n",
       "      <th>3</th>\n",
       "      <td>20020917X02148</td>\n",
       "      <td>FTW82FRJ07</td>\n",
       "      <td>1982-01-02</td>\n",
       "      <td>HOMER, LA</td>\n",
       "      <td>United States</td>\n",
       "      <td>Non-Fatal</td>\n",
       "      <td>Destroyed</td>\n",
       "      <td>Airplane</td>\n",
       "      <td>Bellanca</td>\n",
       "      <td>17-30A</td>\n",
       "      <td>...</td>\n",
       "      <td>1.0</td>\n",
       "      <td>0.0</td>\n",
       "      <td>IMC</td>\n",
       "      <td>Cruise</td>\n",
       "      <td>1982</td>\n",
       "      <td>1</td>\n",
       "      <td>2</td>\n",
       "      <td>1.0</td>\n",
       "      <td>1.0</td>\n",
       "      <td>Bellanca 17-30A</td>\n",
       "    </tr>\n",
       "    <tr>\n",
       "      <th>4</th>\n",
       "      <td>20020917X02134</td>\n",
       "      <td>FTW82FRA14</td>\n",
       "      <td>1982-01-02</td>\n",
       "      <td>HEARNE, TX</td>\n",
       "      <td>United States</td>\n",
       "      <td>Fatal</td>\n",
       "      <td>Destroyed</td>\n",
       "      <td>Airplane</td>\n",
       "      <td>Cessna</td>\n",
       "      <td>R172K</td>\n",
       "      <td>...</td>\n",
       "      <td>0.0</td>\n",
       "      <td>0.0</td>\n",
       "      <td>IMC</td>\n",
       "      <td>Takeoff</td>\n",
       "      <td>1982</td>\n",
       "      <td>1</td>\n",
       "      <td>2</td>\n",
       "      <td>1.0</td>\n",
       "      <td>1.0</td>\n",
       "      <td>Cessna R172K</td>\n",
       "    </tr>\n",
       "  </tbody>\n",
       "</table>\n",
       "<p>5 rows × 25 columns</p>\n",
       "</div>"
      ],
      "text/plain": [
       "         Event_Id Accident_Number  Event_Date          Location  \\\n",
       "0  20170710X52551      NYC79AA106  1979-09-17        BOSTON, MA   \n",
       "1  20020909X01562      SEA82DA022  1982-01-01       PULLMAN, WA   \n",
       "2  20020909X01561      NYC82DA015  1982-01-01  EAST HANOVER, NJ   \n",
       "3  20020917X02148      FTW82FRJ07  1982-01-02         HOMER, LA   \n",
       "4  20020917X02134      FTW82FRA14  1982-01-02        HEARNE, TX   \n",
       "\n",
       "         Country Injury_Severity Aircraft_Damage Aircraft_Category      Make  \\\n",
       "0  United States       Non-Fatal     Substantial          Airplane   Douglas   \n",
       "1  United States       Non-Fatal     Substantial          Airplane    Cessna   \n",
       "2  United States       Non-Fatal     Substantial          Airplane    Cessna   \n",
       "3  United States       Non-Fatal       Destroyed          Airplane  Bellanca   \n",
       "4  United States           Fatal       Destroyed          Airplane    Cessna   \n",
       "\n",
       "    Model  ... Total_Minor_Injuries Total_Uninjured Weather_Condition  \\\n",
       "0     DC9  ...                  1.0            44.0               VMC   \n",
       "1     140  ...                  0.0             2.0               VMC   \n",
       "2    401B  ...                  0.0             2.0               IMC   \n",
       "3  17-30A  ...                  1.0             0.0               IMC   \n",
       "4   R172K  ...                  0.0             0.0               IMC   \n",
       "\n",
       "   Phase_of_Flight  created_year  created_month  created_day Total_Injuries  \\\n",
       "0            Climb          1979              9           17            1.0   \n",
       "1          Takeoff          1982              1            1            0.0   \n",
       "2          Landing          1982              1            1            0.0   \n",
       "3           Cruise          1982              1            2            1.0   \n",
       "4          Takeoff          1982              1            2            1.0   \n",
       "\n",
       "  Total_Passengers       Make_Model  \n",
       "0             45.0      Douglas DC9  \n",
       "1              2.0       Cessna 140  \n",
       "2              2.0      Cessna 401B  \n",
       "3              1.0  Bellanca 17-30A  \n",
       "4              1.0     Cessna R172K  \n",
       "\n",
       "[5 rows x 25 columns]"
      ]
     },
     "execution_count": 17,
     "metadata": {},
     "output_type": "execute_result"
    }
   ],
   "source": [
    "planesII.head()"
   ]
  },
  {
   "cell_type": "code",
   "execution_count": 18,
   "metadata": {},
   "outputs": [
    {
     "data": {
      "text/html": [
       "<div>\n",
       "<style scoped>\n",
       "    .dataframe tbody tr th:only-of-type {\n",
       "        vertical-align: middle;\n",
       "    }\n",
       "\n",
       "    .dataframe tbody tr th {\n",
       "        vertical-align: top;\n",
       "    }\n",
       "\n",
       "    .dataframe thead th {\n",
       "        text-align: right;\n",
       "    }\n",
       "</style>\n",
       "<table border=\"1\" class=\"dataframe\">\n",
       "  <thead>\n",
       "    <tr style=\"text-align: right;\">\n",
       "      <th>Aircraft_Damage</th>\n",
       "      <th>Destroyed</th>\n",
       "      <th>Minor</th>\n",
       "      <th>Substantial</th>\n",
       "    </tr>\n",
       "    <tr>\n",
       "      <th>Make</th>\n",
       "      <th></th>\n",
       "      <th></th>\n",
       "      <th></th>\n",
       "    </tr>\n",
       "  </thead>\n",
       "  <tbody>\n",
       "    <tr>\n",
       "      <th>Aero commander</th>\n",
       "      <td>17.0</td>\n",
       "      <td>0.0</td>\n",
       "      <td>76.0</td>\n",
       "    </tr>\n",
       "    <tr>\n",
       "      <th>Aeronca</th>\n",
       "      <td>14.0</td>\n",
       "      <td>4.0</td>\n",
       "      <td>187.0</td>\n",
       "    </tr>\n",
       "    <tr>\n",
       "      <th>Air tractor</th>\n",
       "      <td>46.0</td>\n",
       "      <td>4.0</td>\n",
       "      <td>326.0</td>\n",
       "    </tr>\n",
       "    <tr>\n",
       "      <th>Airbus</th>\n",
       "      <td>6.0</td>\n",
       "      <td>27.0</td>\n",
       "      <td>14.0</td>\n",
       "    </tr>\n",
       "    <tr>\n",
       "      <th>Beech</th>\n",
       "      <td>255.0</td>\n",
       "      <td>36.0</td>\n",
       "      <td>1138.0</td>\n",
       "    </tr>\n",
       "  </tbody>\n",
       "</table>\n",
       "</div>"
      ],
      "text/plain": [
       "Aircraft_Damage  Destroyed  Minor  Substantial\n",
       "Make                                          \n",
       "Aero commander        17.0    0.0         76.0\n",
       "Aeronca               14.0    4.0        187.0\n",
       "Air tractor           46.0    4.0        326.0\n",
       "Airbus                 6.0   27.0         14.0\n",
       "Beech                255.0   36.0       1138.0"
      ]
     },
     "execution_count": 18,
     "metadata": {},
     "output_type": "execute_result"
    }
   ],
   "source": [
    "#most dangerous pivot table\n",
    "most_damage = pd.pivot_table(planesII, columns = ['Aircraft_Damage'], index = 'Make', aggfunc = 'size')\n",
    "\n",
    "#convert to dataframe\n",
    "most_damage_df = most_damage.reset_index()\n",
    "most_damage_df = most_damage_df.set_index('Make')\n",
    "most_damage_df[[\"Destroyed\",\"Minor\",\"Substantial\"]] = most_damage_df[[\"Destroyed\",\"Minor\",\"Substantial\"]].fillna(0)\n",
    "\n",
    "#drop unknown column\n",
    "most_damage_df.drop(columns = 'Unknown', inplace = True)\n",
    "\n",
    "\n",
    "#create top 10 and bottom 10\n",
    "\n",
    "\n",
    "#normalize columns\n",
    "\n",
    "\n",
    "#create normalized total column\n",
    "\n",
    "\n",
    "#check\n",
    "most_damage_df.head()"
   ]
  },
  {
   "cell_type": "code",
   "execution_count": 19,
   "metadata": {
    "scrolled": false
   },
   "outputs": [
    {
     "data": {
      "text/plain": [
       "Text(0.5, 1.0, 'Aircraft Damage by Make')"
      ]
     },
     "execution_count": 19,
     "metadata": {},
     "output_type": "execute_result"
    },
    {
     "data": {
      "text/plain": [
       "<Figure size 864x576 with 0 Axes>"
      ]
     },
     "metadata": {},
     "output_type": "display_data"
    },
    {
     "data": {
      "image/png": "[encoded data removed]",
      "text/plain": [
       "<Figure size 1440x576 with 1 Axes>"
      ]
     },
     "metadata": {
      "needs_background": "light"
     },
     "output_type": "display_data"
    }
   ],
   "source": [
    "# plot \n",
    "\n",
    "plt.figure(figsize=(12,8))\n",
    "\n",
    "ax = most_damage_df.plot(kind = 'bar', stacked = True, figsize = (20,8))\n",
    "plt.xlabel('Aircraft Make')\n",
    "plt.ylabel('Damage')\n",
    "plt.title('Aircraft Damage by Make')\n",
    "#sns.set_palette('mako');\n",
    "\n",
    "#plt.xticks(rotation=45);"
   ]
  },
  {
   "cell_type": "markdown",
   "metadata": {},
   "source": [
    "Observations:\n",
    "    Cessna and Piper have the highest number of damage reports"
   ]
  },
  {
   "cell_type": "markdown",
   "metadata": {},
   "source": [
    "# Safety Scoring"
   ]
  },
  {
   "cell_type": "code",
   "execution_count": 20,
   "metadata": {},
   "outputs": [],
   "source": [
    "#Copy Planes for the purposes of trying things\n",
    "planesII = planes.copy()"
   ]
  },
  {
   "cell_type": "code",
   "execution_count": 21,
   "metadata": {},
   "outputs": [
    {
     "data": {
      "text/plain": [
       "172          744\n",
       "152          416\n",
       "172N         301\n",
       "182          286\n",
       "172S         258\n",
       "            ... \n",
       "C-50           1\n",
       "777-222B       1\n",
       "PA-30 B        1\n",
       "VANS RV 9      1\n",
       "65-TF          1\n",
       "Name: Model, Length: 1828, dtype: int64"
      ]
     },
     "execution_count": 21,
     "metadata": {},
     "output_type": "execute_result"
    }
   ],
   "source": [
    "planesII.head()\n",
    "planesII['Injury_Severity'].value_counts()\n",
    "planesII['Model'].value_counts()"
   ]
  },
  {
   "cell_type": "code",
   "execution_count": 25,
   "metadata": {
    "scrolled": true
   },
   "outputs": [
    {
     "data": {
      "text/plain": [
       "Cessna                7478\n",
       "Piper                 4170\n",
       "Beech                 1446\n",
       "Boeing                 540\n",
       "Air tractor            377\n",
       "Mooney                 369\n",
       "Bellanca               268\n",
       "Grumman                233\n",
       "Maule                  217\n",
       "Aeronca                205\n",
       "Cirrus design corp     182\n",
       "Champion               158\n",
       "Luscombe               154\n",
       "Stinson                138\n",
       "Airbus                 119\n",
       "North american         104\n",
       "Taylorcraft            104\n",
       "Cirrus                 102\n",
       "Aero commander          94\n",
       "Embraer                 94\n",
       "Vans                    85\n",
       "Douglas                 71\n",
       "Name: Make, dtype: int64"
      ]
     },
     "execution_count": 25,
     "metadata": {},
     "output_type": "execute_result"
    }
   ],
   "source": [
    "#points dictionary\n",
    "#weather = {'IMC': 2, 'VCM': 1}\n",
    "#engine = {most risky engine to least risky engine}\n",
    "#severity = {'Fatal': 5, 'Serious': 4, 'Incident': 3, 'Minor': 2, 'Non-Fatal': 1}\n",
    "#damage = {'Destroyed': 3, 'Substantial': 2, 'Minor': 1}\n",
    "\n",
    "\n",
    "makes = planesII['Make'].value_counts()\n",
    "makes"
   ]
  },
  {
   "cell_type": "code",
   "execution_count": null,
   "metadata": {},
   "outputs": [],
   "source": [
    "makes =planesII['Make'].value_counts()\n",
    "\n",
    "makes = df[df['Make'].isin(top_models.index)][['Make', 'Total_Injuries', 'Total_Passengers']]\n",
    "model_df\n",
    "\n",
    "model_df = make_df = df.groupby(['Make_Model'])[ 'Total_Injuries', 'Total_Passengers'].sum().nlargest(20, \n",
    "    columns=['Total_Injuries', 'Total_Passengers'])\n",
    "model_df\n",
    "\n",
    "model_df['Survival_Rate'] = 1 - (model_df['Total_Injuries']/ model_df['Total_Passengers'])\n",
    "model_df = model_df.drop(columns= ['Total_Injuries', 'Total_Passengers'])\n",
    "model_df\n",
    "\n",
    "#injury rate \n",
    "#injury:Survival ratio"
   ]
  },
  {
   "cell_type": "code",
   "execution_count": null,
   "metadata": {},
   "outputs": [],
   "source": [
    "#apply point system to injury severity and damage columns, create safety score\n",
    "planesII['Damage_Score'] = planesII['Aircraft_Damage'].map(damage)\n",
    "planesII['Injury_Score'] = planesII['Injury_Severity'].map(severity)\n",
    "planesII['Weather_Score'] = planesII['Weather --'].map(weather)\n",
    "planesII['Engine_Score'] = planesII['Engine--'].map(engine)\n",
    "\n",
    "planesII['Safety_Score'] = planesII['Injury_Score'] + planesII['Damage_Score']\n",
    "\n",
    "#should we normalize other damage and injury scores?\n",
    "\n",
    "#check\n",
    "planesII.head()"
   ]
  },
  {
   "cell_type": "code",
   "execution_count": 117,
   "metadata": {},
   "outputs": [],
   "source": [
    "#Delete all unavailable rows?\n",
    "planesII = planesII[planesII[\"Injury_Severity\"] != 'Unavailable']"
   ]
  },
  {
   "cell_type": "code",
   "execution_count": null,
   "metadata": {},
   "outputs": [],
   "source": []
  }
 ],
 "metadata": {
  "kernelspec": {
   "display_name": "Python (learn-env)",
   "language": "python",
   "name": "learn-env"
  },
  "language_info": {
   "codemirror_mode": {
    "name": "ipython",
    "version": 3
   },
   "file_extension": ".py",
   "mimetype": "text/x-python",
   "name": "python",
   "nbconvert_exporter": "python",
   "pygments_lexer": "ipython3",
   "version": "3.8.5"
  }
 },
 "nbformat": 4,
 "nbformat_minor": 4
}
