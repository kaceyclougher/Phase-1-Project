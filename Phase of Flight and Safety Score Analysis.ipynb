{
 "cells": [
  {
   "cell_type": "markdown",
   "metadata": {},
   "source": [
    "# At what phase of the flight is the most damage occuring?\n",
    "\n",
    "Compare damage happening within each phase of flight\n",
    "\n",
    "\t#Aircraft_damage\n",
    "    #Phase_of_Flight\n",
    "\n",
    "# At what phase of the flight are the most injuries occuring?\n",
    "\n",
    "Compare each set of injuries with Phase of Flight\n",
    "\n",
    "\t#Total_Fatal_Injuries\n",
    "\t#Total_Serious_Injuries\n",
    "\t#Total_Minor_Injuries\n",
    "\t#Total_Uninjured\n",
    "\n",
    "\t#Injury_severity\n",
    "    \n",
    "    Injury severity??\n",
    "    \n",
    "\n",
    "\n"
   ]
  },
  {
   "cell_type": "markdown",
   "metadata": {},
   "source": [
    "## Import Packages and Data"
   ]
  },
  {
   "cell_type": "code",
   "execution_count": 3,
   "metadata": {},
   "outputs": [],
   "source": [
    "#Import Packages\n",
    "\n",
    "import pandas as pd\n",
    "import matplotlib.pyplot as plt \n",
    "import seaborn as sns"
   ]
  },
  {
   "cell_type": "code",
   "execution_count": 4,
   "metadata": {},
   "outputs": [],
   "source": [
    "#Import Data\n",
    "\n",
    "planes = pd.read_csv('data/Clean_Aviation.csv')"
   ]
  },
  {
   "cell_type": "markdown",
   "metadata": {},
   "source": [
    "## Inspect Data"
   ]
  },
  {
   "cell_type": "code",
   "execution_count": 5,
   "metadata": {},
   "outputs": [
    {
     "data": {
      "text/html": [
       "<div>\n",
       "<style scoped>\n",
       "    .dataframe tbody tr th:only-of-type {\n",
       "        vertical-align: middle;\n",
       "    }\n",
       "\n",
       "    .dataframe tbody tr th {\n",
       "        vertical-align: top;\n",
       "    }\n",
       "\n",
       "    .dataframe thead th {\n",
       "        text-align: right;\n",
       "    }\n",
       "</style>\n",
       "<table border=\"1\" class=\"dataframe\">\n",
       "  <thead>\n",
       "    <tr style=\"text-align: right;\">\n",
       "      <th></th>\n",
       "      <th>Event_Id</th>\n",
       "      <th>Accident_Number</th>\n",
       "      <th>Event_Date</th>\n",
       "      <th>Location</th>\n",
       "      <th>Country</th>\n",
       "      <th>Injury_Severity</th>\n",
       "      <th>Aircraft_Damage</th>\n",
       "      <th>Make</th>\n",
       "      <th>Model</th>\n",
       "      <th>Number_of_Engines</th>\n",
       "      <th>Engine_Type</th>\n",
       "      <th>Purpose_of_flight</th>\n",
       "      <th>Total_Fatal_Injuries</th>\n",
       "      <th>Total_Serious_Injuries</th>\n",
       "      <th>Total_Minor_Injuries</th>\n",
       "      <th>Total_Uninjured</th>\n",
       "      <th>Weather_Condition</th>\n",
       "      <th>Phase_of_Flight</th>\n",
       "      <th>Report_Status</th>\n",
       "      <th>Make_Model</th>\n",
       "    </tr>\n",
       "  </thead>\n",
       "  <tbody>\n",
       "    <tr>\n",
       "      <th>0</th>\n",
       "      <td>20001218X45444</td>\n",
       "      <td>SEA87LA080</td>\n",
       "      <td>1948-10-24</td>\n",
       "      <td>MOOSE CREEK, ID</td>\n",
       "      <td>United States</td>\n",
       "      <td>Fatal</td>\n",
       "      <td>Destroyed</td>\n",
       "      <td>Stinson</td>\n",
       "      <td>108-3</td>\n",
       "      <td>1.0</td>\n",
       "      <td>Reciprocating</td>\n",
       "      <td>Personal</td>\n",
       "      <td>2.0</td>\n",
       "      <td>0.0</td>\n",
       "      <td>0.0</td>\n",
       "      <td>0.0</td>\n",
       "      <td>UNK</td>\n",
       "      <td>Cruise</td>\n",
       "      <td>Probable Cause</td>\n",
       "      <td>Stinson 108-3</td>\n",
       "    </tr>\n",
       "    <tr>\n",
       "      <th>1</th>\n",
       "      <td>20001218X45447</td>\n",
       "      <td>LAX94LA336</td>\n",
       "      <td>1962-07-19</td>\n",
       "      <td>BRIDGEPORT, CA</td>\n",
       "      <td>United States</td>\n",
       "      <td>Fatal</td>\n",
       "      <td>Destroyed</td>\n",
       "      <td>Piper</td>\n",
       "      <td>PA24-180</td>\n",
       "      <td>1.0</td>\n",
       "      <td>Reciprocating</td>\n",
       "      <td>Personal</td>\n",
       "      <td>4.0</td>\n",
       "      <td>0.0</td>\n",
       "      <td>0.0</td>\n",
       "      <td>0.0</td>\n",
       "      <td>UNK</td>\n",
       "      <td>Unknown</td>\n",
       "      <td>Probable Cause</td>\n",
       "      <td>Piper PA24-180</td>\n",
       "    </tr>\n",
       "    <tr>\n",
       "      <th>2</th>\n",
       "      <td>20061025X01555</td>\n",
       "      <td>NYC07LA005</td>\n",
       "      <td>1974-08-30</td>\n",
       "      <td>SALTVILLE, VA</td>\n",
       "      <td>United States</td>\n",
       "      <td>Fatal</td>\n",
       "      <td>Destroyed</td>\n",
       "      <td>Cessna</td>\n",
       "      <td>172M</td>\n",
       "      <td>1.0</td>\n",
       "      <td>Reciprocating</td>\n",
       "      <td>Personal</td>\n",
       "      <td>3.0</td>\n",
       "      <td>0.0</td>\n",
       "      <td>0.0</td>\n",
       "      <td>0.0</td>\n",
       "      <td>IMC</td>\n",
       "      <td>Cruise</td>\n",
       "      <td>Probable Cause</td>\n",
       "      <td>Cessna 172M</td>\n",
       "    </tr>\n",
       "    <tr>\n",
       "      <th>3</th>\n",
       "      <td>20001218X45448</td>\n",
       "      <td>LAX96LA321</td>\n",
       "      <td>1977-06-19</td>\n",
       "      <td>EUREKA, CA</td>\n",
       "      <td>United States</td>\n",
       "      <td>Fatal</td>\n",
       "      <td>Destroyed</td>\n",
       "      <td>Rockwell</td>\n",
       "      <td>112</td>\n",
       "      <td>1.0</td>\n",
       "      <td>Reciprocating</td>\n",
       "      <td>Personal</td>\n",
       "      <td>2.0</td>\n",
       "      <td>0.0</td>\n",
       "      <td>0.0</td>\n",
       "      <td>0.0</td>\n",
       "      <td>IMC</td>\n",
       "      <td>Cruise</td>\n",
       "      <td>Probable Cause</td>\n",
       "      <td>Rockwell 112</td>\n",
       "    </tr>\n",
       "    <tr>\n",
       "      <th>4</th>\n",
       "      <td>20170710X52551</td>\n",
       "      <td>NYC79AA106</td>\n",
       "      <td>1979-09-17</td>\n",
       "      <td>BOSTON, MA</td>\n",
       "      <td>United States</td>\n",
       "      <td>Non-Fatal</td>\n",
       "      <td>Substantial</td>\n",
       "      <td>Mcdonnell douglas</td>\n",
       "      <td>DC9</td>\n",
       "      <td>2.0</td>\n",
       "      <td>Turbo Fan</td>\n",
       "      <td>Unknown</td>\n",
       "      <td>0.0</td>\n",
       "      <td>0.0</td>\n",
       "      <td>1.0</td>\n",
       "      <td>44.0</td>\n",
       "      <td>VMC</td>\n",
       "      <td>Climb</td>\n",
       "      <td>Probable Cause</td>\n",
       "      <td>Mcdonnell douglas DC9</td>\n",
       "    </tr>\n",
       "  </tbody>\n",
       "</table>\n",
       "</div>"
      ],
      "text/plain": [
       "         Event_Id Accident_Number  Event_Date         Location        Country  \\\n",
       "0  20001218X45444      SEA87LA080  1948-10-24  MOOSE CREEK, ID  United States   \n",
       "1  20001218X45447      LAX94LA336  1962-07-19   BRIDGEPORT, CA  United States   \n",
       "2  20061025X01555      NYC07LA005  1974-08-30    SALTVILLE, VA  United States   \n",
       "3  20001218X45448      LAX96LA321  1977-06-19       EUREKA, CA  United States   \n",
       "4  20170710X52551      NYC79AA106  1979-09-17       BOSTON, MA  United States   \n",
       "\n",
       "  Injury_Severity Aircraft_Damage               Make     Model  \\\n",
       "0           Fatal       Destroyed            Stinson     108-3   \n",
       "1           Fatal       Destroyed              Piper  PA24-180   \n",
       "2           Fatal       Destroyed             Cessna      172M   \n",
       "3           Fatal       Destroyed           Rockwell       112   \n",
       "4       Non-Fatal     Substantial  Mcdonnell douglas       DC9   \n",
       "\n",
       "  Number_of_Engines    Engine_Type Purpose_of_flight  Total_Fatal_Injuries  \\\n",
       "0               1.0  Reciprocating          Personal                   2.0   \n",
       "1               1.0  Reciprocating          Personal                   4.0   \n",
       "2               1.0  Reciprocating          Personal                   3.0   \n",
       "3               1.0  Reciprocating          Personal                   2.0   \n",
       "4               2.0      Turbo Fan           Unknown                   0.0   \n",
       "\n",
       "   Total_Serious_Injuries  Total_Minor_Injuries  Total_Uninjured  \\\n",
       "0                     0.0                   0.0              0.0   \n",
       "1                     0.0                   0.0              0.0   \n",
       "2                     0.0                   0.0              0.0   \n",
       "3                     0.0                   0.0              0.0   \n",
       "4                     0.0                   1.0             44.0   \n",
       "\n",
       "  Weather_Condition Phase_of_Flight   Report_Status             Make_Model  \n",
       "0               UNK          Cruise  Probable Cause          Stinson 108-3  \n",
       "1               UNK         Unknown  Probable Cause         Piper PA24-180  \n",
       "2               IMC          Cruise  Probable Cause            Cessna 172M  \n",
       "3               IMC          Cruise  Probable Cause           Rockwell 112  \n",
       "4               VMC           Climb  Probable Cause  Mcdonnell douglas DC9  "
      ]
     },
     "execution_count": 5,
     "metadata": {},
     "output_type": "execute_result"
    }
   ],
   "source": [
    "#Inspect data\n",
    "planes.head()"
   ]
  },
  {
   "cell_type": "code",
   "execution_count": 6,
   "metadata": {},
   "outputs": [
    {
     "data": {
      "text/plain": [
       "(66604, 20)"
      ]
     },
     "execution_count": 6,
     "metadata": {},
     "output_type": "execute_result"
    }
   ],
   "source": [
    "planes.shape"
   ]
  },
  {
   "cell_type": "code",
   "execution_count": 7,
   "metadata": {},
   "outputs": [
    {
     "name": "stdout",
     "output_type": "stream",
     "text": [
      "<class 'pandas.core.frame.DataFrame'>\n",
      "RangeIndex: 66604 entries, 0 to 66603\n",
      "Data columns (total 20 columns):\n",
      " #   Column                  Non-Null Count  Dtype  \n",
      "---  ------                  --------------  -----  \n",
      " 0   Event_Id                66604 non-null  object \n",
      " 1   Accident_Number         66604 non-null  object \n",
      " 2   Event_Date              66604 non-null  object \n",
      " 3   Location                66604 non-null  object \n",
      " 4   Country                 66604 non-null  object \n",
      " 5   Injury_Severity         66604 non-null  object \n",
      " 6   Aircraft_Damage         66604 non-null  object \n",
      " 7   Make                    66604 non-null  object \n",
      " 8   Model                   66604 non-null  object \n",
      " 9   Number_of_Engines       66604 non-null  object \n",
      " 10  Engine_Type             66604 non-null  object \n",
      " 11  Purpose_of_flight       66604 non-null  object \n",
      " 12  Total_Fatal_Injuries    66604 non-null  float64\n",
      " 13  Total_Serious_Injuries  66604 non-null  float64\n",
      " 14  Total_Minor_Injuries    66604 non-null  float64\n",
      " 15  Total_Uninjured         66604 non-null  float64\n",
      " 16  Weather_Condition       66604 non-null  object \n",
      " 17  Phase_of_Flight         66604 non-null  object \n",
      " 18  Report_Status           65423 non-null  object \n",
      " 19  Make_Model              66604 non-null  object \n",
      "dtypes: float64(4), object(16)\n",
      "memory usage: 10.2+ MB\n"
     ]
    }
   ],
   "source": [
    "planes.info()"
   ]
  },
  {
   "cell_type": "markdown",
   "metadata": {},
   "source": [
    "## Check out Phase_of_Flight and Aircraft Damage"
   ]
  },
  {
   "cell_type": "code",
   "execution_count": 8,
   "metadata": {},
   "outputs": [
    {
     "data": {
      "text/plain": [
       "Unknown        15069\n",
       "Landing        13549\n",
       "Takeoff        10199\n",
       "Cruise          8788\n",
       "Maneuvering     6441\n",
       "Approach        5387\n",
       "Taxi            1754\n",
       "Climb           1690\n",
       "Descent         1591\n",
       "Go-around       1232\n",
       "Standing         821\n",
       "Other             83\n",
       "Name: Phase_of_Flight, dtype: int64"
      ]
     },
     "execution_count": 8,
     "metadata": {},
     "output_type": "execute_result"
    }
   ],
   "source": [
    "planes['Phase_of_Flight'].value_counts()"
   ]
  },
  {
   "cell_type": "code",
   "execution_count": 9,
   "metadata": {},
   "outputs": [
    {
     "data": {
      "text/plain": [
       "Substantial    49506\n",
       "Destroyed      13736\n",
       "Minor           1809\n",
       "Unknown         1553\n",
       "Name: Aircraft_Damage, dtype: int64"
      ]
     },
     "execution_count": 9,
     "metadata": {},
     "output_type": "execute_result"
    }
   ],
   "source": [
    "planes['Aircraft_Damage'].value_counts()"
   ]
  },
  {
   "cell_type": "markdown",
   "metadata": {},
   "source": [
    "## Plot Aircraft Damage by Phase of Flight"
   ]
  },
  {
   "cell_type": "code",
   "execution_count": 16,
   "metadata": {},
   "outputs": [],
   "source": [
    "planesII = planes.copy()"
   ]
  },
  {
   "cell_type": "code",
   "execution_count": 141,
   "metadata": {
    "scrolled": false
   },
   "outputs": [
    {
     "data": {
      "image/png": "[encoded data removed]",
      "text/plain": [
       "<Figure size 1440x576 with 1 Axes>"
      ]
     },
     "metadata": {
      "needs_background": "light"
     },
     "output_type": "display_data"
    }
   ],
   "source": [
    "#Should we drop unknown?\n",
    "\n",
    "noUNK = planes[planes['Phase_of_Flight'] != 'Unknown'] #remove unknowns from data\n",
    "\n",
    "pohad = noUNK.groupby(['Phase_of_Flight', 'Aircraft_Damage']).size().unstack(fill_value = 0)\n",
    "\n",
    "fig, ax = plt.subplots(figsize=(20, 8))\n",
    "sns.set_palette('mako')\n",
    "\n",
    "plt.xlabel(\"Phase of Flight\")\n",
    "plt.ylabel(\"Aircraft Damage\")\n",
    "#plt.xticks(rotation = 45)\n",
    "plt.title(\"Aircraft Damage vs. Phase of Flight\")\n",
    "\n",
    "pohad.plot(kind = 'bar', stacked = True, ax = ax);"
   ]
  },
  {
   "cell_type": "markdown",
   "metadata": {},
   "source": [
    "## observations \n",
    "the most damage occurs during landing - mostly substantial\n",
    "\tby substantial, damage prohibits the aircraft from flying -- most damage in landing -perhaps landing gear -- must be fixed before flying again  \n",
    "the most destroying damage happend on both cruise, takeoff, and maneuvering\n",
    "no aircrafts (or very little) aircrafts seem to be destroyed during taxi\n",
    "other seems to be least occuring/unrelevant\n",
    "\n"
   ]
  },
  {
   "cell_type": "code",
   "execution_count": 124,
   "metadata": {},
   "outputs": [
    {
     "data": {
      "text/html": [
       "<div>\n",
       "<style scoped>\n",
       "    .dataframe tbody tr th:only-of-type {\n",
       "        vertical-align: middle;\n",
       "    }\n",
       "\n",
       "    .dataframe tbody tr th {\n",
       "        vertical-align: top;\n",
       "    }\n",
       "\n",
       "    .dataframe thead th {\n",
       "        text-align: right;\n",
       "    }\n",
       "</style>\n",
       "<table border=\"1\" class=\"dataframe\">\n",
       "  <thead>\n",
       "    <tr style=\"text-align: right;\">\n",
       "      <th>Aircraft_Damage</th>\n",
       "      <th>Destroyed</th>\n",
       "      <th>Minor</th>\n",
       "      <th>Substantial</th>\n",
       "    </tr>\n",
       "    <tr>\n",
       "      <th>Phase_of_Flight</th>\n",
       "      <th></th>\n",
       "      <th></th>\n",
       "      <th></th>\n",
       "    </tr>\n",
       "  </thead>\n",
       "  <tbody>\n",
       "    <tr>\n",
       "      <th>Approach</th>\n",
       "      <td>1539</td>\n",
       "      <td>142</td>\n",
       "      <td>3615</td>\n",
       "    </tr>\n",
       "    <tr>\n",
       "      <th>Climb</th>\n",
       "      <td>663</td>\n",
       "      <td>93</td>\n",
       "      <td>839</td>\n",
       "    </tr>\n",
       "    <tr>\n",
       "      <th>Cruise</th>\n",
       "      <td>2948</td>\n",
       "      <td>206</td>\n",
       "      <td>5367</td>\n",
       "    </tr>\n",
       "    <tr>\n",
       "      <th>Descent</th>\n",
       "      <td>466</td>\n",
       "      <td>58</td>\n",
       "      <td>945</td>\n",
       "    </tr>\n",
       "    <tr>\n",
       "      <th>Go-around</th>\n",
       "      <td>355</td>\n",
       "      <td>13</td>\n",
       "      <td>859</td>\n",
       "    </tr>\n",
       "    <tr>\n",
       "      <th>Landing</th>\n",
       "      <td>637</td>\n",
       "      <td>283</td>\n",
       "      <td>12537</td>\n",
       "    </tr>\n",
       "    <tr>\n",
       "      <th>Maneuvering</th>\n",
       "      <td>2746</td>\n",
       "      <td>42</td>\n",
       "      <td>3618</td>\n",
       "    </tr>\n",
       "    <tr>\n",
       "      <th>Other</th>\n",
       "      <td>27</td>\n",
       "      <td>8</td>\n",
       "      <td>45</td>\n",
       "    </tr>\n",
       "    <tr>\n",
       "      <th>Standing</th>\n",
       "      <td>91</td>\n",
       "      <td>120</td>\n",
       "      <td>444</td>\n",
       "    </tr>\n",
       "    <tr>\n",
       "      <th>Takeoff</th>\n",
       "      <td>2253</td>\n",
       "      <td>237</td>\n",
       "      <td>7604</td>\n",
       "    </tr>\n",
       "    <tr>\n",
       "      <th>Taxi</th>\n",
       "      <td>49</td>\n",
       "      <td>219</td>\n",
       "      <td>1402</td>\n",
       "    </tr>\n",
       "    <tr>\n",
       "      <th>Unknown</th>\n",
       "      <td>1962</td>\n",
       "      <td>388</td>\n",
       "      <td>12231</td>\n",
       "    </tr>\n",
       "  </tbody>\n",
       "</table>\n",
       "</div>"
      ],
      "text/plain": [
       "Aircraft_Damage  Destroyed  Minor  Substantial\n",
       "Phase_of_Flight                               \n",
       "Approach              1539    142         3615\n",
       "Climb                  663     93          839\n",
       "Cruise                2948    206         5367\n",
       "Descent                466     58          945\n",
       "Go-around              355     13          859\n",
       "Landing                637    283        12537\n",
       "Maneuvering           2746     42         3618\n",
       "Other                   27      8           45\n",
       "Standing                91    120          444\n",
       "Takeoff               2253    237         7604\n",
       "Taxi                    49    219         1402\n",
       "Unknown               1962    388        12231"
      ]
     },
     "execution_count": 124,
     "metadata": {},
     "output_type": "execute_result"
    }
   ],
   "source": [
    "#make pivot table - perhaps for csv export?\n",
    "\n",
    "POH_damage = pd.pivot_table(planesII, columns = ['Aircraft_Damage'], index = 'Phase_of_Flight', aggfunc = 'size')\n",
    "\n",
    "#convert to dataframe\n",
    "#\n",
    "POH_damage_df = POH_damage.reset_index()\n",
    "POH_damage_df = POH_damage_df.set_index('Phase_of_Flight')\n",
    "\n",
    "#drop unknown column\n",
    "POH_damage_df.drop(columns = 'Unknown', inplace = True)\n",
    "\n",
    "#check\n",
    "POH_damage_df\n",
    "\n"
   ]
  },
  {
   "cell_type": "markdown",
   "metadata": {},
   "source": [
    "## Plot Injuries by Phase of Flight"
   ]
  },
  {
   "cell_type": "code",
   "execution_count": null,
   "metadata": {},
   "outputs": [],
   "source": [
    "#make total injuries column\n",
    "planes['Total_Injuries'] = (planes['Total_Fatal_Injuries'] + \n",
    "                                  planes['Total_Minor_Injuries'] +\n",
    "                                 planes['Total_Serious_Injuries'])\n",
    "\n",
    "#check\n",
    "planes.head()"
   ]
  },
  {
   "cell_type": "code",
   "execution_count": 142,
   "metadata": {
    "scrolled": false
   },
   "outputs": [
    {
     "data": {
      "text/plain": [
       "0.0      38307\n",
       "1.0      13452\n",
       "2.0       8911\n",
       "3.0       2618\n",
       "4.0       1863\n",
       "         ...  \n",
       "171.0        1\n",
       "97.0         1\n",
       "101.0        1\n",
       "275.0        1\n",
       "53.0         1\n",
       "Name: Total_Injuries, Length: 101, dtype: int64"
      ]
     },
     "execution_count": 142,
     "metadata": {},
     "output_type": "execute_result"
    }
   ],
   "source": [
    "#Should we group this in any way?\n",
    "#planesII['Total_Injuries'] = planes['Total_Injuries'].value_counts().loc[lambda x: x > 5]\n",
    "\n",
    "\n",
    "planesII['Total_Injuries'].value_counts()"
   ]
  },
  {
   "cell_type": "code",
   "execution_count": 145,
   "metadata": {
    "scrolled": false
   },
   "outputs": [
    {
     "data": {
      "image/png": "[encoded data removed]",
      "text/plain": [
       "<Figure size 864x432 with 1 Axes>"
      ]
     },
     "metadata": {
      "needs_background": "light"
     },
     "output_type": "display_data"
    }
   ],
   "source": [
    "#plot injuries by phase of flight\n",
    "noUNK = planes[planes['Phase_of_Flight'] != 'Unknown'] #remove unknowns from data\n",
    "\n",
    "pohti = noUNK.groupby(['Phase_of_Flight', 'Total_Injuries']).size().unstack(fill_value = 0)\n",
    "\n",
    "fig, ax = plt.subplots(figsize= (12, 6))\n",
    "\n",
    "pohti.plot(kind = 'bar', stacked = True, ax = ax, legend = None);\n",
    "\n",
    "plt.xlabel(\"Phase of Flight\")\n",
    "plt.ylabel(\"Total Injuries\")\n",
    "#plt.xticks(rotation = 45)\n",
    "plt.title(\"Total Injuries vs. Phase of Flight\");\n",
    "\n",
    "#make 4 subplots?"
   ]
  },
  {
   "cell_type": "markdown",
   "metadata": {},
   "source": [
    "## Aircraft Make by Injuries"
   ]
  },
  {
   "cell_type": "code",
   "execution_count": 34,
   "metadata": {
    "scrolled": false
   },
   "outputs": [
    {
     "data": {
      "text/plain": [
       "0.0      0.575146\n",
       "1.0      0.201970\n",
       "2.0      0.133791\n",
       "3.0      0.039307\n",
       "4.0      0.027971\n",
       "           ...   \n",
       "171.0    0.000015\n",
       "97.0     0.000015\n",
       "101.0    0.000015\n",
       "275.0    0.000015\n",
       "53.0     0.000015\n",
       "Name: Total_Injuries, Length: 101, dtype: float64"
      ]
     },
     "execution_count": 34,
     "metadata": {},
     "output_type": "execute_result"
    }
   ],
   "source": [
    "planesII['Total_Injuries'].value_counts()"
   ]
  },
  {
   "cell_type": "code",
   "execution_count": 146,
   "metadata": {
    "scrolled": false
   },
   "outputs": [
    {
     "data": {
      "image/png": "[encoded data removed]",
      "text/plain": [
       "<Figure size 864x432 with 1 Axes>"
      ]
     },
     "metadata": {
      "needs_background": "light"
     },
     "output_type": "display_data"
    }
   ],
   "source": [
    "#most dangerous pivot table\n",
    "Inj_Make_Pivot = pd.pivot_table(planesII, values = ['Total_Injuries'], index = 'Make')\n",
    "sorted_IM_Pivot = Inj_Make_Pivot.apply(lambda x: x.sort_values(ascending = False).head(10))\n",
    "\n",
    "#create dataframe from pivot table\n",
    "DangerMake = {\n",
    "    'Make': ['Airbus', 'Mcdonnell douglas', 'Lockheed', 'Douglas', \n",
    "             'Boeing', 'Embraer', 'Aerospatiale', 'Fairchild', 'De havilland', 'Eurocopter'],\n",
    "    'Total_Injuries': [6.277978, 5.475379, 5.187500, 4.893939, 4.540573, 2.721212, \n",
    "                       1.843666, 1.632653, 1.577608, 1.564767]\n",
    "}\n",
    "plt.figure(figsize=(12,6))\n",
    "sns.barplot(x = 'Make', y = 'Total_Injuries', data = DangerMake, palette = 'mako')\n",
    "plt.xlabel('Aircraft Make')\n",
    "plt.ylabel('Total Injuries')\n",
    "plt.title('Top 10 Most Dangerous Aircrafts: Total Injuries by Make');\n",
    "\n",
    "#add values if easy\n",
    "\n",
    "#combine the mcdonnell and douglas"
   ]
  },
  {
   "cell_type": "markdown",
   "metadata": {},
   "source": [
    "Observations: Across the data, Airbus had the highest average injuries of 6.277\n",
    "\tthe highest averages seem to be popular aircraft companies/larger airplanes. That may accounts for the skew for higher total average \n",
    "    \teurocopter = airbus but still in data? need clarification on what model is (cause for further investigation)\n"
   ]
  },
  {
   "cell_type": "code",
   "execution_count": 157,
   "metadata": {
    "scrolled": false
   },
   "outputs": [
    {
     "data": {
      "image/png": "[encoded data removed]",
      "text/plain": [
       "<Figure size 864x432 with 1 Axes>"
      ]
     },
     "metadata": {
      "needs_background": "light"
     },
     "output_type": "display_data"
    }
   ],
   "source": [
    "#least dangerous pivot table\n",
    "least_injured = pd.pivot_table(planesII, values = ['Total_Injuries'], index = 'Make')\n",
    "sorted_least_injured = least_injured.apply(lambda x: x.sort_values(ascending = True).head(10))\n",
    "sorted_least_injured\n",
    "\n",
    "#create dataframe from pivot table\n",
    "\n",
    "least_inj_df = sorted_least_injured.reset_index()\n",
    "least_inj_df = least_inj_df.set_index('Make')\n",
    "\n",
    "\n",
    "\n",
    "fix, ax = plt.subplots(figsize=(12,6))\n",
    "sns.set_palette = 'mako'\n",
    "\n",
    "least_inj_df.plot(kind = 'bar', stacked = False, ax = ax)\n",
    "\n",
    "plt.xlabel('Aircraft Make')\n",
    "plt.ylabel('Total Injuries')\n",
    "plt.title('Top 10 Safest Aircrafts: Total Injuries by Make');\n",
    "#plt.xticks(rotation=45);"
   ]
  },
  {
   "cell_type": "markdown",
   "metadata": {},
   "source": [
    "Observations: \n",
    "    Grummen-schwelzer with the least amount of injuries\n",
    "    difference between top 10 and bottom 10 is > 5 average injuries\n",
    "    Air tractor = farming plane not passenger plane\n",
    "    these aircraft companies could make smaller passenger planes overall which account for their low average injuries\n",
    "    Some helicopter companies in the mix"
   ]
  },
  {
   "cell_type": "markdown",
   "metadata": {},
   "source": [
    "## Aircraft Damage by Aircraft Make"
   ]
  },
  {
   "cell_type": "code",
   "execution_count": 85,
   "metadata": {},
   "outputs": [
    {
     "data": {
      "text/html": [
       "<div>\n",
       "<style scoped>\n",
       "    .dataframe tbody tr th:only-of-type {\n",
       "        vertical-align: middle;\n",
       "    }\n",
       "\n",
       "    .dataframe tbody tr th {\n",
       "        vertical-align: top;\n",
       "    }\n",
       "\n",
       "    .dataframe thead th {\n",
       "        text-align: right;\n",
       "    }\n",
       "</style>\n",
       "<table border=\"1\" class=\"dataframe\">\n",
       "  <thead>\n",
       "    <tr style=\"text-align: right;\">\n",
       "      <th></th>\n",
       "      <th>Event_Id</th>\n",
       "      <th>Accident_Number</th>\n",
       "      <th>Event_Date</th>\n",
       "      <th>Location</th>\n",
       "      <th>Country</th>\n",
       "      <th>Injury_Severity</th>\n",
       "      <th>Aircraft_Damage</th>\n",
       "      <th>Make</th>\n",
       "      <th>Model</th>\n",
       "      <th>Number_of_Engines</th>\n",
       "      <th>...</th>\n",
       "      <th>Purpose_of_flight</th>\n",
       "      <th>Total_Fatal_Injuries</th>\n",
       "      <th>Total_Serious_Injuries</th>\n",
       "      <th>Total_Minor_Injuries</th>\n",
       "      <th>Total_Uninjured</th>\n",
       "      <th>Weather_Condition</th>\n",
       "      <th>Phase_of_Flight</th>\n",
       "      <th>Report_Status</th>\n",
       "      <th>Make_Model</th>\n",
       "      <th>Total_Injuries</th>\n",
       "    </tr>\n",
       "  </thead>\n",
       "  <tbody>\n",
       "    <tr>\n",
       "      <th>0</th>\n",
       "      <td>20001218X45444</td>\n",
       "      <td>SEA87LA080</td>\n",
       "      <td>1948-10-24</td>\n",
       "      <td>MOOSE CREEK, ID</td>\n",
       "      <td>United States</td>\n",
       "      <td>Fatal</td>\n",
       "      <td>Destroyed</td>\n",
       "      <td>Stinson</td>\n",
       "      <td>108-3</td>\n",
       "      <td>1.0</td>\n",
       "      <td>...</td>\n",
       "      <td>Personal</td>\n",
       "      <td>2.0</td>\n",
       "      <td>0.0</td>\n",
       "      <td>0.0</td>\n",
       "      <td>0.0</td>\n",
       "      <td>UNK</td>\n",
       "      <td>Cruise</td>\n",
       "      <td>Probable Cause</td>\n",
       "      <td>Stinson 108-3</td>\n",
       "      <td>2.0</td>\n",
       "    </tr>\n",
       "    <tr>\n",
       "      <th>1</th>\n",
       "      <td>20001218X45447</td>\n",
       "      <td>LAX94LA336</td>\n",
       "      <td>1962-07-19</td>\n",
       "      <td>BRIDGEPORT, CA</td>\n",
       "      <td>United States</td>\n",
       "      <td>Fatal</td>\n",
       "      <td>Destroyed</td>\n",
       "      <td>Piper</td>\n",
       "      <td>PA24-180</td>\n",
       "      <td>1.0</td>\n",
       "      <td>...</td>\n",
       "      <td>Personal</td>\n",
       "      <td>4.0</td>\n",
       "      <td>0.0</td>\n",
       "      <td>0.0</td>\n",
       "      <td>0.0</td>\n",
       "      <td>UNK</td>\n",
       "      <td>Unknown</td>\n",
       "      <td>Probable Cause</td>\n",
       "      <td>Piper PA24-180</td>\n",
       "      <td>4.0</td>\n",
       "    </tr>\n",
       "    <tr>\n",
       "      <th>2</th>\n",
       "      <td>20061025X01555</td>\n",
       "      <td>NYC07LA005</td>\n",
       "      <td>1974-08-30</td>\n",
       "      <td>SALTVILLE, VA</td>\n",
       "      <td>United States</td>\n",
       "      <td>Fatal</td>\n",
       "      <td>Destroyed</td>\n",
       "      <td>Cessna</td>\n",
       "      <td>172M</td>\n",
       "      <td>1.0</td>\n",
       "      <td>...</td>\n",
       "      <td>Personal</td>\n",
       "      <td>3.0</td>\n",
       "      <td>0.0</td>\n",
       "      <td>0.0</td>\n",
       "      <td>0.0</td>\n",
       "      <td>IMC</td>\n",
       "      <td>Cruise</td>\n",
       "      <td>Probable Cause</td>\n",
       "      <td>Cessna 172M</td>\n",
       "      <td>3.0</td>\n",
       "    </tr>\n",
       "    <tr>\n",
       "      <th>3</th>\n",
       "      <td>20001218X45448</td>\n",
       "      <td>LAX96LA321</td>\n",
       "      <td>1977-06-19</td>\n",
       "      <td>EUREKA, CA</td>\n",
       "      <td>United States</td>\n",
       "      <td>Fatal</td>\n",
       "      <td>Destroyed</td>\n",
       "      <td>Rockwell</td>\n",
       "      <td>112</td>\n",
       "      <td>1.0</td>\n",
       "      <td>...</td>\n",
       "      <td>Personal</td>\n",
       "      <td>2.0</td>\n",
       "      <td>0.0</td>\n",
       "      <td>0.0</td>\n",
       "      <td>0.0</td>\n",
       "      <td>IMC</td>\n",
       "      <td>Cruise</td>\n",
       "      <td>Probable Cause</td>\n",
       "      <td>Rockwell 112</td>\n",
       "      <td>2.0</td>\n",
       "    </tr>\n",
       "    <tr>\n",
       "      <th>4</th>\n",
       "      <td>20170710X52551</td>\n",
       "      <td>NYC79AA106</td>\n",
       "      <td>1979-09-17</td>\n",
       "      <td>BOSTON, MA</td>\n",
       "      <td>United States</td>\n",
       "      <td>Non-Fatal</td>\n",
       "      <td>Substantial</td>\n",
       "      <td>Mcdonnell douglas</td>\n",
       "      <td>DC9</td>\n",
       "      <td>2.0</td>\n",
       "      <td>...</td>\n",
       "      <td>Unknown</td>\n",
       "      <td>0.0</td>\n",
       "      <td>0.0</td>\n",
       "      <td>1.0</td>\n",
       "      <td>44.0</td>\n",
       "      <td>VMC</td>\n",
       "      <td>Climb</td>\n",
       "      <td>Probable Cause</td>\n",
       "      <td>Mcdonnell douglas DC9</td>\n",
       "      <td>1.0</td>\n",
       "    </tr>\n",
       "  </tbody>\n",
       "</table>\n",
       "<p>5 rows × 21 columns</p>\n",
       "</div>"
      ],
      "text/plain": [
       "         Event_Id Accident_Number  Event_Date         Location        Country  \\\n",
       "0  20001218X45444      SEA87LA080  1948-10-24  MOOSE CREEK, ID  United States   \n",
       "1  20001218X45447      LAX94LA336  1962-07-19   BRIDGEPORT, CA  United States   \n",
       "2  20061025X01555      NYC07LA005  1974-08-30    SALTVILLE, VA  United States   \n",
       "3  20001218X45448      LAX96LA321  1977-06-19       EUREKA, CA  United States   \n",
       "4  20170710X52551      NYC79AA106  1979-09-17       BOSTON, MA  United States   \n",
       "\n",
       "  Injury_Severity Aircraft_Damage               Make     Model  \\\n",
       "0           Fatal       Destroyed            Stinson     108-3   \n",
       "1           Fatal       Destroyed              Piper  PA24-180   \n",
       "2           Fatal       Destroyed             Cessna      172M   \n",
       "3           Fatal       Destroyed           Rockwell       112   \n",
       "4       Non-Fatal     Substantial  Mcdonnell douglas       DC9   \n",
       "\n",
       "  Number_of_Engines  ... Purpose_of_flight Total_Fatal_Injuries  \\\n",
       "0               1.0  ...          Personal                  2.0   \n",
       "1               1.0  ...          Personal                  4.0   \n",
       "2               1.0  ...          Personal                  3.0   \n",
       "3               1.0  ...          Personal                  2.0   \n",
       "4               2.0  ...           Unknown                  0.0   \n",
       "\n",
       "   Total_Serious_Injuries  Total_Minor_Injuries  Total_Uninjured  \\\n",
       "0                     0.0                   0.0              0.0   \n",
       "1                     0.0                   0.0              0.0   \n",
       "2                     0.0                   0.0              0.0   \n",
       "3                     0.0                   0.0              0.0   \n",
       "4                     0.0                   1.0             44.0   \n",
       "\n",
       "   Weather_Condition Phase_of_Flight   Report_Status             Make_Model  \\\n",
       "0                UNK          Cruise  Probable Cause          Stinson 108-3   \n",
       "1                UNK         Unknown  Probable Cause         Piper PA24-180   \n",
       "2                IMC          Cruise  Probable Cause            Cessna 172M   \n",
       "3                IMC          Cruise  Probable Cause           Rockwell 112   \n",
       "4                VMC           Climb  Probable Cause  Mcdonnell douglas DC9   \n",
       "\n",
       "  Total_Injuries  \n",
       "0            2.0  \n",
       "1            4.0  \n",
       "2            3.0  \n",
       "3            2.0  \n",
       "4            1.0  \n",
       "\n",
       "[5 rows x 21 columns]"
      ]
     },
     "execution_count": 85,
     "metadata": {},
     "output_type": "execute_result"
    }
   ],
   "source": [
    "planesII.head()"
   ]
  },
  {
   "cell_type": "code",
   "execution_count": 128,
   "metadata": {},
   "outputs": [
    {
     "data": {
      "text/html": [
       "<div>\n",
       "<style scoped>\n",
       "    .dataframe tbody tr th:only-of-type {\n",
       "        vertical-align: middle;\n",
       "    }\n",
       "\n",
       "    .dataframe tbody tr th {\n",
       "        vertical-align: top;\n",
       "    }\n",
       "\n",
       "    .dataframe thead th {\n",
       "        text-align: right;\n",
       "    }\n",
       "</style>\n",
       "<table border=\"1\" class=\"dataframe\">\n",
       "  <thead>\n",
       "    <tr style=\"text-align: right;\">\n",
       "      <th>Aircraft_Damage</th>\n",
       "      <th>Destroyed</th>\n",
       "      <th>Minor</th>\n",
       "      <th>Substantial</th>\n",
       "    </tr>\n",
       "    <tr>\n",
       "      <th>Make</th>\n",
       "      <th></th>\n",
       "      <th></th>\n",
       "      <th></th>\n",
       "    </tr>\n",
       "  </thead>\n",
       "  <tbody>\n",
       "    <tr>\n",
       "      <th>Aero commander</th>\n",
       "      <td>137.0</td>\n",
       "      <td>5.0</td>\n",
       "      <td>266.0</td>\n",
       "    </tr>\n",
       "    <tr>\n",
       "      <th>Aeronca</th>\n",
       "      <td>91.0</td>\n",
       "      <td>5.0</td>\n",
       "      <td>514.0</td>\n",
       "    </tr>\n",
       "    <tr>\n",
       "      <th>Aerospatiale</th>\n",
       "      <td>104.0</td>\n",
       "      <td>21.0</td>\n",
       "      <td>221.0</td>\n",
       "    </tr>\n",
       "    <tr>\n",
       "      <th>Air tractor</th>\n",
       "      <td>151.0</td>\n",
       "      <td>12.0</td>\n",
       "      <td>672.0</td>\n",
       "    </tr>\n",
       "    <tr>\n",
       "      <th>Airbus</th>\n",
       "      <td>13.0</td>\n",
       "      <td>78.0</td>\n",
       "      <td>45.0</td>\n",
       "    </tr>\n",
       "  </tbody>\n",
       "</table>\n",
       "</div>"
      ],
      "text/plain": [
       "Aircraft_Damage  Destroyed  Minor  Substantial\n",
       "Make                                          \n",
       "Aero commander       137.0    5.0        266.0\n",
       "Aeronca               91.0    5.0        514.0\n",
       "Aerospatiale         104.0   21.0        221.0\n",
       "Air tractor          151.0   12.0        672.0\n",
       "Airbus                13.0   78.0         45.0"
      ]
     },
     "execution_count": 128,
     "metadata": {},
     "output_type": "execute_result"
    }
   ],
   "source": [
    "#most dangerous pivot table\n",
    "most_damage = pd.pivot_table(planesII, columns = ['Aircraft_Damage'], index = 'Make', aggfunc = 'size')\n",
    "\n",
    "#convert to dataframe\n",
    "most_damage_df = most_damage.reset_index()\n",
    "most_damage_df = most_damage_df.set_index('Make')\n",
    "most_damage_df[[\"Destroyed\",\"Minor\",\"Substantial\"]] = most_damage_df[[\"Destroyed\",\"Minor\",\"Substantial\"]].fillna(0)\n",
    "\n",
    "#drop unknown column\n",
    "most_damage_df.drop(columns = 'Unknown', inplace = True)\n",
    "\n",
    "\n",
    "#create top 10 and bottom 10\n",
    "\n",
    "\n",
    "#normalize columns\n",
    "\n",
    "\n",
    "#create normalized total column\n",
    "\n",
    "\n",
    "#check\n",
    "most_damage_df.head()"
   ]
  },
  {
   "cell_type": "code",
   "execution_count": 160,
   "metadata": {
    "scrolled": false
   },
   "outputs": [
    {
     "data": {
      "text/plain": [
       "Text(0.5, 1.0, 'Aircraft Damage by Make')"
      ]
     },
     "execution_count": 160,
     "metadata": {},
     "output_type": "execute_result"
    },
    {
     "data": {
      "text/plain": [
       "<Figure size 864x576 with 0 Axes>"
      ]
     },
     "metadata": {},
     "output_type": "display_data"
    },
    {
     "data": {
      "image/png": "[encoded data removed]",
      "text/plain": [
       "<Figure size 1440x576 with 1 Axes>"
      ]
     },
     "metadata": {
      "needs_background": "light"
     },
     "output_type": "display_data"
    }
   ],
   "source": [
    "# plot \n",
    "\n",
    "plt.figure(figsize=(12,8))\n",
    "\n",
    "ax = most_damage_df.plot(kind = 'bar', stacked = True, figsize = (20,8))\n",
    "plt.xlabel('Aircraft Make')\n",
    "plt.ylabel('Damage')\n",
    "plt.title('Aircraft Damage by Make')\n",
    "#sns.set_palette('mako');\n",
    "\n",
    "#plt.xticks(rotation=45);"
   ]
  },
  {
   "cell_type": "markdown",
   "metadata": {},
   "source": [
    "Observations:\n",
    "    Cessna and Piper have the highest number of damage reports"
   ]
  },
  {
   "cell_type": "markdown",
   "metadata": {},
   "source": [
    "# Safety Scoring"
   ]
  },
  {
   "cell_type": "code",
   "execution_count": 26,
   "metadata": {},
   "outputs": [],
   "source": [
    "#Copy Planes for the purposes of trying things\n",
    "planesII = planes.copy()"
   ]
  },
  {
   "cell_type": "code",
   "execution_count": 27,
   "metadata": {},
   "outputs": [
    {
     "data": {
      "text/plain": [
       "152                  2325\n",
       "172                  1615\n",
       "172N                 1136\n",
       "PA-28-140             898\n",
       "150                   787\n",
       "                     ... \n",
       "C-12C                   1\n",
       "A-320-212               1\n",
       "T-34C                   1\n",
       "316B ALOUETTE III       1\n",
       "At-301                  1\n",
       "Name: Model, Length: 5248, dtype: int64"
      ]
     },
     "execution_count": 27,
     "metadata": {},
     "output_type": "execute_result"
    }
   ],
   "source": [
    "planesII.head()\n",
    "planesII['Injury_Severity'].value_counts()\n",
    "planesII['Model'].value_counts()"
   ]
  },
  {
   "cell_type": "code",
   "execution_count": 144,
   "metadata": {
    "scrolled": true
   },
   "outputs": [
    {
     "data": {
      "text/plain": [
       "Cessna 152              2325\n",
       "Cessna 172              1612\n",
       "Cessna 172N             1135\n",
       "Piper PA-28-140          898\n",
       "Cessna 150               787\n",
       "                        ... \n",
       "Piper PA 32R 301T          1\n",
       "Stinson SR-8E              1\n",
       "Cessna 182 P               1\n",
       "Piper PA-J3C-65            1\n",
       "Burkhart grob BG 103       1\n",
       "Name: Make_Model, Length: 5529, dtype: int64"
      ]
     },
     "execution_count": 144,
     "metadata": {},
     "output_type": "execute_result"
    }
   ],
   "source": [
    "#points dictionary\n",
    "#weather = {'IMC': 2, 'VCM': 1}\n",
    "#engine = {most risky engine to least risky engine}\n",
    "#severity = {'Fatal': 5, 'Serious': 4, 'Incident': 3, 'Minor': 2, 'Non-Fatal': 1}\n",
    "#damage = {'Destroyed': 3, 'Substantial': 2, 'Minor': 1}\n",
    "\n",
    "\n",
    "planesII['Make_Model'].value_counts()"
   ]
  },
  {
   "cell_type": "code",
   "execution_count": null,
   "metadata": {},
   "outputs": [],
   "source": [
    "#apply point system to injury severity and damage columns, create safety score\n",
    "planesII['Damage_Score'] = planesII['Aircraft_Damage'].map(damage)\n",
    "planesII['Injury_Score'] = planesII['Injury_Severity'].map(severity)\n",
    "planesII['Weather_Score'] = planesII['Weather --'].map(weather)\n",
    "planesII['Engine_Score'] = planesII['Engine--'].map(engine)\n",
    "\n",
    "planesII['Safety_Score'] = planesII['Injury_Score'] + planesII['Damage_Score']\n",
    "\n",
    "#should we normalize other damage and injury scores?\n",
    "\n",
    "#check\n",
    "planesII.head()"
   ]
  },
  {
   "cell_type": "code",
   "execution_count": 117,
   "metadata": {},
   "outputs": [],
   "source": [
    "#Delete all unavailable rows?\n",
    "planesII = planesII[planesII[\"Injury_Severity\"] != 'Unavailable']"
   ]
  }
 ],
 "metadata": {
  "kernelspec": {
   "display_name": "Python (learn-env)",
   "language": "python",
   "name": "learn-env"
  },
  "language_info": {
   "codemirror_mode": {
    "name": "ipython",
    "version": 3
   },
   "file_extension": ".py",
   "mimetype": "text/x-python",
   "name": "python",
   "nbconvert_exporter": "python",
   "pygments_lexer": "ipython3",
   "version": "3.8.5"
  }
 },
 "nbformat": 4,
 "nbformat_minor": 4
}
