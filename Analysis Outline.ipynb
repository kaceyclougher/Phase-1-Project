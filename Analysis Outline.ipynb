{
 "cells": [
  {
   "cell_type": "markdown",
   "metadata": {},
   "source": [
    "# Have the safety protocols improved improve flight safety? Does it decrease over time? Are there any years where it spikes?"
   ]
  },
  {
   "cell_type": "markdown",
   "metadata": {},
   "source": [
    "## Analysis "
   ]
  },
  {
   "cell_type": "markdown",
   "metadata": {},
   "source": [
    "## Deniz\n",
    "\n",
    "**Have the safety protocols improved improve flight safety? Does it decrease over time? Are there any years where it spikes?**\n",
    "\n",
    "\t\n",
    "    #Event_Date\n",
    "  \n",
    "  Compare with damage\n",
    "    \n",
    "    #Aircraft_damage\n",
    "\n",
    "    \n",
    "  Compare with injuries\n",
    "    \n",
    "\t#Total_Fatal_Injuries\n",
    "\t#Total_Serious_Injuries\n",
    "\t#Total_Minor_Injuries\n",
    "\t#Total_Uninjured\n",
    "    \n",
    "    #Injury_severity"
   ]
  },
  {
   "cell_type": "markdown",
   "metadata": {},
   "source": [
    "## Notes\n",
    "seaborn's version of barplot\n",
    "before and after safety commission\n",
    " number of injuries - as y :: Conduct groupby agg for us, calculate error/uncertainty"
   ]
  },
  {
   "cell_type": "markdown",
   "metadata": {},
   "source": [
    "## Kacey\n",
    "\n",
    "\n",
    "**At what point of the flight is the most damage occuring?**\n",
    "\n",
    "  Compare with damage\n",
    "    \n",
    "    #Aircraft_damage\n",
    "\n",
    "    \n",
    "**At what point of the flight are the most injuries occuring?**\n",
    "\n",
    "\t#Total_Fatal_Injuries\n",
    "\t#Total_Serious_Injuries\n",
    "\t#Total_Minor_Injuries\n",
    "\t#Total_Uninjured\n",
    "    \n",
    "    #Injury_severity\n",
    "    \n",
    "    "
   ]
  },
  {
   "cell_type": "code",
   "execution_count": null,
   "metadata": {},
   "outputs": [],
   "source": []
  },
  {
   "cell_type": "markdown",
   "metadata": {},
   "source": [
    "## Irwin\n",
    "\n",
    "**Is there any correlation between weather and accidents?\n",
    "Weather that produces most accidents**\n",
    "\n",
    "  Compare with damage\n",
    "    \n",
    "    #Aircraft_damage\n",
    "\n",
    "    \n",
    "  Compare with injuries\n",
    "    \n",
    "\t#Total_Fatal_Injuries\n",
    "\t#Total_Serious_Injuries\n",
    "\t#Total_Minor_Injuries\n",
    "\t#Total_Uninjured\n",
    "    \n",
    "    #Injury_severity"
   ]
  },
  {
   "cell_type": "code",
   "execution_count": null,
   "metadata": {},
   "outputs": [],
   "source": []
  },
  {
   "cell_type": "markdown",
   "metadata": {},
   "source": [
    "## Irwin\n",
    "\n",
    "**Is there a correlation between engine type and accidents? Do accidents decrease with a certain engine type?**\n",
    "\t\n",
    "    -Engine Type\n",
    "\n",
    "\t#Amateur_Built     - maybe drop ? filtering commercial, private,          \n",
    "\t#Number_of_Engines          \n",
    "\t#Engine_Type  \n"
   ]
  },
  {
   "cell_type": "markdown",
   "metadata": {},
   "source": [
    "comparing flight type"
   ]
  },
  {
   "cell_type": "markdown",
   "metadata": {},
   "source": [
    "## Collaborative\n",
    "\n",
    "\n",
    "**What is the safest aircraft for the company to purchase?**\n",
    "\n",
    "-really basic \n",
    "-identify common make and models\n",
    "\n",
    "Scoring system? safety is make/model average aircraft damage and injuries after accident\n",
    "\n",
    "\tDamage\n",
    "    \tDestroyed - Not repairable: 3 Points\n",
    "        Substantial: 2 Points\n",
    "        Minor - Easily repairable: 1 Point\n",
    "    \n",
    "    Injuries\n",
    "    \tFatal: 2 points\n",
    "        Non-fatal: 1\n",
    "        \n",
    "Lowest score = safest aircraft\n",
    "        "
   ]
  },
  {
   "cell_type": "code",
   "execution_count": 1,
   "metadata": {},
   "outputs": [
    {
     "ename": "NameError",
     "evalue": "name 'planes' is not defined",
     "output_type": "error",
     "traceback": [
      "\u001b[0;31m---------------------------------------------------------------------------\u001b[0m",
      "\u001b[0;31mNameError\u001b[0m                                 Traceback (most recent call last)",
      "\u001b[0;32m<ipython-input-1-98832f51f58c>\u001b[0m in \u001b[0;36m<module>\u001b[0;34m\u001b[0m\n\u001b[1;32m      1\u001b[0m \u001b[0;31m#first make all injuries atal or non-fatal\u001b[0m\u001b[0;34m\u001b[0m\u001b[0;34m\u001b[0m\u001b[0;34m\u001b[0m\u001b[0m\n\u001b[0;32m----> 2\u001b[0;31m \u001b[0mplanesII\u001b[0m \u001b[0;34m=\u001b[0m \u001b[0mplanes\u001b[0m\u001b[0;34m.\u001b[0m\u001b[0mcopy\u001b[0m\u001b[0;34m(\u001b[0m\u001b[0;34m)\u001b[0m\u001b[0;34m\u001b[0m\u001b[0;34m\u001b[0m\u001b[0m\n\u001b[0m",
      "\u001b[0;31mNameError\u001b[0m: name 'planes' is not defined"
     ]
    }
   ],
   "source": [
    "#first make all injuries atal or non-fatal\n",
    "planesII = planes.copy()"
   ]
  },
  {
   "cell_type": "code",
   "execution_count": null,
   "metadata": {},
   "outputs": [],
   "source": []
  }
 ],
 "metadata": {
  "kernelspec": {
<<<<<<< HEAD

=======
>>>>>>> master
   "display_name": "Python (learn-env)",
   "language": "python",
   "name": "learn-env"
  },
  "language_info": {
   "codemirror_mode": {
    "name": "ipython",
    "version": 3
   },
   "file_extension": ".py",
   "mimetype": "text/x-python",
   "name": "python",
   "nbconvert_exporter": "python",
   "pygments_lexer": "ipython3",
<<<<<<< HEAD

=======
>>>>>>> master
   "version": "3.8.5"
  }
 },
 "nbformat": 4,
 "nbformat_minor": 4
}
